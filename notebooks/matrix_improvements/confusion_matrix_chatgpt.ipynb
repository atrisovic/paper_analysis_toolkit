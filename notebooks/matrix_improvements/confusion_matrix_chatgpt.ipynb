{
 "cells": [
  {
   "cell_type": "markdown",
   "metadata": {},
   "source": [
    "# Imports and Constants"
   ]
  },
  {
   "cell_type": "code",
   "execution_count": 230,
   "metadata": {},
   "outputs": [],
   "source": [
    "lazy_copy = 'labeled_samples_2024-08-09 11/24/00'\n",
    "\n",
    "import pandas as pd\n",
    "from tqdm import tqdm\n",
    "import numpy as np\n",
    "from datetime import datetime\n",
    "import os\n",
    "from sklearn.metrics import confusion_matrix\n",
    "import matplotlib.pyplot as plt\n",
    "import seaborn as sns\n",
    "import numpy as np\n",
    "from math import floor\n",
    "import regex as re\n",
    "from collections import Counter\n",
    "from utils import prompt, update_labels, master_path, get_answer_vector, hash_dataframe\n",
    "import json\n",
    "\n",
    "\n",
    "\n",
    "\n",
    "mapping = lambda s: {'background': 'context',\n",
    "                     'future_work': 'context',\n",
    "                    'differences': 'context',\n",
    "                     'future work': 'context',\n",
    "                     'motivation': 'context',\n",
    "                     'similarities': 'context',\n",
    "                     'extends': 'uses',\n",
    "                     '*': 'context'\n",
    "                     }.get(s) or s\n",
    "\n",
    "seed = 42 #np.random.randint(0, 100)"
   ]
  },
  {
   "cell_type": "markdown",
   "metadata": {},
   "source": [
    "# Load existing results"
   ]
  },
  {
   "cell_type": "code",
   "execution_count": 231,
   "metadata": {},
   "outputs": [
    {
     "name": "stdout",
     "output_type": "stream",
     "text": [
      "519\n"
     ]
    },
    {
     "data": {
      "text/html": [
       "<div>\n",
       "<style scoped>\n",
       "    .dataframe tbody tr th:only-of-type {\n",
       "        vertical-align: middle;\n",
       "    }\n",
       "\n",
       "    .dataframe tbody tr th {\n",
       "        vertical-align: top;\n",
       "    }\n",
       "\n",
       "    .dataframe thead th {\n",
       "        text-align: right;\n",
       "    }\n",
       "</style>\n",
       "<table border=\"1\" class=\"dataframe\">\n",
       "  <thead>\n",
       "    <tr style=\"text-align: right;\">\n",
       "      <th></th>\n",
       "      <th>modelKey</th>\n",
       "      <th>paperId</th>\n",
       "      <th>modelId</th>\n",
       "      <th>multisentence</th>\n",
       "      <th>alex</th>\n",
       "      <th>mc</th>\n",
       "      <th>mc_reduced</th>\n",
       "      <th>mcllmr</th>\n",
       "      <th>mcllm_binary</th>\n",
       "      <th>urop</th>\n",
       "      <th>assignee</th>\n",
       "      <th>strippedModelKey</th>\n",
       "      <th>answer_vector</th>\n",
       "      <th>answer_string</th>\n",
       "      <th>learned_classification</th>\n",
       "    </tr>\n",
       "  </thead>\n",
       "  <tbody>\n",
       "    <tr>\n",
       "      <th>275</th>\n",
       "      <td>1093_adam_(cifar-10)</td>\n",
       "      <td>2734fb70be037cd6ab90677d24416c48b6d1bde3</td>\n",
       "      <td>NaN</td>\n",
       "      <td>input video clips of size \\(224\\times 224\\) ar...</td>\n",
       "      <td>uses</td>\n",
       "      <td>NaN</td>\n",
       "      <td>NaN</td>\n",
       "      <td>NaN</td>\n",
       "      <td>NaN</td>\n",
       "      <td>NaN</td>\n",
       "      <td>NaN</td>\n",
       "      <td>adam_(cifar-10)</td>\n",
       "      <td>[0 0 0 0 0 0 0 0 0 1 0 0 0 0 0 1 0 0 0 1 0 0 0...</td>\n",
       "      <td>[{\"explanation\": \"The sentence mentions 'adam'...</td>\n",
       "      <td>context</td>\n",
       "    </tr>\n",
       "    <tr>\n",
       "      <th>93</th>\n",
       "      <td>432_word2vec_(small)</td>\n",
       "      <td>682ee9c06f3eff3e3708b4d0419dc85ecf9c6c87</td>\n",
       "      <td>NaN</td>\n",
       "      <td>7 provides a conclusion. ##  2 related work\\n\\...</td>\n",
       "      <td>background</td>\n",
       "      <td>NaN</td>\n",
       "      <td>NaN</td>\n",
       "      <td>NaN</td>\n",
       "      <td>NaN</td>\n",
       "      <td>NaN</td>\n",
       "      <td>NaN</td>\n",
       "      <td>word2vec_(small)</td>\n",
       "      <td>[0 0 1 0 0 1 0 0 0 1 0 0 1 0 0 0 0 0 0 0 0 0 0...</td>\n",
       "      <td>[{\"explanation\": \"The CITING authors mention w...</td>\n",
       "      <td>context</td>\n",
       "    </tr>\n",
       "    <tr>\n",
       "      <th>6</th>\n",
       "      <td>1064_bert-large</td>\n",
       "      <td>889c9c37634766b3543424ac6955811f83f260e0</td>\n",
       "      <td>df2b0e26d0599ce3e70df8a9da02e51594e0e992</td>\n",
       "      <td>##  1 introduction\\n\\nthere have been exciting...</td>\n",
       "      <td>background</td>\n",
       "      <td>background</td>\n",
       "      <td>context</td>\n",
       "      <td>background</td>\n",
       "      <td>background</td>\n",
       "      <td>Background</td>\n",
       "      <td>Selinna</td>\n",
       "      <td>bert-large</td>\n",
       "      <td>[0 0 0 0 0 0 0 0 0 0 0 0 0 0 0 0 0 0 0 0 0 0 0...</td>\n",
       "      <td>[{\"explanation\": \"The CITING authors mention t...</td>\n",
       "      <td>context</td>\n",
       "    </tr>\n",
       "    <tr>\n",
       "      <th>167</th>\n",
       "      <td>867_alexnet</td>\n",
       "      <td>b8b02fb31168d53796bf5a8977ab26ee4c004dd5</td>\n",
       "      <td>abd1c342495432171beb7ca8fd9551ef13cbd0ff</td>\n",
       "      <td>differently, we target at full 4-bit quantizat...</td>\n",
       "      <td>uses</td>\n",
       "      <td>uses</td>\n",
       "      <td>uses</td>\n",
       "      <td>background</td>\n",
       "      <td>uses</td>\n",
       "      <td>Extends</td>\n",
       "      <td>Denis</td>\n",
       "      <td>alexnet</td>\n",
       "      <td>[0 0 0 0 0 0 0 0 0 0 0 0 0 0 0 0 0 0 0 0 0 0 0...</td>\n",
       "      <td>[{\"explanation\": \"The CITING paper mentions th...</td>\n",
       "      <td>context</td>\n",
       "    </tr>\n",
       "    <tr>\n",
       "      <th>90</th>\n",
       "      <td>237_resnet-50_billion-scale</td>\n",
       "      <td>0bcca9138d916f6f694e1d89c3db0a74dba6c51a</td>\n",
       "      <td>NaN</td>\n",
       "      <td>3. we conduct sufficient experiments to verify...</td>\n",
       "      <td>similarities</td>\n",
       "      <td>NaN</td>\n",
       "      <td>NaN</td>\n",
       "      <td>NaN</td>\n",
       "      <td>NaN</td>\n",
       "      <td>NaN</td>\n",
       "      <td>NaN</td>\n",
       "      <td>resnet-50_billion-scale</td>\n",
       "      <td>[0 0 0 0 0 0 0 0 0 0 0 0 0 0 0 0 0 0 0 0 1 1 0...</td>\n",
       "      <td>[{\"explanation\": \"The CITING authors mention a...</td>\n",
       "      <td>context</td>\n",
       "    </tr>\n",
       "  </tbody>\n",
       "</table>\n",
       "</div>"
      ],
      "text/plain": [
       "                        modelKey                                   paperId  \\\n",
       "275         1093_adam_(cifar-10)  2734fb70be037cd6ab90677d24416c48b6d1bde3   \n",
       "93          432_word2vec_(small)  682ee9c06f3eff3e3708b4d0419dc85ecf9c6c87   \n",
       "6                1064_bert-large  889c9c37634766b3543424ac6955811f83f260e0   \n",
       "167                  867_alexnet  b8b02fb31168d53796bf5a8977ab26ee4c004dd5   \n",
       "90   237_resnet-50_billion-scale  0bcca9138d916f6f694e1d89c3db0a74dba6c51a   \n",
       "\n",
       "                                      modelId  \\\n",
       "275                                       NaN   \n",
       "93                                        NaN   \n",
       "6    df2b0e26d0599ce3e70df8a9da02e51594e0e992   \n",
       "167  abd1c342495432171beb7ca8fd9551ef13cbd0ff   \n",
       "90                                        NaN   \n",
       "\n",
       "                                         multisentence          alex  \\\n",
       "275  input video clips of size \\(224\\times 224\\) ar...          uses   \n",
       "93   7 provides a conclusion. ##  2 related work\\n\\...    background   \n",
       "6    ##  1 introduction\\n\\nthere have been exciting...    background   \n",
       "167  differently, we target at full 4-bit quantizat...          uses   \n",
       "90   3. we conduct sufficient experiments to verify...  similarities   \n",
       "\n",
       "             mc mc_reduced      mcllmr mcllm_binary        urop assignee  \\\n",
       "275         NaN        NaN         NaN          NaN         NaN      NaN   \n",
       "93          NaN        NaN         NaN          NaN         NaN      NaN   \n",
       "6    background    context  background   background  Background  Selinna   \n",
       "167        uses       uses  background         uses     Extends    Denis   \n",
       "90          NaN        NaN         NaN          NaN         NaN      NaN   \n",
       "\n",
       "            strippedModelKey  \\\n",
       "275          adam_(cifar-10)   \n",
       "93          word2vec_(small)   \n",
       "6                 bert-large   \n",
       "167                  alexnet   \n",
       "90   resnet-50_billion-scale   \n",
       "\n",
       "                                         answer_vector  \\\n",
       "275  [0 0 0 0 0 0 0 0 0 1 0 0 0 0 0 1 0 0 0 1 0 0 0...   \n",
       "93   [0 0 1 0 0 1 0 0 0 1 0 0 1 0 0 0 0 0 0 0 0 0 0...   \n",
       "6    [0 0 0 0 0 0 0 0 0 0 0 0 0 0 0 0 0 0 0 0 0 0 0...   \n",
       "167  [0 0 0 0 0 0 0 0 0 0 0 0 0 0 0 0 0 0 0 0 0 0 0...   \n",
       "90   [0 0 0 0 0 0 0 0 0 0 0 0 0 0 0 0 0 0 0 0 1 1 0...   \n",
       "\n",
       "                                         answer_string learned_classification  \n",
       "275  [{\"explanation\": \"The sentence mentions 'adam'...                context  \n",
       "93   [{\"explanation\": \"The CITING authors mention w...                context  \n",
       "6    [{\"explanation\": \"The CITING authors mention t...                context  \n",
       "167  [{\"explanation\": \"The CITING paper mentions th...                context  \n",
       "90   [{\"explanation\": \"The CITING authors mention a...                context  "
      ]
     },
     "execution_count": 231,
     "metadata": {},
     "output_type": "execute_result"
    }
   ],
   "source": [
    "\n",
    "other_path = f'~/Desktop/2. FutureTech/uniform_sample/results/{lazy_copy.replace('/',':')}.csv'\n",
    "\n",
    "df = pd.read_csv(other_path)\n",
    "df = df.sort_values(by = 'multisentence').reset_index(drop = True)\n",
    "\n",
    "df = df.sample(frac=1, random_state = seed)\n",
    "\n",
    "\n",
    "print(len(df))\n",
    "df.head()"
   ]
  },
  {
   "cell_type": "code",
   "execution_count": 232,
   "metadata": {},
   "outputs": [
    {
     "data": {
      "text/plain": [
       "Counter({'background': 265,\n",
       "         'uses': 111,\n",
       "         'similarities': 77,\n",
       "         'extends': 38,\n",
       "         'differences': 13,\n",
       "         'motivation': 10,\n",
       "         '*': 4,\n",
       "         'future work': 1})"
      ]
     },
     "execution_count": 232,
     "metadata": {},
     "output_type": "execute_result"
    }
   ],
   "source": [
    "Counter(df['alex'])"
   ]
  },
  {
   "cell_type": "markdown",
   "metadata": {},
   "source": [
    "# Parse outputs, generate confusion matrices"
   ]
  },
  {
   "cell_type": "code",
   "execution_count": 233,
   "metadata": {},
   "outputs": [],
   "source": [
    "background_mask = np.array([1,1,1,1,1,   0,0,0,0,0,   0,0,0,0,0,  1,1])\n",
    "uses_mask = np.array([0,0,0,0,0,   0,1,1,1,1,   1,1,0,0,0,   0,0])\n",
    "extends_mask = np.array([0,0,0,0,0,   0,0,0,0,0,   0,0,1,1,0,   0,0])\n",
    "\n",
    "\n",
    "def get_truth(r, verbose = False, background_mask = background_mask, uses_mask = uses_mask, extends_mask = extends_mask):\n",
    "    assert(len(background_mask) == len(uses_mask) and len(uses_mask) == len(extends_mask))\n",
    "    answer_vector = get_answer_vector(r, length = len(background_mask))\n",
    "    \n",
    "    if answer_vector is None:\n",
    "        return None\n",
    "    \n",
    "    resolve = lambda mask: np.array([{(0,1):0, (0,0): 0, (0, -1): 1, (1,1):1, (1,0) : 0, (1, -1): 0}[(x,y)] for x,y in zip(answer_vector, mask)]).sum()\n",
    "    \n",
    "    background =  resolve(background_mask)\n",
    "    uses = resolve(uses_mask)\n",
    "    fine_tune = resolve(extends_mask)\n",
    "\n",
    "    \n",
    "    if (verbose):\n",
    "        print(answer_vector)\n",
    "        print(f\"bg: {background}, uses: {uses}, extends: {fine_tune}\", flush = True)\n",
    "        \n",
    "    if answer_vector[3]:\n",
    "        return 'background'\n",
    "\n",
    "    if fine_tune:\n",
    "        return 'extends'\n",
    "    \n",
    "    if uses:\n",
    "        return 'uses'\n",
    "    \n",
    "    return 'background'\n",
    "\n",
    "#df['gpt-vector'] = df[label_col].apply(get_truth)\n",
    "#print(set(df['gpt-vector']))\n",
    "\n",
    "for idx, row in df.iterrows():\n",
    "    continue\n",
    "    if (row['gpt-vector'] is None):\n",
    "        print(row['multisentence'])\n",
    "        print(row['gpt-vector'])\n",
    "        print(\"\\n\")"
   ]
  },
  {
   "cell_type": "code",
   "execution_count": 234,
   "metadata": {},
   "outputs": [],
   "source": [
    "y_label, x_label = 'alex', 'learned_classification'"
   ]
  },
  {
   "cell_type": "code",
   "execution_count": 235,
   "metadata": {},
   "outputs": [
    {
     "name": "stdout",
     "output_type": "stream",
     "text": [
      "Labels hash: b'=\\xabg\\x14\\x9c\\x88\\xa5\\xea\\x8b2#)\\x94Aq0'\n",
      "Class hash: b'\\x1c\\xfdE\\x814DL\\xd8\\xef\\xa0\\x8b\\\\\\x9f\\xd3\\r\\xa3'\n",
      "{'uses', 'context'} {'uses', 'context'}\n",
      "Accuracy 0.6994219653179191\n",
      "\n",
      "Uses false positive: 0.4782608695652174\n",
      "Uses false negative: 0.7735849056603774\n",
      "\n",
      "Extends false positive: 0.4782608695652174\n",
      "Extends false negative: 0.7735849056603774\n"
     ]
    },
    {
     "data": {
      "text/plain": [
       "Text(50.722222222222214, 0.5, 'alex')"
      ]
     },
     "execution_count": 235,
     "metadata": {},
     "output_type": "execute_result"
    },
    {
     "data": {
      "image/png": "[encoded data removed]",
      "text/plain": [
       "<Figure size 640x480 with 2 Axes>"
      ]
     },
     "metadata": {},
     "output_type": "display_data"
    }
   ],
   "source": [
    "split = floor(2/3 * len(df))\n",
    "test_mode = True\n",
    "\n",
    "true = df[y_label][split:] if test_mode else df[y_label][:split]\n",
    "pred = df[x_label][split:] if test_mode else df[x_label][:split]\n",
    "\n",
    "print(f\"Labels hash: {hash_dataframe(list(true))}\")\n",
    "print(f\"Class hash: {hash_dataframe(list(pred))}\")\n",
    "\n",
    "\n",
    "true, pred = list(map(mapping, true)), list(map(mapping, pred))\n",
    "\n",
    "\n",
    "\n",
    "cm = confusion_matrix(true, pred)\n",
    "print(set(true), set(pred))\n",
    "labels = sorted(list({mapping(item) for item in ['background', 'extends', 'uses']}))\n",
    "\n",
    "diagonal = cm * np.identity(len(labels))\n",
    "false_positives = (cm - diagonal).sum(axis = 0)/cm.sum(axis = 0)\n",
    "false_negatives = (cm - diagonal).sum(axis = 1)/cm.sum(axis = 1)\n",
    "accuracy = diagonal.sum() / cm.sum()\n",
    "\n",
    "print(f\"Accuracy {accuracy}\\n\")\n",
    "print(f\"Uses false positive: {false_positives[-1]}\")\n",
    "print(f\"Uses false negative: {false_negatives[-1]}\\n\")\n",
    "print(f\"Extends false positive: {false_positives[1]}\")\n",
    "print(f\"Extends false negative: {false_negatives[1]}\")\n",
    "\n",
    "\n",
    "sns.heatmap(cm, annot=True, fmt='d', cmap='Blues', xticklabels=labels, yticklabels=labels)\n",
    "plt.title(\"Test Set Confusion Matrix with Fixed Threshold\")\n",
    "plt.xlabel(x_label)\n",
    "plt.ylabel(y_label)\n"
   ]
  },
  {
   "cell_type": "code",
   "execution_count": 236,
   "metadata": {},
   "outputs": [
    {
     "ename": "Exception",
     "evalue": "",
     "output_type": "error",
     "traceback": [
      "\u001b[0;31m---------------------------------------------------------------------------\u001b[0m",
      "\u001b[0;31mException\u001b[0m                                 Traceback (most recent call last)",
      "Cell \u001b[0;32mIn[236], line 1\u001b[0m\n\u001b[0;32m----> 1\u001b[0m \u001b[38;5;28;01mraise\u001b[39;00m \u001b[38;5;167;01mException\u001b[39;00m\n",
      "\u001b[0;31mException\u001b[0m: "
     ]
    }
   ],
   "source": [
    "raise Exception"
   ]
  },
  {
   "cell_type": "markdown",
   "metadata": {},
   "source": [
    "# Inspect Confusion Matrix\n",
    "## Get samples, option to relabel"
   ]
  },
  {
   "cell_type": "code",
   "execution_count": null,
   "metadata": {},
   "outputs": [
    {
     "data": {
      "text/html": [
       "<div>\n",
       "<style scoped>\n",
       "    .dataframe tbody tr th:only-of-type {\n",
       "        vertical-align: middle;\n",
       "    }\n",
       "\n",
       "    .dataframe tbody tr th {\n",
       "        vertical-align: top;\n",
       "    }\n",
       "\n",
       "    .dataframe thead th {\n",
       "        text-align: right;\n",
       "    }\n",
       "</style>\n",
       "<table border=\"1\" class=\"dataframe\">\n",
       "  <thead>\n",
       "    <tr style=\"text-align: right;\">\n",
       "      <th></th>\n",
       "      <th>modelKey</th>\n",
       "      <th>paperId</th>\n",
       "      <th>modelId</th>\n",
       "      <th>multisentence</th>\n",
       "      <th>alex</th>\n",
       "      <th>mc</th>\n",
       "      <th>mc_reduced</th>\n",
       "      <th>mcllmr</th>\n",
       "      <th>mcllm_binary</th>\n",
       "      <th>urop</th>\n",
       "      <th>assignee</th>\n",
       "      <th>strippedModelKey</th>\n",
       "      <th>answer_vector</th>\n",
       "      <th>answer_string</th>\n",
       "      <th>learned_classification</th>\n",
       "    </tr>\n",
       "  </thead>\n",
       "  <tbody>\n",
       "    <tr>\n",
       "      <th>2</th>\n",
       "      <td>582_bart-large</td>\n",
       "      <td>9e06248853f41ab547814fed70e640eba44764cf</td>\n",
       "      <td>395de0bd3837fdf4b4b5e5f04835bcc69c279481</td>\n",
       "      <td>in this work, we focus on the task of evaluati...</td>\n",
       "      <td>background</td>\n",
       "      <td>extends</td>\n",
       "      <td>extends</td>\n",
       "      <td>differences</td>\n",
       "      <td>context</td>\n",
       "      <td>Uses</td>\n",
       "      <td>Selinna</td>\n",
       "      <td>bart-large</td>\n",
       "      <td>[0.9  0.9  0.8  0.4  0.8  0.6  0.2  0.9  0.8  ...</td>\n",
       "      <td>[{\"explanation\": \"The CITING paper mentions us...</td>\n",
       "      <td>uses</td>\n",
       "    </tr>\n",
       "    <tr>\n",
       "      <th>20</th>\n",
       "      <td>266_retinanet-r50</td>\n",
       "      <td>13e00df54d82cebee2b9f76d346e47304f4c7308</td>\n",
       "      <td>NaN</td>\n",
       "      <td>in the figure, our gated slices are color-code...</td>\n",
       "      <td>background</td>\n",
       "      <td>NaN</td>\n",
       "      <td>NaN</td>\n",
       "      <td>NaN</td>\n",
       "      <td>NaN</td>\n",
       "      <td>NaN</td>\n",
       "      <td>NaN</td>\n",
       "      <td>retinanet-r50</td>\n",
       "      <td>[0.8  0.8  0.8  0.2  0.9  0.4  0.2  0.6  0.3  ...</td>\n",
       "      <td>[{\"explanation\": \"The CITING paper mentions th...</td>\n",
       "      <td>uses</td>\n",
       "    </tr>\n",
       "    <tr>\n",
       "      <th>114</th>\n",
       "      <td>120_mobilenet</td>\n",
       "      <td>74487ea7c7a27a1a45c5a4dc306aea47cef0238d</td>\n",
       "      <td>NaN</td>\n",
       "      <td>9: learned data processing aims to learn a pol...</td>\n",
       "      <td>background</td>\n",
       "      <td>NaN</td>\n",
       "      <td>NaN</td>\n",
       "      <td>NaN</td>\n",
       "      <td>NaN</td>\n",
       "      <td>NaN</td>\n",
       "      <td>NaN</td>\n",
       "      <td>mobilenet</td>\n",
       "      <td>[0.4  0.4  0.4  0.4  0.4  0.4  0.3  0.4  0.4  ...</td>\n",
       "      <td>[{\"explanation\": \"The CITING paper mentions th...</td>\n",
       "      <td>uses</td>\n",
       "    </tr>\n",
       "    <tr>\n",
       "      <th>168</th>\n",
       "      <td>1064_bert-large</td>\n",
       "      <td>710b37f5b26669e08517bdfc616e700cd67cea1a</td>\n",
       "      <td>df2b0e26d0599ce3e70df8a9da02e51594e0e992</td>\n",
       "      <td>next let us define the relative stock price mo...</td>\n",
       "      <td>background</td>\n",
       "      <td>uses</td>\n",
       "      <td>uses</td>\n",
       "      <td>background</td>\n",
       "      <td>uses</td>\n",
       "      <td>Extends</td>\n",
       "      <td>Selinna</td>\n",
       "      <td>bert-large</td>\n",
       "      <td>[0.9  0.9  0.8  0.6  0.4  0.4  0.4  0.9  0.6  ...</td>\n",
       "      <td>[{\"explanation\": \"The CITING paper mentions th...</td>\n",
       "      <td>uses</td>\n",
       "    </tr>\n",
       "    <tr>\n",
       "      <th>174</th>\n",
       "      <td>852_t5-3b</td>\n",
       "      <td>a8fd9c1625011741f74401ff9bdc1c584e25c86d</td>\n",
       "      <td>NaN</td>\n",
       "      <td>clark et al (2020) introduce the replaced toke...</td>\n",
       "      <td>background</td>\n",
       "      <td>NaN</td>\n",
       "      <td>NaN</td>\n",
       "      <td>NaN</td>\n",
       "      <td>NaN</td>\n",
       "      <td>NaN</td>\n",
       "      <td>NaN</td>\n",
       "      <td>t5-3b</td>\n",
       "      <td>[0.9  0.8  0.4  0.3  0.4  0.6  0.2  0.3  0.4  ...</td>\n",
       "      <td>[{\"explanation\": \"The CITING paper mentions th...</td>\n",
       "      <td>uses</td>\n",
       "    </tr>\n",
       "  </tbody>\n",
       "</table>\n",
       "</div>"
      ],
      "text/plain": [
       "              modelKey                                   paperId  \\\n",
       "2       582_bart-large  9e06248853f41ab547814fed70e640eba44764cf   \n",
       "20   266_retinanet-r50  13e00df54d82cebee2b9f76d346e47304f4c7308   \n",
       "114      120_mobilenet  74487ea7c7a27a1a45c5a4dc306aea47cef0238d   \n",
       "168    1064_bert-large  710b37f5b26669e08517bdfc616e700cd67cea1a   \n",
       "174          852_t5-3b  a8fd9c1625011741f74401ff9bdc1c584e25c86d   \n",
       "\n",
       "                                      modelId  \\\n",
       "2    395de0bd3837fdf4b4b5e5f04835bcc69c279481   \n",
       "20                                        NaN   \n",
       "114                                       NaN   \n",
       "168  df2b0e26d0599ce3e70df8a9da02e51594e0e992   \n",
       "174                                       NaN   \n",
       "\n",
       "                                         multisentence        alex       mc  \\\n",
       "2    in this work, we focus on the task of evaluati...  background  extends   \n",
       "20   in the figure, our gated slices are color-code...  background      NaN   \n",
       "114  9: learned data processing aims to learn a pol...  background      NaN   \n",
       "168  next let us define the relative stock price mo...  background     uses   \n",
       "174  clark et al (2020) introduce the replaced toke...  background      NaN   \n",
       "\n",
       "    mc_reduced       mcllmr mcllm_binary     urop assignee strippedModelKey  \\\n",
       "2      extends  differences      context     Uses  Selinna       bart-large   \n",
       "20         NaN          NaN          NaN      NaN      NaN    retinanet-r50   \n",
       "114        NaN          NaN          NaN      NaN      NaN        mobilenet   \n",
       "168       uses   background         uses  Extends  Selinna       bert-large   \n",
       "174        NaN          NaN          NaN      NaN      NaN            t5-3b   \n",
       "\n",
       "                                         answer_vector  \\\n",
       "2    [0.9  0.9  0.8  0.4  0.8  0.6  0.2  0.9  0.8  ...   \n",
       "20   [0.8  0.8  0.8  0.2  0.9  0.4  0.2  0.6  0.3  ...   \n",
       "114  [0.4  0.4  0.4  0.4  0.4  0.4  0.3  0.4  0.4  ...   \n",
       "168  [0.9  0.9  0.8  0.6  0.4  0.4  0.4  0.9  0.6  ...   \n",
       "174  [0.9  0.8  0.4  0.3  0.4  0.6  0.2  0.3  0.4  ...   \n",
       "\n",
       "                                         answer_string learned_classification  \n",
       "2    [{\"explanation\": \"The CITING paper mentions us...                   uses  \n",
       "20   [{\"explanation\": \"The CITING paper mentions th...                   uses  \n",
       "114  [{\"explanation\": \"The CITING paper mentions th...                   uses  \n",
       "168  [{\"explanation\": \"The CITING paper mentions th...                   uses  \n",
       "174  [{\"explanation\": \"The CITING paper mentions th...                   uses  "
      ]
     },
     "execution_count": 29,
     "metadata": {},
     "output_type": "execute_result"
    }
   ],
   "source": [
    "def get_examples(y_value, x_value):\n",
    "    mask = (df[y_label].apply(mapping) == y_value) & (df[x_label].apply(mapping) == x_value) \n",
    "    return df[mask]\n",
    "\n",
    "idx = -1\n",
    "samples = get_examples(y_value='context', x_value = 'uses')\n",
    "samples.head()"
   ]
  },
  {
   "cell_type": "code",
   "execution_count": null,
   "metadata": {},
   "outputs": [
    {
     "name": "stdout",
     "output_type": "stream",
     "text": [
      "-1 487\n",
      "Drawing from 26 samples\n",
      "103_r-cnn_(t-net)\n",
      "#### 4.2.1 bounding-box-like object detectors\n",
      "\n",
      "the most popular architectures for 2d object detection in images are single stage and double stage detectors. popular single stage detectors are _\"you only look once\"_ (yolo) [36][50][51], the _single shot multibox detector_ (ssd) [52], cornernet [37] and refinenet [38]. double stage detectors, such as rcnn <cite>[53]</cite>, faster-rcnn [54], or r-fcn [41], split the object detection process into two parts: region of interest candidates proposals and bounding boxes classification.\n"
     ]
    },
    {
     "ename": "ValueError",
     "evalue": "could not convert string to float: ''",
     "output_type": "error",
     "traceback": [
      "\u001b[0;31m---------------------------------------------------------------------------\u001b[0m",
      "\u001b[0;31mValueError\u001b[0m                                Traceback (most recent call last)",
      "Cell \u001b[0;32mIn[31], line 8\u001b[0m\n\u001b[1;32m      4\u001b[0m \u001b[38;5;28mprint\u001b[39m(samples[\u001b[38;5;124m'\u001b[39m\u001b[38;5;124mmodelKey\u001b[39m\u001b[38;5;124m'\u001b[39m]\u001b[38;5;241m.\u001b[39miloc[idx])\n\u001b[1;32m      6\u001b[0m \u001b[38;5;28mprint\u001b[39m(samples[\u001b[38;5;124m'\u001b[39m\u001b[38;5;124mmultisentence\u001b[39m\u001b[38;5;124m'\u001b[39m]\u001b[38;5;241m.\u001b[39miloc[idx])\n\u001b[0;32m----> 8\u001b[0m vector \u001b[38;5;241m=\u001b[39m [\u001b[38;5;28mfloat\u001b[39m(el) \u001b[38;5;28;01mfor\u001b[39;00m el \u001b[38;5;129;01min\u001b[39;00m samples[\u001b[38;5;124m'\u001b[39m\u001b[38;5;124manswer_vector\u001b[39m\u001b[38;5;124m'\u001b[39m]\u001b[38;5;241m.\u001b[39miloc[idx][\u001b[38;5;241m1\u001b[39m:\u001b[38;5;241m-\u001b[39m\u001b[38;5;241m1\u001b[39m]\u001b[38;5;241m.\u001b[39msplit(\u001b[38;5;124m'\u001b[39m\u001b[38;5;124m \u001b[39m\u001b[38;5;124m'\u001b[39m)]\n\u001b[1;32m      9\u001b[0m \u001b[38;5;28mprint\u001b[39m(vector)\n\u001b[1;32m     10\u001b[0m one_indices \u001b[38;5;241m=\u001b[39m [i \u001b[38;5;28;01mfor\u001b[39;00m i \u001b[38;5;129;01min\u001b[39;00m \u001b[38;5;28mrange\u001b[39m(\u001b[38;5;28mlen\u001b[39m(vector)) \u001b[38;5;28;01mif\u001b[39;00m vector[i] \u001b[38;5;241m==\u001b[39m \u001b[38;5;241m1\u001b[39m]\n",
      "\u001b[0;31mValueError\u001b[0m: could not convert string to float: ''"
     ]
    }
   ],
   "source": [
    "index = samples.index[idx]\n",
    "print(idx, index)\n",
    "print(f\"Drawing from {len(samples)} samples\")\n",
    "print(samples['modelKey'].iloc[idx])\n",
    "\n",
    "print(samples['multisentence'].iloc[idx])\n",
    "\n",
    "vector = [float(el) for el in samples['answer_vector'].iloc[idx][1:-1].split(' ')]\n",
    "print(vector)\n",
    "one_indices = [i for i in range(len(vector)) if vector[i] == 1]\n",
    "one_idx = 1\n",
    "print(one_indices[one_idx], json.loads(samples['answer_string'].iloc[idx])[one_indices[one_idx]])\n",
    "\n",
    "print(samples[y_label].iloc[idx])\n",
    "print(samples[x_label].iloc[idx])"
   ]
  },
  {
   "cell_type": "code",
   "execution_count": null,
   "metadata": {},
   "outputs": [
    {
     "name": "stdout",
     "output_type": "stream",
     "text": [
      "##  4 experimental setup\n",
      "\n",
      "this section describes in detail the experimental setup for collecting data and the set of conducted deep net profiling experiments. to enforce the generality of the proposed approach, different open source frameworks and multiple nns have been considered. the adopted frameworks are _pytorch 0.3.1_paszke et al (2017); pytorch (2018) and _tensorflow 1.8.0_abadi et al (2016); tensorflow (2018), while the trained cnns are alexnet krizhevsky et al (2012), resnet-50 he et al (2015), and vgg-19 <cite>simonyan and zisserman (2014)</cite>, whose implementations are already available within the considered frameworks.\n"
     ]
    }
   ],
   "source": [
    "df_temp = pd.read_csv(master_path + '.csv')\n",
    "assert(df_temp['multisentence'].loc[index] == df['multisentence'].loc[index])\n",
    "print(df_temp['multisentence'].loc[index])\n",
    "reclass = input()\n",
    "\n",
    "if (len(reclass) > 0):\n",
    "    df_temp['alex2'].loc[index] = reclass\n",
    "    df_temp.to_csv(master_path + '.csv', index = False)"
   ]
  },
  {
   "cell_type": "markdown",
   "metadata": {},
   "source": [
    "# Reprompt on samples"
   ]
  },
  {
   "cell_type": "code",
   "execution_count": null,
   "metadata": {},
   "outputs": [
    {
     "name": "stderr",
     "output_type": "stream",
     "text": [
      "  0%|          | 0/2 [00:00<?, ?it/s]\n"
     ]
    },
    {
     "ename": "NameError",
     "evalue": "name 'MULTIPROMPT' is not defined",
     "output_type": "error",
     "traceback": [
      "\u001b[0;31m---------------------------------------------------------------------------\u001b[0m",
      "\u001b[0;31mNameError\u001b[0m                                 Traceback (most recent call last)",
      "Cell \u001b[0;32mIn[189], line 5\u001b[0m\n\u001b[1;32m      2\u001b[0m \u001b[38;5;28;01mif\u001b[39;00m (retry_sample):\n\u001b[1;32m      3\u001b[0m     \u001b[38;5;28;01mfor\u001b[39;00m idx \u001b[38;5;129;01min\u001b[39;00m tqdm(samples\u001b[38;5;241m.\u001b[39mindex):    \n\u001b[1;32m      4\u001b[0m         df[label_col]\u001b[38;5;241m.\u001b[39mat[idx] \u001b[38;5;241m=\u001b[39m prompt(\n\u001b[0;32m----> 5\u001b[0m                                     MULTIPROMPT\u001b[38;5;241m.\u001b[39mformat(\n\u001b[1;32m      6\u001b[0m                                             \u001b[38;5;28minput\u001b[39m \u001b[38;5;241m=\u001b[39m df[\u001b[38;5;124m'\u001b[39m\u001b[38;5;124mmultisentence\u001b[39m\u001b[38;5;124m'\u001b[39m]\u001b[38;5;241m.\u001b[39mloc[idx], \n\u001b[1;32m      7\u001b[0m                                             modelKey \u001b[38;5;241m=\u001b[39m df[\u001b[38;5;124m'\u001b[39m\u001b[38;5;124mmodelKeyStriped\u001b[39m\u001b[38;5;124m'\u001b[39m]\u001b[38;5;241m.\u001b[39mloc[idx]))\n\u001b[1;32m      8\u001b[0m CONNECTION_ON \u001b[38;5;241m=\u001b[39m \u001b[38;5;28;01mFalse\u001b[39;00m\n",
      "\u001b[0;31mNameError\u001b[0m: name 'MULTIPROMPT' is not defined"
     ]
    }
   ],
   "source": [
    "retry_sample = True\n",
    "if (retry_sample):\n",
    "    for idx in tqdm(samples.index):    \n",
    "        df[label_col].at[idx] = prompt(\n",
    "                                    MULTIPROMPT.format(\n",
    "                                            input = df['multisentence'].loc[idx], \n",
    "                                            modelKey = df['modelKeyStriped'].loc[idx]))\n",
    "CONNECTION_ON = False"
   ]
  },
  {
   "cell_type": "code",
   "execution_count": null,
   "metadata": {},
   "outputs": [
    {
     "data": {
      "text/plain": [
       "Counter({'uses': 25, 'background': 16, None: 2})"
      ]
     },
     "execution_count": 628,
     "metadata": {},
     "output_type": "execute_result"
    }
   ],
   "source": [
    "Counter([df['gpt-vector'].loc[i] for i in samples.index])"
   ]
  }
 ],
 "metadata": {
  "kernelspec": {
   "display_name": ".venv",
   "language": "python",
   "name": "python3"
  },
  "language_info": {
   "codemirror_mode": {
    "name": "ipython",
    "version": 3
   },
   "file_extension": ".py",
   "mimetype": "text/x-python",
   "name": "python",
   "nbconvert_exporter": "python",
   "pygments_lexer": "ipython3",
   "version": "3.12.2"
  }
 },
 "nbformat": 4,
 "nbformat_minor": 2
}
