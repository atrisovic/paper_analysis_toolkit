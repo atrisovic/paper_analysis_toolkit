{
 "cells": [
  {
   "cell_type": "markdown",
   "metadata": {},
   "source": [
    "# Imports and Constants"
   ]
  },
  {
   "cell_type": "code",
   "execution_count": 1,
   "metadata": {},
   "outputs": [],
   "source": [
    "import numpy as np\n",
    "from datetime import datetime\n",
    "import numpy as np\n",
    "from math import floor\n",
    "from utils import update_labels, master_path, get_answer_vector, hash_dataframe\n",
    "from functools import partial\n",
    "import torch\n",
    "from torch import nn\n",
    "from math import floor, ceil\n",
    "import pandas as pd\n",
    "from collections import Counter\n",
    "from tqdm import tqdm\n",
    "from matplotlib import pyplot as plt\n",
    "\n",
    "\n",
    "CONNECTION_ON = False\n",
    "MODEL = 'gpt-4o'  # 'gpt-4o' 'ollama' 'gpt-3.5-turbo' \n",
    "right_now = datetime.now().replace(microsecond=0, second=0)\n",
    "label_col = 'json_response'\n",
    "device = 'cuda' if torch.cuda.is_available() else 'mps' if torch.backends.mps.is_available() else 'cpu'\n",
    "seed = 42 # np.randint(0, 110)\n",
    "\n",
    "mapping = lambda s: {'background': 'context',\n",
    "                     'future_work': 'context',\n",
    "                    'differences': 'context',\n",
    "                     'future work': 'context',\n",
    "                     'motivation': 'context',\n",
    "                     'similarities': 'context',\n",
    "                     'extends': 'uses',\n",
    "                     '*': 'context'\n",
    "                     }.get(s) or s\n"
   ]
  },
  {
   "cell_type": "markdown",
   "metadata": {},
   "source": [
    "# Load existing or default dataframe, query LLM"
   ]
  },
  {
   "cell_type": "markdown",
   "metadata": {},
   "source": []
  },
  {
   "cell_type": "code",
   "execution_count": 2,
   "metadata": {},
   "outputs": [
    {
     "name": "stdout",
     "output_type": "stream",
     "text": [
      "519\n"
     ]
    },
    {
     "data": {
      "text/html": [
       "<div>\n",
       "<style scoped>\n",
       "    .dataframe tbody tr th:only-of-type {\n",
       "        vertical-align: middle;\n",
       "    }\n",
       "\n",
       "    .dataframe tbody tr th {\n",
       "        vertical-align: top;\n",
       "    }\n",
       "\n",
       "    .dataframe thead th {\n",
       "        text-align: right;\n",
       "    }\n",
       "</style>\n",
       "<table border=\"1\" class=\"dataframe\">\n",
       "  <thead>\n",
       "    <tr style=\"text-align: right;\">\n",
       "      <th></th>\n",
       "      <th>Unnamed: 0.1</th>\n",
       "      <th>sentence</th>\n",
       "      <th>mcllm</th>\n",
       "      <th>modelKey</th>\n",
       "      <th>paperId</th>\n",
       "      <th>modelId_x</th>\n",
       "      <th>mc</th>\n",
       "      <th>modelId_y</th>\n",
       "      <th>mc_reduced</th>\n",
       "      <th>urop_sentence</th>\n",
       "      <th>...</th>\n",
       "      <th>labels</th>\n",
       "      <th>modelTitle</th>\n",
       "      <th>modelId</th>\n",
       "      <th>modelYear</th>\n",
       "      <th>paperYear</th>\n",
       "      <th>pot_extends</th>\n",
       "      <th>prob_extends</th>\n",
       "      <th>modelKeyStriped</th>\n",
       "      <th>json_response</th>\n",
       "      <th>answer_vector</th>\n",
       "    </tr>\n",
       "  </thead>\n",
       "  <tbody>\n",
       "    <tr>\n",
       "      <th>0</th>\n",
       "      <td>275</td>\n",
       "      <td>NaN</td>\n",
       "      <td>NaN</td>\n",
       "      <td>915_gans</td>\n",
       "      <td>9a1c023d80550f899a1e6ebfbc6f3579194634a8</td>\n",
       "      <td>NaN</td>\n",
       "      <td>NaN</td>\n",
       "      <td>NaN</td>\n",
       "      <td>NaN</td>\n",
       "      <td>NaN</td>\n",
       "      <td>...</td>\n",
       "      <td>NaN</td>\n",
       "      <td>NaN</td>\n",
       "      <td>NaN</td>\n",
       "      <td>NaN</td>\n",
       "      <td>NaN</td>\n",
       "      <td>NaN</td>\n",
       "      <td>NaN</td>\n",
       "      <td>gans</td>\n",
       "      <td>{\"answer_1\": \"False\", \"answer_2\": \"False\", \"an...</td>\n",
       "      <td>[0, 0, 0, 0, 1, 1, 0, 0, 0, 0, 0, 0, 0, 0, 0, ...</td>\n",
       "    </tr>\n",
       "    <tr>\n",
       "      <th>1</th>\n",
       "      <td>93</td>\n",
       "      <td>private models were provided by anthropic (mod...</td>\n",
       "      <td>background</td>\n",
       "      <td>529_chinchilla</td>\n",
       "      <td>31d65e179b1d00484154b3525d93846dd82f23d8</td>\n",
       "      <td>8342b592fe238f3d230e4959b06fd10153c45db1</td>\n",
       "      <td>uses</td>\n",
       "      <td>8342b592fe238f3d230e4959b06fd10153c45db1</td>\n",
       "      <td>uses</td>\n",
       "      <td>private models were provided by anthropic (mod...</td>\n",
       "      <td>...</td>\n",
       "      <td>NaN</td>\n",
       "      <td>NaN</td>\n",
       "      <td>NaN</td>\n",
       "      <td>NaN</td>\n",
       "      <td>NaN</td>\n",
       "      <td>NaN</td>\n",
       "      <td>NaN</td>\n",
       "      <td>chinchilla</td>\n",
       "      <td>{\"answer_1\": \"False\", \"answer_2\": \"False\", \"an...</td>\n",
       "      <td>[0, 0, 0, 0, 0, 1, 0, 0, 0, 0, 0, 0, 0, 1, 0, ...</td>\n",
       "    </tr>\n",
       "    <tr>\n",
       "      <th>2</th>\n",
       "      <td>6</td>\n",
       "      <td>considering the first goal, a language model t...</td>\n",
       "      <td>background</td>\n",
       "      <td>529_chinchilla</td>\n",
       "      <td>362cbfd0d05e139cd6cf049754098a6e1520b910</td>\n",
       "      <td>8342b592fe238f3d230e4959b06fd10153c45db1</td>\n",
       "      <td>background</td>\n",
       "      <td>8342b592fe238f3d230e4959b06fd10153c45db1</td>\n",
       "      <td>context</td>\n",
       "      <td>considering the first goal, a language model t...</td>\n",
       "      <td>...</td>\n",
       "      <td>NaN</td>\n",
       "      <td>NaN</td>\n",
       "      <td>NaN</td>\n",
       "      <td>NaN</td>\n",
       "      <td>NaN</td>\n",
       "      <td>NaN</td>\n",
       "      <td>NaN</td>\n",
       "      <td>chinchilla</td>\n",
       "      <td>{\"answer_1\": \"False\", \"answer_2\": \"False\", \"an...</td>\n",
       "      <td>[0, 0, 0, 0, 0, 1, 0, 0, 0, 0, 0, 0, 0, 0, 0, ...</td>\n",
       "    </tr>\n",
       "    <tr>\n",
       "      <th>3</th>\n",
       "      <td>167</td>\n",
       "      <td>our work does not rely on the underlying netwo...</td>\n",
       "      <td>uses</td>\n",
       "      <td>120_mobilenet</td>\n",
       "      <td>a7a8c37d4c3d652ddb53fee6d35c064dae77a986</td>\n",
       "      <td>3647d6d0f151dc05626449ee09cc7bce55be497e</td>\n",
       "      <td>extends</td>\n",
       "      <td>3647d6d0f151dc05626449ee09cc7bce55be497e</td>\n",
       "      <td>extends</td>\n",
       "      <td>our work does not rely on the underlying netwo...</td>\n",
       "      <td>...</td>\n",
       "      <td>NaN</td>\n",
       "      <td>NaN</td>\n",
       "      <td>NaN</td>\n",
       "      <td>NaN</td>\n",
       "      <td>NaN</td>\n",
       "      <td>NaN</td>\n",
       "      <td>NaN</td>\n",
       "      <td>mobilenet</td>\n",
       "      <td>{\"answer_1\": \"False\", \"answer_2\": \"False\", \"an...</td>\n",
       "      <td>[0, 0, 0, 0, 0, 1, 0, 0, 0, 0, 0, 0, 0, 1, 0, ...</td>\n",
       "    </tr>\n",
       "    <tr>\n",
       "      <th>4</th>\n",
       "      <td>90</td>\n",
       "      <td>to alleviate the inconsistence of the pretrain...</td>\n",
       "      <td>uses</td>\n",
       "      <td>1064_bert-large</td>\n",
       "      <td>5c712ffbebac2ac7c50fdc542b9a3fb92d06bfc9</td>\n",
       "      <td>df2b0e26d0599ce3e70df8a9da02e51594e0e992</td>\n",
       "      <td>uses</td>\n",
       "      <td>df2b0e26d0599ce3e70df8a9da02e51594e0e992</td>\n",
       "      <td>uses</td>\n",
       "      <td>to alleviate the inconsistence of the pretrain...</td>\n",
       "      <td>...</td>\n",
       "      <td>NaN</td>\n",
       "      <td>NaN</td>\n",
       "      <td>NaN</td>\n",
       "      <td>NaN</td>\n",
       "      <td>NaN</td>\n",
       "      <td>NaN</td>\n",
       "      <td>NaN</td>\n",
       "      <td>bert-large</td>\n",
       "      <td>{\"answer_1\": \"False\", \"answer_2\": \"False\", \"an...</td>\n",
       "      <td>[0, 0, 0, 0, 0, 1, 1, 1, 1, 0, 0, 0, 0, 1, 0, ...</td>\n",
       "    </tr>\n",
       "  </tbody>\n",
       "</table>\n",
       "<p>5 rows × 31 columns</p>\n",
       "</div>"
      ],
      "text/plain": [
       "   Unnamed: 0.1                                           sentence  \\\n",
       "0           275                                                NaN   \n",
       "1            93  private models were provided by anthropic (mod...   \n",
       "2             6  considering the first goal, a language model t...   \n",
       "3           167  our work does not rely on the underlying netwo...   \n",
       "4            90  to alleviate the inconsistence of the pretrain...   \n",
       "\n",
       "        mcllm         modelKey                                   paperId  \\\n",
       "0         NaN         915_gans  9a1c023d80550f899a1e6ebfbc6f3579194634a8   \n",
       "1  background   529_chinchilla  31d65e179b1d00484154b3525d93846dd82f23d8   \n",
       "2  background   529_chinchilla  362cbfd0d05e139cd6cf049754098a6e1520b910   \n",
       "3        uses    120_mobilenet  a7a8c37d4c3d652ddb53fee6d35c064dae77a986   \n",
       "4        uses  1064_bert-large  5c712ffbebac2ac7c50fdc542b9a3fb92d06bfc9   \n",
       "\n",
       "                                  modelId_x          mc  \\\n",
       "0                                       NaN         NaN   \n",
       "1  8342b592fe238f3d230e4959b06fd10153c45db1        uses   \n",
       "2  8342b592fe238f3d230e4959b06fd10153c45db1  background   \n",
       "3  3647d6d0f151dc05626449ee09cc7bce55be497e     extends   \n",
       "4  df2b0e26d0599ce3e70df8a9da02e51594e0e992        uses   \n",
       "\n",
       "                                  modelId_y mc_reduced  \\\n",
       "0                                       NaN        NaN   \n",
       "1  8342b592fe238f3d230e4959b06fd10153c45db1       uses   \n",
       "2  8342b592fe238f3d230e4959b06fd10153c45db1    context   \n",
       "3  3647d6d0f151dc05626449ee09cc7bce55be497e    extends   \n",
       "4  df2b0e26d0599ce3e70df8a9da02e51594e0e992       uses   \n",
       "\n",
       "                                       urop_sentence  ... labels modelTitle  \\\n",
       "0                                                NaN  ...    NaN        NaN   \n",
       "1  private models were provided by anthropic (mod...  ...    NaN        NaN   \n",
       "2  considering the first goal, a language model t...  ...    NaN        NaN   \n",
       "3  our work does not rely on the underlying netwo...  ...    NaN        NaN   \n",
       "4  to alleviate the inconsistence of the pretrain...  ...    NaN        NaN   \n",
       "\n",
       "  modelId modelYear paperYear pot_extends prob_extends modelKeyStriped  \\\n",
       "0     NaN       NaN       NaN         NaN          NaN            gans   \n",
       "1     NaN       NaN       NaN         NaN          NaN      chinchilla   \n",
       "2     NaN       NaN       NaN         NaN          NaN      chinchilla   \n",
       "3     NaN       NaN       NaN         NaN          NaN       mobilenet   \n",
       "4     NaN       NaN       NaN         NaN          NaN      bert-large   \n",
       "\n",
       "                                       json_response  \\\n",
       "0  {\"answer_1\": \"False\", \"answer_2\": \"False\", \"an...   \n",
       "1  {\"answer_1\": \"False\", \"answer_2\": \"False\", \"an...   \n",
       "2  {\"answer_1\": \"False\", \"answer_2\": \"False\", \"an...   \n",
       "3  {\"answer_1\": \"False\", \"answer_2\": \"False\", \"an...   \n",
       "4  {\"answer_1\": \"False\", \"answer_2\": \"False\", \"an...   \n",
       "\n",
       "                                       answer_vector  \n",
       "0  [0, 0, 0, 0, 1, 1, 0, 0, 0, 0, 0, 0, 0, 0, 0, ...  \n",
       "1  [0, 0, 0, 0, 0, 1, 0, 0, 0, 0, 0, 0, 0, 1, 0, ...  \n",
       "2  [0, 0, 0, 0, 0, 1, 0, 0, 0, 0, 0, 0, 0, 0, 0, ...  \n",
       "3  [0, 0, 0, 0, 0, 1, 0, 0, 0, 0, 0, 0, 0, 1, 0, ...  \n",
       "4  [0, 0, 0, 0, 0, 1, 1, 1, 1, 0, 0, 0, 0, 1, 0, ...  \n",
       "\n",
       "[5 rows x 31 columns]"
      ]
     },
     "execution_count": 2,
     "metadata": {},
     "output_type": "execute_result"
    }
   ],
   "source": [
    "lazy_copy = 'uniform_base_sample_ollama_prompt_2024-07-23 21/53/00'\n",
    "total_questions = 40\n",
    "other_path = f'~/Desktop/2. FutureTech/uniform_sample/results/{lazy_copy.replace('/',':')}.csv'\n",
    "df = pd.read_csv(other_path) #update_labels(other_path, save = True)\n",
    "df = df.sample(frac=1, random_state = seed).reset_index(drop=True)\n",
    "df['answer_vector'] = df['json_response'].apply(partial(get_answer_vector, length = total_questions))\n",
    "#df.rename(columns={'json_booleans':'json_response'}, inplace = True)\n",
    "print(len(df))\n",
    "df.head()\n"
   ]
  },
  {
   "cell_type": "code",
   "execution_count": 3,
   "metadata": {},
   "outputs": [],
   "source": [
    "df = df[df['answer_vector'].notna()]"
   ]
  },
  {
   "cell_type": "code",
   "execution_count": 4,
   "metadata": {},
   "outputs": [
    {
     "name": "stdout",
     "output_type": "stream",
     "text": [
      "Test-train split: 259, 260\n",
      "Training size 399\n"
     ]
    }
   ],
   "source": [
    "split = floor(.5 * len(df))\n",
    "print(f\"Test-train split: {split}, {len(df) - split}\")\n",
    "\n",
    "df_train, df_test = df.iloc[:split], df.iloc[split:]\n",
    "\n",
    " \n",
    "label_mask = lambda s: df_train['alex2'].apply(mapping) == s\n",
    "labels = sorted(list({mapping(item) for item in ['background', 'extends', 'uses']}))\n",
    "per_label_samples = max([len(df_train[label_mask(label)]) for label in labels])\n",
    "per_label_multipliers = [ceil(per_label_samples/len(df_train[label_mask(label)])) for label in labels]\n",
    "\n",
    "\n",
    "#comment out this line to use the original distribution\n",
    "df_train = pd.concat([df_train[label_mask(label)] for label, multiplier in zip(labels, per_label_multipliers) for _ in range(0, multiplier)])\n",
    "print(f\"Training size {len(df_train)}\")"
   ]
  },
  {
   "cell_type": "markdown",
   "metadata": {},
   "source": [
    "# Creating a model!"
   ]
  },
  {
   "cell_type": "code",
   "execution_count": 5,
   "metadata": {},
   "outputs": [
    {
     "name": "stdout",
     "output_type": "stream",
     "text": [
      "Training shape: torch.Size([399, 40]) torch.Size([399, 1])\n",
      "Testing shape: torch.Size([260, 40]) torch.Size([260, 1])\n",
      "Background composition: 0.6961538461538461\n"
     ]
    }
   ],
   "source": [
    "X_train, y_train = (np.random.RandomState(seed=seed).permutation(np.stack(df_train['answer_vector'])), \n",
    "                        np.random.RandomState(seed=seed).permutation(np.array(df_train['alex2'].apply(mapping).apply(lambda s: {'context': 0, 'uses': 1, 'extends': 2}.get(s))))\n",
    "                )\n",
    "\n",
    "X_train = torch.tensor(X_train, dtype = torch.float32)\n",
    "y_train = torch.tensor(y_train, dtype = torch.float32).reshape(-1, 1)\n",
    "\n",
    "\n",
    "X_test = torch.tensor(np.stack(df_test['answer_vector']), dtype = torch.float32)\n",
    "y_test = torch.tensor(np.array(df_test['alex2'].apply(mapping).apply(lambda s: {'context': 0, 'uses': 1, 'extends': 2}.get(s))), dtype = torch.float32).reshape(-1, 1)\n",
    "print(\"Training shape:\", X_train.shape, y_train.shape)\n",
    "print(\"Testing shape:\", X_test.shape, y_test.shape)\n",
    "\n",
    "c = Counter([el.item() for el in y_test])\n",
    "print(f\"Background composition: {c[0]/len(df_test)}\")\n"
   ]
  },
  {
   "cell_type": "code",
   "execution_count": 6,
   "metadata": {},
   "outputs": [
    {
     "name": "stderr",
     "output_type": "stream",
     "text": [
      "/opt/miniconda3/lib/python3.12/site-packages/torch/nn/modules/lazy.py:181: UserWarning: Lazy modules are a new feature under heavy development so changes to the API or functionality can happen at any moment.\n",
      "  warnings.warn('Lazy modules are a new feature under heavy development '\n"
     ]
    }
   ],
   "source": [
    "\n",
    "model = nn.Sequential(\n",
    "        nn.Linear(total_questions, 64), nn.ReLU(),\n",
    "        nn.Dropout(.5),\n",
    "        nn.LazyLinear(32), nn.ReLU(),\n",
    "        nn.Dropout(.5),\n",
    "        nn.LazyLinear(16), nn.ReLU(),\n",
    "        nn.LazyLinear(len(labels)), nn.Softmax(dim = 1)\n",
    ")\n",
    "\n",
    "\n",
    "\n",
    "loss_fn = nn.CrossEntropyLoss()\n",
    "\n",
    "model = model.to(device) # device = 'mps'\n",
    "X_train, y_train = X_train.to(device), y_train.to(device)\n",
    "X_test, y_test = X_test.to(device), y_test.to(device)"
   ]
  },
  {
   "cell_type": "code",
   "execution_count": 7,
   "metadata": {},
   "outputs": [
    {
     "name": "stdout",
     "output_type": "stream",
     "text": [
      "lr: 0.001\n",
      "Epoch: 0, train loss: 0.6974002122879028, train acc: 0.47368421052631576, test ac 0.6961538461538461\n",
      "lr: 0.0001\n",
      "Epoch: 100, train loss: 0.6058480143547058, train acc: 0.6967418546365914, test ac 0.5615384615384615\n",
      "Epoch: 200, train loss: 0.5958714485168457, train acc: 0.7017543859649122, test ac 0.5307692307692308\n",
      "Epoch: 300, train loss: 0.5772969722747803, train acc: 0.7443609022556391, test ac 0.5384615384615384\n",
      "Epoch: 400, train loss: 0.572259783744812, train acc: 0.7268170426065163, test ac 0.6153846153846154\n",
      "lr: 1e-05\n",
      "Epoch: 500, train loss: 0.5421899557113647, train acc: 0.7794486215538847, test ac 0.5307692307692308\n",
      "Epoch: 600, train loss: 0.5437362194061279, train acc: 0.7844611528822055, test ac 0.5615384615384615\n",
      "Epoch: 700, train loss: 0.5422729849815369, train acc: 0.7819548872180451, test ac 0.5653846153846154\n",
      "Epoch: 800, train loss: 0.5319798588752747, train acc: 0.8170426065162907, test ac 0.55\n",
      "Epoch: 900, train loss: 0.5521755218505859, train acc: 0.7468671679197995, test ac 0.5615384615384615\n"
     ]
    }
   ],
   "source": [
    "def train_model(model, verbose = False, iters = 1000, lr = 1e-3):\n",
    "    lr = lr * 10 # hacky and stupid\n",
    "    learning_rate_horizons = {0, 100, 500}\n",
    "    train_accuracies, test_accuracies = [], []\n",
    "    \n",
    "    \n",
    "    \n",
    "    for epoch in range(iters):\n",
    "        if (epoch in learning_rate_horizons):\n",
    "            lr = lr / 10\n",
    "            print(f\"lr: {lr}\")\n",
    "            optimizer = torch.optim.Adam(params = model.parameters(), lr = lr)\n",
    "\n",
    "        output = model(X_train)\n",
    "        loss = loss_fn(output, y_train.reshape(-1,))\n",
    "        \n",
    "    \n",
    "        optimizer.zero_grad()\n",
    "        loss.backward()\n",
    "        optimizer.step()\n",
    "        \n",
    "        train_accuracy = (output.argmax(dim = 1) == y_train.reshape(-1, )).sum().item()/len(y_train)\n",
    "        test_accuracy = (model(X_test).argmax(dim = 1) == y_test.reshape(-1,)).sum().item()/len(y_test)\n",
    "        \n",
    "        train_accuracies.append(train_accuracy)\n",
    "        test_accuracies.append(test_accuracy)\n",
    "\n",
    "        if (epoch % 100 == 0 and verbose):\n",
    "            print(f\"Epoch: {epoch}, train loss: {loss.item()}, train acc: {train_accuracy}, test ac {test_accuracy}\")\n",
    "            \n",
    "    \n",
    "    return train_accuracies, test_accuracies\n",
    "\n",
    "\n",
    "train_accuracies, test_accuracies = train_model(model, verbose=True, iters = 1000)"
   ]
  },
  {
   "cell_type": "code",
   "execution_count": 14,
   "metadata": {},
   "outputs": [],
   "source": [
    "ts = [0, .05, .25, .66, .90, .98, .99, .999, 1]\n",
    "def run_model(v, threshold = .98):\n",
    "    if v is None:\n",
    "        return None\n",
    "    \n",
    "    ten = torch.Tensor(v).to(device).reshape(1, -1)\n",
    "    rankings = model(ten).to('cpu').detach().numpy().reshape(-1, )\n",
    "    classification = rankings.argmax()\n",
    "    \n",
    "    if (rankings[classification] >= threshold):\n",
    "        return {0: 'context', 1:'uses', 2:'extends'}.get(classification) \n",
    "    \n",
    "    return 'context'\n",
    "\n",
    "df['learned_classification'] = df['answer_vector'].apply(run_model)\n",
    "df.to_csv(other_path, index = False)"
   ]
  },
  {
   "cell_type": "code",
   "execution_count": 9,
   "metadata": {},
   "outputs": [
    {
     "name": "stdout",
     "output_type": "stream",
     "text": [
      "0.55\n",
      "Counter({'context': 441, 'uses': 78})\n",
      "Test labels hash: b'3\\x01-\\xb3\\xc8\\xd0&\\x88\\x8cH\\x8d\\x80\\x80\\xe5\\xf0\\xba'\n"
     ]
    }
   ],
   "source": [
    "print(test_accuracies[-1])\n",
    "print(Counter(df['learned_classification']))\n",
    "print(f\"Test labels hash: {hash_dataframe(list(df_test['alex2']))}\")\n"
   ]
  },
  {
   "cell_type": "code",
   "execution_count": 10,
   "metadata": {},
   "outputs": [
    {
     "name": "stderr",
     "output_type": "stream",
     "text": [
      " 95%|█████████▌| 19/20 [00:04<00:00,  3.92it/s]/var/folders/6j/9qz49mv9637bsngvd04d4pf00000gp/T/ipykernel_94986/386671220.py:11: RuntimeWarning: invalid value encountered in scalar divide\n",
      "  uses_fp = (pred_uses & true_context).sum()/pred_uses.sum()\n",
      "100%|██████████| 20/20 [00:05<00:00,  3.93it/s]\n"
     ]
    },
    {
     "data": {
      "image/png": "[encoded data removed]",
      "text/plain": [
       "<Figure size 640x480 with 1 Axes>"
      ]
     },
     "metadata": {},
     "output_type": "display_data"
    }
   ],
   "source": [
    "def pareto_plot(X, y, start = .9, end = 1, num = 20, verbose = False, test_or_train = \"Test\"):\n",
    "    fps, fns = [], []\n",
    "    thresholds = np.geomspace(start, end, num = num)\n",
    "\n",
    "    for t in tqdm(thresholds):\n",
    "        pred = np.array([run_model(X[v,:], threshold = t) for v in range(len(X))])\n",
    "        (pred_uses, pred_context) = (pred == 'uses', pred == 'context')\n",
    "        (true_uses, true_context) = (y.reshape(-1,).cpu().numpy() == 1, y.reshape(-1,).cpu().numpy()  == 0)\n",
    "        \n",
    "        \n",
    "        uses_fp = (pred_uses & true_context).sum()/pred_uses.sum() \n",
    "        uses_fn = (true_uses & pred_context).sum()/true_uses.sum()\n",
    "        \n",
    "        if verbose:\n",
    "            print(f\"Threshold: {t}, FP: {uses_fp}, FN:{uses_fn}\")\n",
    "        \n",
    "        fps.append(uses_fp)\n",
    "        fns.append(uses_fn)\n",
    "    \n",
    "    plt.title(f\"{test_or_train} FN vs. FP\")\n",
    "    plt.plot(thresholds * 100,fps, 'xr-')\n",
    "    plt.plot(thresholds * 100,fns, 'xb-')\n",
    "    plt.legend(['False Negative', 'False Positive'])\n",
    "    plt.xlabel(\"Confience threshold %\")\n",
    "    \n",
    "pareto_plot(X_train, y_train, verbose = False, test_or_train = \"Train\")\n"
   ]
  },
  {
   "cell_type": "code",
   "execution_count": 11,
   "metadata": {},
   "outputs": [
    {
     "name": "stderr",
     "output_type": "stream",
     "text": [
      " 95%|█████████▌| 19/20 [00:03<00:00,  6.27it/s]/var/folders/6j/9qz49mv9637bsngvd04d4pf00000gp/T/ipykernel_94986/386671220.py:11: RuntimeWarning: invalid value encountered in scalar divide\n",
      "  uses_fp = (pred_uses & true_context).sum()/pred_uses.sum()\n",
      "100%|██████████| 20/20 [00:03<00:00,  5.97it/s]\n"
     ]
    },
    {
     "data": {
      "image/png": "[encoded data removed]",
      "text/plain": [
       "<Figure size 640x480 with 1 Axes>"
      ]
     },
     "metadata": {},
     "output_type": "display_data"
    }
   ],
   "source": [
    "pareto_plot(X_test, y_test, test_or_train = \"Test\")\n"
   ]
  },
  {
   "cell_type": "code",
   "execution_count": null,
   "metadata": {},
   "outputs": [],
   "source": []
  },
  {
   "cell_type": "code",
   "execution_count": null,
   "metadata": {},
   "outputs": [],
   "source": []
  },
  {
   "cell_type": "markdown",
   "metadata": {},
   "source": []
  }
 ],
 "metadata": {
  "kernelspec": {
   "display_name": ".venv",
   "language": "python",
   "name": "python3"
  },
  "language_info": {
   "codemirror_mode": {
    "name": "ipython",
    "version": 3
   },
   "file_extension": ".py",
   "mimetype": "text/x-python",
   "name": "python",
   "nbconvert_exporter": "python",
   "pygments_lexer": "ipython3",
   "version": "3.12.2"
  }
 },
 "nbformat": 4,
 "nbformat_minor": 2
}
