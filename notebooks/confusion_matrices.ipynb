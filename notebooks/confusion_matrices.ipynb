{
 "cells": [
  {
   "cell_type": "code",
   "execution_count": 1,
   "metadata": {},
   "outputs": [],
   "source": [
    "import pandas as pd"
   ]
  },
  {
   "cell_type": "code",
   "execution_count": 2,
   "metadata": {},
   "outputs": [],
   "source": [
    "urop_path = '/home/gridsan/afogelson/osfm/scripts/urop_samples/uniform_sample/uniform_urop_sample_alex_labeled_PROMPT7.csv'\n",
    "df = pd.read_csv(urop_path)\n",
    "\n",
    "y_label, x_label = 'alex2', 'mcllm_binary'\n",
    "df = df[~df[y_label].isna() & ~df[x_label].isna()]\n",
    "df['urop'] = df['urop'].apply(str.lower)\n",
    "df = df[df['urop'] != 'select']"
   ]
  },
  {
   "cell_type": "code",
   "execution_count": 3,
   "metadata": {},
   "outputs": [],
   "source": [
    "df['mcllm_binary_stripped'] = df['mcllm_binary'].apply(lambda s: tuple(v.lstrip(\"('\").rstrip(\"')\") for v in s.split(\",\"))[0])\n",
    "df['mcllm_binary_stripped']\n",
    "df = df[df['mcllm_binary_stripped'] != 'unclear']\n",
    "x_label = 'mcllm_binary_stripped'"
   ]
  },
  {
   "cell_type": "code",
   "execution_count": 4,
   "metadata": {},
   "outputs": [
    {
     "data": {
      "text/plain": [
       "{'context', 'uses'}"
      ]
     },
     "execution_count": 4,
     "metadata": {},
     "output_type": "execute_result"
    }
   ],
   "source": [
    "set(df['mcllm_binary_stripped'])"
   ]
  },
  {
   "cell_type": "code",
   "execution_count": 5,
   "metadata": {},
   "outputs": [],
   "source": [
    "from sklearn.metrics import confusion_matrix\n",
    "import matplotlib.pyplot as plt\n",
    "import seaborn as sns\n",
    "import numpy as np\n",
    "\n",
    "np.random.seed(0)\n",
    "train_size = 100\n",
    "true, pred = np.random.permutation(df[y_label])[:train_size], np.random.permutation(df[x_label])[:train_size]\n",
    "\n",
    "mapping = lambda s: {'background': 'context',\n",
    "                     'future_work': 'context',\n",
    "                    'differences': 'context',\n",
    "                     'future work': 'context',\n",
    "                     'motivation': 'context',\n",
    "                     'similarities': 'context',\n",
    "                     'extends': 'uses',\n",
    "                     '*': 'context'\n",
    "                     }.get(s) or s\n",
    "true, pred = list(map(mapping, true)), list(map(mapping, pred))\n",
    "\n",
    "cm = confusion_matrix(true, pred)"
   ]
  },
  {
   "cell_type": "code",
   "execution_count": 6,
   "metadata": {},
   "outputs": [
    {
     "data": {
      "text/plain": [
       "Text(50.722222222222214, 0.5, 'alex2')"
      ]
     },
     "execution_count": 6,
     "metadata": {},
     "output_type": "execute_result"
    },
    {
     "data": {
      "image/png": "[encoded data removed]",
      "text/plain": [
       "<Figure size 640x480 with 2 Axes>"
      ]
     },
     "metadata": {},
     "output_type": "display_data"
    }
   ],
   "source": [
    "#assert(len(set(true)) == 3), set(true)\n",
    "#assert(len(set(pred)) == 3), set(pred)\n",
    "#labels = ['context', 'extends', 'uses']\n",
    "\n",
    "\n",
    "labels = ['context', 'uses']\n",
    "sns.heatmap(cm, annot=True, fmt='d', cmap='Blues', xticklabels=labels, yticklabels=labels)\n",
    "plt.xlabel(x_label)\n",
    "plt.ylabel(y_label)"
   ]
  },
  {
   "cell_type": "code",
   "execution_count": 7,
   "metadata": {},
   "outputs": [
    {
     "name": "stdout",
     "output_type": "stream",
     "text": [
      "[0.32075472 0.78723404]\n",
      "[0.50684932 0.62962963]\n"
     ]
    }
   ],
   "source": [
    "false_positives = (cm - cm * np.identity(len(labels))).sum(axis = 0)/cm.sum(axis = 0)\n",
    "false_negatives = (cm - cm * np.identity(len(labels))).sum(axis = 1)/cm.sum(axis = 1)\n",
    "\n",
    "print(false_positives)\n",
    "print(false_negatives)"
   ]
  },
  {
   "cell_type": "code",
   "execution_count": 8,
   "metadata": {},
   "outputs": [],
   "source": [
    "idx = 0"
   ]
  },
  {
   "cell_type": "code",
   "execution_count": 12,
   "metadata": {},
   "outputs": [
    {
     "name": "stdout",
     "output_type": "stream",
     "text": [
      "Drawing from 47 samples\n",
      "706_codex\n",
      "the second way is more suitable for \"human-in-the-loop\" style expert systems. since the general capabilities to generate valid python code were demonstrated by the original openai paper (<cite>chen et al, 2021</cite>), our study focused exclusively on simulation models of inventory and queuing systems written in python. the gpt-based framework has been finetuned in order to produce valid executable python code based on the descriptions of a single-server queuing system and single-product inventory-control system.\n",
      "('uses', \"The citation indicates that the CITED model (gpt-based framework) was used to generate valid executable python code based on descriptions of inventory and queuing systems. This is an example of the 'uses' classification, as the CITED model's weights are being directly employed in the methodology to accomplish a specific task.\")\n",
      "background\n",
      "uses\n"
     ]
    }
   ],
   "source": [
    "def get_examples(y_value, x_value):\n",
    "    mask = (df[y_label].apply(mapping) == y_value) & (df[x_label].apply(mapping) == x_value) \n",
    "    return df[mask]\n",
    "\n",
    "samples = get_examples(y_value='context', x_value = 'uses')\n",
    "print(f\"Drawing from {len(samples)} samples\")\n",
    "print(samples['modelKey'].iloc[idx])\n",
    "\n",
    "print(samples['multisentence'].iloc[idx])\n",
    "print(samples['mcllm_binary'].iloc[idx])\n",
    "print(samples[y_label].iloc[idx])\n",
    "print(samples[x_label].iloc[idx])\n",
    "idx += 1"
   ]
  },
  {
   "cell_type": "code",
   "execution_count": null,
   "metadata": {},
   "outputs": [],
   "source": []
  },
  {
   "cell_type": "code",
   "execution_count": null,
   "metadata": {},
   "outputs": [],
   "source": []
  }
 ],
 "metadata": {
  "kernelspec": {
   "display_name": ".venv",
   "language": "python",
   "name": "python3"
  },
  "language_info": {
   "codemirror_mode": {
    "name": "ipython",
    "version": 3
   },
   "file_extension": ".py",
   "mimetype": "text/x-python",
   "name": "python",
   "nbconvert_exporter": "python",
   "pygments_lexer": "ipython3",
   "version": "3.9.16"
  }
 },
 "nbformat": 4,
 "nbformat_minor": 2
}
