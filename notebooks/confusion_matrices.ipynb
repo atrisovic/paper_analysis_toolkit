{
 "cells": [
  {
   "cell_type": "code",
   "execution_count": 92,
   "metadata": {},
   "outputs": [],
   "source": [
    "import pandas as pd\n",
    "import json"
   ]
  },
  {
   "cell_type": "code",
   "execution_count": 93,
   "metadata": {},
   "outputs": [],
   "source": [
    "urop_path = '/home/gridsan/afogelson/osfm/scripts/urop_samples/uniform_sample/uniform_urop_sample_alex_labeled_PROMPT8.csv'\n",
    "df = pd.read_csv(urop_path)\n",
    "\n",
    "df['mcllm_binary_json'] = df['mcllm_binary'].copy()"
   ]
  },
  {
   "cell_type": "code",
   "execution_count": 94,
   "metadata": {},
   "outputs": [
    {
     "name": "stdout",
     "output_type": "stream",
     "text": [
      "{None, 'background', 'uses'}\n"
     ]
    }
   ],
   "source": [
    "def get_truth(r_):\n",
    "    try:\n",
    "        r = json.loads(r_.replace(\"'\", \"\\\"\"))\n",
    "    except:\n",
    "        return None\n",
    "    \n",
    "    if set(r.keys()) != {str(i) for i in range(1, 13)}:\n",
    "        return None\n",
    "    \n",
    "    for key, item in r.items():\n",
    "        r[key] = {'true': True, 'false': False}.get(item.lower())\n",
    "    \n",
    "    uses = r[\"4\"] or r[\"5\"] or r[\"6\"] or r[\"9\"] or r[\"10\"] or r[\"11\"] or r[\"12\"]\n",
    "    background = r[\"1\"] or r[\"2\"] or r[\"3\"]\n",
    "\n",
    "    if uses:\n",
    "        return 'uses'\n",
    "    \n",
    "    if background:\n",
    "        return 'background'\n",
    "\n",
    "    return 'background'\n",
    "\n",
    "df['mcllm_binary'] = df['mcllm_binary_json'].apply(get_truth)\n",
    "\n",
    "print(set(df['mcllm_binary']))\n",
    "\n",
    "for idx, row in df.iterrows():\n",
    "    pass\n",
    "    #print(row['multisentence'], row['mcllm_binary'], row['mcllm_binary_json'])"
   ]
  },
  {
   "cell_type": "code",
   "execution_count": 95,
   "metadata": {},
   "outputs": [
    {
     "data": {
      "text/plain": [
       "'df[\\'mcllm_binary_stripped\\'] = df[\\'mcllm_binary\\'].apply(lambda s: tuple(v.lstrip(\"(\\'\").rstrip(\"\\')\") for v in s.split(\",\"))[0])\\ndf[\\'mcllm_binary_stripped\\']\\ndf = df[df[\\'mcllm_binary_stripped\\'] != \\'unclear\\']\\nx_label = \\'mcllm_binary_stripped\\''"
      ]
     },
     "execution_count": 95,
     "metadata": {},
     "output_type": "execute_result"
    }
   ],
   "source": [
    "y_label, x_label = 'alex2', 'mcllm_binary'\n",
    "df = df[~df[y_label].isna() & ~df[x_label].isna()]\n",
    "df['urop'] = df['urop'].apply(str.lower)\n",
    "df = df[df['urop'] != 'select']\n",
    "\n",
    "\n",
    "\"\"\"df['mcllm_binary_stripped'] = df['mcllm_binary'].apply(lambda s: tuple(v.lstrip(\"('\").rstrip(\"')\") for v in s.split(\",\"))[0])\n",
    "df['mcllm_binary_stripped']\n",
    "df = df[df['mcllm_binary_stripped'] != 'unclear']\n",
    "x_label = 'mcllm_binary_stripped'\"\"\""
   ]
  },
  {
   "cell_type": "code",
   "execution_count": 96,
   "metadata": {},
   "outputs": [],
   "source": [
    "from sklearn.metrics import confusion_matrix\n",
    "import matplotlib.pyplot as plt\n",
    "import seaborn as sns\n",
    "import numpy as np\n",
    "\n",
    "np.random.seed(0)\n",
    "train_size = 100\n",
    "true, pred = np.random.permutation(df[y_label])[:train_size], np.random.permutation(df[x_label])[:train_size]\n",
    "\n",
    "mapping = lambda s: {'background': 'context',\n",
    "                     'future_work': 'context',\n",
    "                    'differences': 'context',\n",
    "                     'future work': 'context',\n",
    "                     'motivation': 'context',\n",
    "                     'similarities': 'context',\n",
    "                     'extends': 'uses',\n",
    "                     '*': 'context'\n",
    "                     }.get(s) or s\n",
    "true, pred = list(map(mapping, true)), list(map(mapping, pred))\n",
    "\n",
    "cm = confusion_matrix(true, pred)"
   ]
  },
  {
   "cell_type": "code",
   "execution_count": 97,
   "metadata": {},
   "outputs": [
    {
     "name": "stdout",
     "output_type": "stream",
     "text": [
      "{'context', 'uses'} {'context', 'uses'}\n"
     ]
    },
    {
     "data": {
      "text/plain": [
       "Text(50.722222222222214, 0.5, 'alex2')"
      ]
     },
     "execution_count": 97,
     "metadata": {},
     "output_type": "execute_result"
    },
    {
     "data": {
      "image/png": "[encoded data removed]",
      "text/plain": [
       "<Figure size 640x480 with 2 Axes>"
      ]
     },
     "metadata": {},
     "output_type": "display_data"
    }
   ],
   "source": [
    "#assert(len(set(true)) == 3), set(true)\n",
    "#assert(len(set(pred)) == 3), set(pred)\n",
    "#labels = ['context', 'extends', 'uses']\n",
    "print(set(true), set(pred))\n",
    "\n",
    "labels = ['context', 'uses']\n",
    "sns.heatmap(cm, annot=True, fmt='d', cmap='Blues', xticklabels=labels, yticklabels=labels)\n",
    "plt.xlabel(x_label)\n",
    "plt.ylabel(y_label)"
   ]
  },
  {
   "cell_type": "code",
   "execution_count": 98,
   "metadata": {},
   "outputs": [
    {
     "name": "stdout",
     "output_type": "stream",
     "text": [
      "[0.28767123 0.66666667]\n",
      "[0.25714286 0.7       ]\n"
     ]
    }
   ],
   "source": [
    "false_positives = (cm - cm * np.identity(len(labels))).sum(axis = 0)/cm.sum(axis = 0)\n",
    "false_negatives = (cm - cm * np.identity(len(labels))).sum(axis = 1)/cm.sum(axis = 1)\n",
    "\n",
    "print(false_positives)\n",
    "print(false_negatives)"
   ]
  },
  {
   "cell_type": "code",
   "execution_count": 99,
   "metadata": {},
   "outputs": [],
   "source": [
    "idx = 0"
   ]
  },
  {
   "cell_type": "code",
   "execution_count": 104,
   "metadata": {},
   "outputs": [
    {
     "name": "stdout",
     "output_type": "stream",
     "text": [
      "Drawing from 23 samples\n",
      "521_roberta_large\n",
      "these models take transformers (vaswani et al, 2017) as the backbone, and predict the next token based on previous tokens.1 prior to the widespread adoption of transformers, autoregressive language models were built on the backbones of n-grams (bickel et al, 2005; pauls and klein, 2011) and recurrent neural networks (mikolov et al, 2010), and have been applied to various nlg tasks such as summarization (nallapati et al, 2017) and dialogue generation (chen et al, 2017). footnote 1: another variant of language models predicts masked tokens in a corrupted sequence (devlin et al, 2019; <cite>liu et al, 2019</cite>; lan et al, 2019, _inter alia_). transformer-based llms have demonstrated exceptional performance across tasks, and have therefore shifted nlp from a paradigm centered on task-specific solutions to general-purpose pretraining (devlin et al, 2019; radford et al, 2019).\n",
      "{'1': 'True', '2': 'True', '3': 'False', '4': 'False', '5': 'False', '6': 'False', '7': 'False', '8': 'False', '9': 'False', '10': 'False', '11': 'False', '12': 'True'}\n",
      "background\n",
      "uses\n"
     ]
    }
   ],
   "source": [
    "def get_examples(y_value, x_value):\n",
    "    mask = (df[y_label].apply(mapping) == y_value) & (df[x_label].apply(mapping) == x_value) \n",
    "    return df[mask]\n",
    "\n",
    "samples = get_examples(y_value='context', x_value = 'uses')\n",
    "print(f\"Drawing from {len(samples)} samples\")\n",
    "print(samples['modelKey'].iloc[idx])\n",
    "\n",
    "print(samples['multisentence'].iloc[idx])\n",
    "print(samples['mcllm_binary_json'].iloc[idx])\n",
    "print(samples[y_label].iloc[idx])\n",
    "print(samples[x_label].iloc[idx])\n",
    "idx += 1"
   ]
  },
  {
   "cell_type": "code",
   "execution_count": null,
   "metadata": {},
   "outputs": [],
   "source": []
  },
  {
   "cell_type": "code",
   "execution_count": null,
   "metadata": {},
   "outputs": [],
   "source": []
  }
 ],
 "metadata": {
  "kernelspec": {
   "display_name": ".venv",
   "language": "python",
   "name": "python3"
  },
  "language_info": {
   "codemirror_mode": {
    "name": "ipython",
    "version": 3
   },
   "file_extension": ".py",
   "mimetype": "text/x-python",
   "name": "python",
   "nbconvert_exporter": "python",
   "pygments_lexer": "ipython3",
   "version": "3.9.16"
  }
 },
 "nbformat": 4,
 "nbformat_minor": 2
}
