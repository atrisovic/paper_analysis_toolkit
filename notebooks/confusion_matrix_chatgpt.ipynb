{
 "cells": [
  {
   "cell_type": "code",
   "execution_count": 33,
   "metadata": {},
   "outputs": [],
   "source": [
    "import pandas as pd\n",
    "import requests\n",
    "import json\n",
    "from tqdm import tqdm\n",
    "import numpy as np\n",
    "from datetime import datetime\n",
    "\n",
    "CONNECTION_ON = False\n",
    "MODEL = 'gpt-4o' #'gpt-3.5-turbo',"
   ]
  },
  {
   "cell_type": "code",
   "execution_count": 34,
   "metadata": {},
   "outputs": [],
   "source": [
    "from typing import Optional\n",
    "\n",
    "\n",
    "def prompt(input):\n",
    "    if not CONNECTION_ON:\n",
    "        raise Exception\n",
    "    \n",
    "    api_key = None\n",
    "    api_url = 'https://api.openai.com/v1/chat/completions'\n",
    "\n",
    "    headers = {\n",
    "        'Content-Type': 'application/json',\n",
    "        'Authorization': f'Bearer {api_key}',\n",
    "    }\n",
    "\n",
    "    data = {\n",
    "        'model': MODEL,\n",
    "        'messages': [\n",
    "            {'role': 'user', 'content': input},\n",
    "        ],\n",
    "        'max_tokens': 2000,\n",
    "        'temperature': 0.5,\n",
    "    }\n",
    "\n",
    "    response = requests.post(api_url, headers=headers, data=json.dumps(data))\n",
    "\n",
    "    if response.status_code == 200:\n",
    "        response_data = response.json()\n",
    "        return response_data['choices'][0]['message']['content']\n",
    "    else:\n",
    "        print(f\"Error: {response.status_code}\")\n",
    "        return response.json()\n",
    "\n",
    "def stripJSON(text: Optional[str], added_bracket = False, debug = False) -> Optional[dict]:\n",
    "    if (text is None):\n",
    "        return None\n",
    "    \n",
    "    #text = text.replace('\\(', '(').replace('\\)', ')') #Mistral likes to add escape sequences, for some unknown reason\n",
    "    text = text.replace(\"```\", \"\").replace('json', '')\n",
    "    \n",
    "    if (debug):\n",
    "        print(text)\n",
    "        try:\n",
    "            json.loads(text)\n",
    "        except Exception as e:\n",
    "            print(e)\n",
    "\n",
    "    # a very manual way of finding our JSON string within the output\n",
    "    \n",
    "    all_open_brackets = [i for i, ltr in enumerate(text) if ltr == '{']\n",
    "    obj = None\n",
    "    for start in all_open_brackets:\n",
    "        balance_counter = 1\n",
    "        for offset, chr in enumerate(text[start + 1:], start = 1):\n",
    "            balance_counter += (1 if chr == '{' else -1 if chr == '}' else 0)\n",
    "            if (balance_counter == 0):\n",
    "                try:\n",
    "                    obj = json.loads(text[start: start + offset + 1])\n",
    "                except:\n",
    "                    pass\n",
    "                break\n",
    "        if (obj is not None):\n",
    "            break\n",
    "        \n",
    "    # sometimes we miss the first or last bracket (dumb LLM), so we add it manually.\n",
    "    if not added_bracket:\n",
    "        return (stripJSON('{' + text, added_bracket = True) or stripJSON(text + '}', added_bracket = True))\n",
    "        \n",
    "    return obj\n",
    "\n",
    "\n",
    "def update_labels(path, \n",
    "                  column = 'alex2',\n",
    "                  ground_truth_path = '/home/gridsan/afogelson/osfm/scripts/urop_samples/uniform_sample/uniform_urop_sample_alex_labeled.csv',\n",
    "                  save = False):\n",
    "    ground_df = pd.read_csv(ground_truth_path)\n",
    "    to_update_df = pd.read_csv(path)\n",
    "    \n",
    "    updated = 0\n",
    "    for idx in to_update_df.index:\n",
    "        mask = ground_df['multisentence'] == to_update_df['multisentence'].loc[idx]\n",
    "        assert(mask.sum() == 1)\n",
    "        \n",
    "        if to_update_df[column].loc[idx] != ground_df[column].loc[idx]:\n",
    "            updated += 1\n",
    "            to_update_df[column].loc[idx] = ground_df[column].loc[idx]\n",
    "    \n",
    "    print(f\"Updated {updated} labels in {path}.\")\n",
    "    \n",
    "    if (save):\n",
    "        print(f\"Saving to original path. \")\n",
    "        to_update_df.to_csv(path, index = False)\n",
    "    return to_update_df\n"
   ]
  },
  {
   "cell_type": "code",
   "execution_count": 97,
   "metadata": {},
   "outputs": [
    {
     "name": "stdout",
     "output_type": "stream",
     "text": [
      "The following sentences are from an academic paper (the CITING paper) which references a pretrained machine learning model through citation (the CITED paper). The models are called foundation models, and they might be a language model, a vision model, or any other kind of large neural network. The CITED paper is highlighed using HTML tags as such: <cite> cited reference </cite>. All other citations can be ignored, as we only care about the cited reference with these tags.\n",
      "\n",
      "We'd like to discern how the CITING paper makes use of the foundation model, as described within the sentences. Below are ten statements, which will be evaluated as either true or false. Only use the sentences provided to answer the questions about this particular paper's use of the foundation model, not other references. \n",
      "1. The CITING sentences explicitly mention results from the CITED paper to support background claims.\n",
      "2. The CITING sentences explicitly mention a techniques of the CITED paper in order to provide relevant context.\n",
      "3. The CITING sentences mention performance results of the CITED paper to contextualize the CITED model's capabilities.\n",
      "4. The CITING sentences mention deploying the CITED foundation model's encoder or decoder as part of their methodology.\n",
      "5. The CITING sentences uses the CITED foundation model to create embeddings as part of their methodology.\n",
      "6. The CITING sentences explicitly describe their methodology including fine-tuning or adjusting the parameter weights of the CITED foundation model.\n",
      "7. The CITING sentences describe adopting the CITED foundation model's architecture as part of their model design.\n",
      "8. The CITING sentences describe training a model using the CITED paper's dataset.\n",
      "9. The CITING sentences mention using the CITED foundation model for feature extraction as part of their methodology.\n",
      "10. The CITING sentences mention using the CITED foundation model as a classifier or detector as part of their methodology.\n",
      "11. The CITING sentences describes deploying the CITED foundation model to generate data in the form of text/image/audio/video for later training of their model.Please respond with the following information per question:\n",
      "    (a) an explanation of the relevant information\n",
      "    (b) explain how you know the usage (or lacktherof) of the <cite> CITED </cited> foundation model is by the CITING sentences rather than some other reference.\n",
      "    (c) The final True or False answer to the question.\n",
      "Use this JSON format: {{\"explanation_1\": \"Information relevant to the first question...\", \"confirmation_1\": \"True | False\", \"answer_1\": \"True | False\", \"explanation_2\": \"Information relevant to the second question...\" , \"confirmation_2\": \"True | False\", \"answer_2\": \"True | False\", ... }}, classifying based on the following:\n",
      "\n",
      "{input}\n"
     ]
    }
   ],
   "source": [
    "questions = {\n",
    "1: \"The CITING sentences explicitly mention results from the CITED paper to support background claims.\",\n",
    "2: \"The CITING sentences explicitly mention a techniques of the CITED paper in order to provide relevant context.\",\n",
    "3: \"The CITING sentences mention performance results of the CITED paper to contextualize the CITED model's capabilities.\",\n",
    "4: \"The CITING sentences mention deploying the CITED foundation model's encoder or decoder as part of their methodology.\",\n",
    "5: \"The CITING sentences uses the CITED foundation model to create embeddings as part of their methodology.\",\n",
    "6: \"The CITING sentences explicitly describe their methodology including fine-tuning or adjusting the parameter weights of the CITED foundation model.\",\n",
    "7: \"The CITING sentences describe adopting the CITED foundation model's architecture as part of their model design.\",\n",
    "8: \"The CITING sentences describe training a model using the CITED paper's dataset.\",\n",
    "9: \"The CITING sentences mention using the CITED foundation model for feature extraction as part of their methodology.\",\n",
    "10: \"The CITING sentences mention using the CITED foundation model as a classifier or detector as part of their methodology.\",\n",
    "11: \"The CITING sentences describes deploying the CITED foundation model to generate data in the form of text/image/audio/video for later training of their model.\"}\n",
    "\n",
    "questions_as_string = '\\n'.join([f\"{key}. {value}\" for key, value in questions.items()])\n",
    "\n",
    "MULTIPROMPT = (\"\"\"The following sentences are from an academic paper (the CITING paper) which references a pretrained machine learning model through citation (the CITED paper). The models are called foundation models, and they might be a language model, a vision model, or any other kind of large neural network. The CITED paper is highlighed using HTML tags as such: <cite> cited reference </cite>. All other citations can be ignored, as we only care about the cited reference with these tags.\n",
    "\n",
    "We'd like to discern how the CITING paper makes use of the foundation model, as described within the sentences. Below are ten statements, which will be evaluated as either true or false. Only use the sentences provided to answer the questions about this particular paper's use of the foundation model, not other references. \\n\"\"\" + questions_as_string + \n",
    "\n",
    "\n",
    "\"\"\"Please respond with the following information per question:\n",
    "    (a) an explanation of the relevant information\n",
    "    (b) if applicable, explain how you know this usage of the <cite> CITED </cited> foundation model is by the CITING paper rather than a different reference in the sentences (or say \"didn't use\").\n",
    "    (c) The final True or False answer to the question.\n",
    "Use this JSON format: {{\"explanation_1\": \"Information relevant to the first question...\", \"confirmation_1\": \"True | False\", \"answer_1\": \"True | False\", \"explanation_2\": \"Information relevant to the second question...\" , \"confirmation_2\": \"True | False\", \"answer_2\": \"True | False\", ... }}, classifying based on the following:\\n\\n{input}\"\"\" )\n",
    "\n",
    "\n",
    "SINGLEPROMPT = (\"\"\"The following sentences are from an academic paper (the CITING paper) which references a pretrained machine learning model through citation (the CITED paper). The models are called foundation models, and they might be a language model, a vision model, or any other kind of large neural network. The CITED paper is highlighed using HTML tags as such: <cite> cited reference </cite>. All other citations can be ignored, as we only care about the cited reference with these tags.\n",
    "\n",
    "We'd like to discern how the CITING paper makes use of the foundation model, as described within the sentences. Below are ten statements, which will be evaluated as either true or false.\n",
    "\n",
    "{question}\n",
    "\n",
    "Please response in this JSON format: {{\"explanation\": \"True | False\"}}, classifying based on the following:\\n\\n{input}\"\"\" )\n",
    "\n",
    "\n",
    "sentences = 'these models take transformers (vaswani et al, 2017) as the backbone, and predict the next token based on previous tokens.1 prior to the widespread adoption of transformers, autoregressive language models were built on the backbones of n-grams (bickel et al, 2005; pauls and klein, 2011) and recurrent neural networks (mikolov et al, 2010), and have been applied to various nlg tasks such as summarization (nallapati et al, 2017) and dialogue generation (chen et al, 2017). footnote 1: another variant of language models predicts masked tokens in a corrupted sequence (devlin et al, 2019; <cite>liu et al, 2019</cite>; lan et al, 2019, _inter alia_). transformer-based llms have demonstrated exceptional performance across tasks, and have therefore shifted nlp from a paradigm centered on task-specific solutions to general-purpose pretraining (devlin et al, 2019; radford et al, 2019).'\n",
    "\n",
    "print(MULTIPROMPT)"
   ]
  },
  {
   "cell_type": "code",
   "execution_count": 4,
   "metadata": {},
   "outputs": [],
   "source": [
    "urop_path = '/home/gridsan/afogelson/osfm/scripts/urop_samples/uniform_sample/uniform_urop_sample_alex_labeled'\n",
    "df = pd.read_csv(urop_path + '.csv')\n",
    "\n"
   ]
  },
  {
   "cell_type": "code",
   "execution_count": 191,
   "metadata": {},
   "outputs": [
    {
     "name": "stdout",
     "output_type": "stream",
     "text": [
      "Updated 0 labels in /home/gridsan/afogelson/osfm/scripts/urop_samples/uniform_sample/uniform_urop_sample_alex_labeled_gpt4o_response_2024-06-21 09:38:45.344243.csv.\n",
      "Saving to original path. \n"
     ]
    }
   ],
   "source": [
    "other_path = '/home/gridsan/afogelson/osfm/scripts/urop_samples/uniform_sample/uniform_urop_sample_alex_labeled_gpt4o_response_2024-06-21 09:38:45.344243.csv'\n",
    "\n",
    "df = update_labels(other_path, save = True)"
   ]
  },
  {
   "cell_type": "code",
   "execution_count": 5,
   "metadata": {},
   "outputs": [
    {
     "name": "stderr",
     "output_type": "stream",
     "text": [
      "100%|██████████| 201/201 [37:49<00:00, 11.29s/it]\n"
     ]
    }
   ],
   "source": [
    "results = []\n",
    "for sentence in tqdm(df['multisentence']):\n",
    "    #each_question = {}\n",
    "    #for key, question in questions.items():\n",
    "    #    each_question[str(key)] = stripJSON(prompt(SINGLEPROMPT.format(input = sentence, question = question))).get('explanation')\n",
    "    results.append(prompt(MULTIPROMPT.format(input = sentence)))\n",
    "df['mcllm_gpt_booleans'] = results\n",
    "new_path = urop_path + f\"_{MODEL}_response_{datetime.now()}.csv\"\n",
    "df.to_csv(new_path, index = False)"
   ]
  },
  {
   "cell_type": "code",
   "execution_count": 192,
   "metadata": {},
   "outputs": [
    {
     "name": "stdout",
     "output_type": "stream",
     "text": [
      "{None, 'background', 'uses'}\n",
      "we report the setting with the best performance for each baseline. our implementation of per-token cql is identical to ilql with the only exception being that for per-token cql the loss function is defined as:\n",
      "\n",
      "\\[l_{q,v}(\\theta)=\\mathbf{e}_{\\tau\\sim d}\\left[\\sum_{i=0}^{t}(r(h_{i},a_{i})+ \\gamma\\max_{a_{t+1}\\in\\mathcal{a}}q_{\\hat{\\theta}}(h_{i+1},a_{t+1})-q_{\\theta }(h_{i},a_{i}))^{2}\\right]\\]\n",
      "\n",
      "our implementation of \\(\\psi\\)-learning is adapted from jaques et al (jaques et al, 2020, 2017) for use on transformer language models (vaswani et al, 2017; <cite>radford et al, 2019</cite>) instead of rnns (gers et al, 2000). the architecture is identical to that of ilql, the main difference is in the loss function:\n",
      "\n",
      "\\[l_{q,v}(\\theta)=\\mathbf{e}_{\\tau\\sim d}\\left[\\sum_{i=0}^{t}l_{\\delta}(\\frac{ r(h_{i},a_{i})}{c}+\\log(\\pi_{\\beta}(h_{i},a_{i}))+\\gamma\\log(\\sum_{a_{t+1} \\in\\mathcal{a}}\\exp q_{\\hat{\\theta}}(h_{i+1},a_{t+1}))-q_{\\theta}(h_{i},a_{i }))\\right]\\]\n",
      "\n",
      "where \\(\\pi_{\\beta}\\) is our bc baseline model: a transformer language model trained with supervised learning.\n",
      "None\n",
      "```json\n",
      "{\n",
      "    \"explanation_1\": \"The sentences do not explicitly mention results from the CITED paper to support background claims.\",\n",
      "    \"confirmation_1\": \"True\",\n",
      "    \"answer_1\": \"False\",\n",
      "    \n",
      "    \"explanation_2\": \"The sentences mention that the implementation of \\(\\psi\\)-learning is adapted from the CITED paper for use on transformer language models.\",\n",
      "    \"confirmation_2\": \"True\",\n",
      "    \"answer_2\": \"True\",\n",
      "    \n",
      "    \"explanation_3\": \"The sentences do not mention performance results of the CITED paper to contextualize the CITED model's capabilities.\",\n",
      "    \"confirmation_3\": \"True\",\n",
      "    \"answer_3\": \"False\",\n",
      "    \n",
      "    \"explanation_4\": \"The sentences do not mention deploying the CITED foundation model's encoder or decoder as part of their methodology.\",\n",
      "    \"confirmation_4\": \"True\",\n",
      "    \"answer_4\": \"False\",\n",
      "    \n",
      "    \"explanation_5\": \"The sentences do not mention using the CITED foundation model to create embeddings as part of their methodology.\",\n",
      "    \"confirmation_5\": \"True\",\n",
      "    \"answer_5\": \"False\",\n",
      "    \n",
      "    \"explanation_6\": \"The sentences do not explicitly describe fine-tuning or adjusting the parameter weights of the CITED foundation model.\",\n",
      "    \"confirmation_6\": \"True\",\n",
      "    \"answer_6\": \"False\",\n",
      "    \n",
      "    \"explanation_7\": \"The sentences describe adopting the CITED foundation model's architecture (transformer language models) as part of their model design.\",\n",
      "    \"confirmation_7\": \"True\",\n",
      "    \"answer_7\": \"True\",\n",
      "    \n",
      "    \"explanation_8\": \"The sentences do not describe training a model using the CITED paper's dataset.\",\n",
      "    \"confirmation_8\": \"True\",\n",
      "    \"answer_8\": \"False\",\n",
      "    \n",
      "    \"explanation_9\": \"The sentences do not mention using the CITED foundation model for feature extraction as part of their methodology.\",\n",
      "    \"confirmation_9\": \"True\",\n",
      "    \"answer_9\": \"False\",\n",
      "    \n",
      "    \"explanation_10\": \"The sentences do not mention using the CITED foundation model as a classifier as part of their methodology.\",\n",
      "    \"confirmation_10\": \"True\",\n",
      "    \"answer_10\": \"False\",\n",
      "    \n",
      "    \"explanation_11\": \"The sentences do not describe deploying the CITED foundation model to generate data in the form of text/image/audio/video for later training of their model.\",\n",
      "    \"confirmation_11\": \"True\",\n",
      "    \"answer_11\": \"False\"\n",
      "}\n",
      "```\n",
      "\n",
      "\n"
     ]
    }
   ],
   "source": [
    "def get_truth(r):\n",
    "    if isinstance(r, str):\n",
    "        r = stripJSON(r)\n",
    "        \n",
    "    if r is None:\n",
    "        return None\n",
    "    \n",
    "\n",
    "    for key, item in r.items():\n",
    "        if key == 'error':\n",
    "            return None\n",
    "        r[key] = {'true': True, 'false': False, None: False}.get(item if not isinstance(item, str) else item.lower())\n",
    "    \n",
    "    uses = np.array([r.get(f\"answer_{i}\") for i in range(4, 7)] + [r.get(f\"answer_{i}\") for i in range(9, 12)] ).astype(bool).sum()\n",
    "    background = np.array([r.get(f\"answer_{i}\") for i in range(1, 4)]).astype(bool).sum()\n",
    "    not_uses = np.array([r.get(f\"answer_{i}\") for i in range(7, 9)]).astype(bool).sum()\n",
    "\n",
    "    \n",
    "    if background >= 2: # or not_uses > 0:\n",
    "        return 'background'\n",
    "\n",
    "    if uses > 0:\n",
    "        return 'uses'\n",
    "    \n",
    "    if background:\n",
    "        return 'background'\n",
    "\n",
    "    return 'background'\n",
    "\n",
    "df['mcllm_binary'] = df['mcllm_gpt_booleans'].apply(get_truth)\n",
    "\n",
    "print(set(df['mcllm_binary']))\n",
    "\n",
    "for idx, row in df.iterrows():\n",
    "    if (row['mcllm_binary'] is None):\n",
    "        print(row['multisentence'])\n",
    "        print(row['mcllm_binary'])\n",
    "        print(row['mcllm_gpt_booleans'])\n",
    "        print(\"\\n\")\n",
    "    else:\n",
    "        pass"
   ]
  },
  {
   "cell_type": "code",
   "execution_count": 193,
   "metadata": {},
   "outputs": [
    {
     "data": {
      "text/plain": [
       "1"
      ]
     },
     "execution_count": 193,
     "metadata": {},
     "output_type": "execute_result"
    }
   ],
   "source": [
    "df['mcllm_binary'].isna().sum()"
   ]
  },
  {
   "cell_type": "code",
   "execution_count": null,
   "metadata": {},
   "outputs": [],
   "source": []
  },
  {
   "cell_type": "code",
   "execution_count": 195,
   "metadata": {},
   "outputs": [
    {
     "data": {
      "text/plain": [
       "'df[\\'mcllm_binary_stripped\\'] = df[\\'mcllm_binary\\'].apply(lambda s: tuple(v.lstrip(\"(\\'\").rstrip(\"\\')\") for v in s.split(\",\"))[0])\\ndf[\\'mcllm_binary_stripped\\']\\ndf = df[df[\\'mcllm_binary_stripped\\'] != \\'unclear\\']\\nx_label = \\'mcllm_binary_stripped\\''"
      ]
     },
     "execution_count": 195,
     "metadata": {},
     "output_type": "execute_result"
    }
   ],
   "source": [
    "y_label, x_label = 'alex2', 'mcllm_binary'\n",
    "df = df[~df[y_label].isna() & ~df[x_label].isna()]\n",
    "\n",
    "\n",
    "\n",
    "#df['urop'] = df['urop'].apply(str.lower)\n",
    "#df = df[df['urop'] != 'select']\n",
    "\n",
    "\"\"\"df['mcllm_binary_stripped'] = df['mcllm_binary'].apply(lambda s: tuple(v.lstrip(\"('\").rstrip(\"')\") for v in s.split(\",\"))[0])\n",
    "df['mcllm_binary_stripped']\n",
    "df = df[df['mcllm_binary_stripped'] != 'unclear']\n",
    "x_label = 'mcllm_binary_stripped'\"\"\""
   ]
  },
  {
   "cell_type": "code",
   "execution_count": 270,
   "metadata": {},
   "outputs": [],
   "source": [
    "from sklearn.metrics import confusion_matrix\n",
    "import matplotlib.pyplot as plt\n",
    "import seaborn as sns\n",
    "import numpy as np\n",
    "\n",
    "seed = 1\n",
    "train_size = 150\n",
    "true = np.random.RandomState(seed=seed).permutation(df[y_label])[:train_size]\n",
    "pred = np.random.RandomState(seed=seed).permutation(df[x_label])[:train_size]\n",
    "\n",
    "\n",
    "mapping = lambda s: {'background': 'context',\n",
    "                     'future_work': 'context',\n",
    "                    'differences': 'context',\n",
    "                     'future work': 'context',\n",
    "                     'motivation': 'context',\n",
    "                     'similarities': 'context',\n",
    "                     'extends': 'uses',\n",
    "                     '*': 'context'\n",
    "                     }.get(s) or s\n",
    "true, pred = list(map(mapping, true)), list(map(mapping, pred))\n",
    "\n",
    "cm = confusion_matrix(true, pred)"
   ]
  },
  {
   "cell_type": "code",
   "execution_count": 271,
   "metadata": {},
   "outputs": [
    {
     "name": "stdout",
     "output_type": "stream",
     "text": [
      "{'uses', 'context'} {'uses', 'context'}\n"
     ]
    },
    {
     "data": {
      "text/plain": [
       "Text(50.722222222222214, 0.5, 'alex2')"
      ]
     },
     "execution_count": 271,
     "metadata": {},
     "output_type": "execute_result"
    },
    {
     "data": {
      "image/png": "[encoded data removed]",
      "text/plain": [
       "<Figure size 640x480 with 2 Axes>"
      ]
     },
     "metadata": {},
     "output_type": "display_data"
    }
   ],
   "source": [
    "#assert(len(set(true)) == 3), set(true)\n",
    "#assert(len(set(pred)) == 3), set(pred)\n",
    "#labels = ['context', 'extends', 'uses']\n",
    "print(set(true), set(pred))\n",
    "\n",
    "labels = ['context', 'uses']\n",
    "sns.heatmap(cm, annot=True, fmt='d', cmap='Blues', xticklabels=labels, yticklabels=labels)\n",
    "plt.xlabel(x_label)\n",
    "plt.ylabel(y_label)"
   ]
  },
  {
   "cell_type": "code",
   "execution_count": 272,
   "metadata": {},
   "outputs": [
    {
     "name": "stdout",
     "output_type": "stream",
     "text": [
      "[0.18181818 0.2       ]\n",
      "[0.08163265 0.38461538]\n"
     ]
    }
   ],
   "source": [
    "false_positives = (cm - cm * np.identity(len(labels))).sum(axis = 0)/cm.sum(axis = 0)\n",
    "false_negatives = (cm - cm * np.identity(len(labels))).sum(axis = 1)/cm.sum(axis = 1)\n",
    "\n",
    "print(false_positives)\n",
    "print(false_negatives)"
   ]
  },
  {
   "cell_type": "code",
   "execution_count": 273,
   "metadata": {},
   "outputs": [
    {
     "name": "stdout",
     "output_type": "stream",
     "text": [
      "26\n"
     ]
    }
   ],
   "source": [
    "def get_examples(y_value, x_value):\n",
    "    mask = (df[y_label].apply(mapping) == y_value) & (df[x_label].apply(mapping) == x_value) \n",
    "    return df[mask]\n",
    "\n",
    "def format_as_questions(s):\n",
    "    L = list(questions.items())\n",
    "    L.reverse()\n",
    "    for key, value in L:\n",
    "        s = s.replace(f\"answer_{key}\", value)\n",
    "    return s\n",
    "\n",
    "idx = -1\n",
    "samples = get_examples(y_value='uses', x_value = 'context')\n",
    "print(len(samples))"
   ]
  },
  {
   "cell_type": "code",
   "execution_count": 279,
   "metadata": {},
   "outputs": [
    {
     "name": "stdout",
     "output_type": "stream",
     "text": [
      "4 93\n",
      "Drawing from 26 samples\n",
      "529_chinchilla\n",
      "to prevent participants from intentionally or unintentionally selecting examples in a way that overfit to the quirks of a specific model series, we also ran evaluations on several private model series, to check that inverse scaling was also present on held-out models. private models were provided by anthropic (models trained in bai et al, 2022)2 and deepmind (gopher: rae et al, 2021, and chinchilla: <cite>hoffmann et al, 2022</cite>). for deepmind models, we report performance at each model size.\n",
      "```json\n",
      "{\n",
      "    \"explanation_1\": \"The sentence mentions results from the CITED paper by stating the performance of the DeepMind models (Gopher and Chinchilla) in the context of inverse scaling.\",\n",
      "    \"confirmation_1\": \"True\",\n",
      "    \"answer_1\": \"True\",\n",
      "    \n",
      "    \"explanation_2\": \"The sentence does not explicitly mention any techniques from the CITED paper. It only mentions the performance results of the models.\",\n",
      "    \"confirmation_2\": \"True\",\n",
      "    \"answer_2\": \"False\",\n",
      "    \n",
      "    \"explanation_3\": \"The sentence explicitly mentions the performance results of the CITED paper's models (Gopher and Chinchilla) to contextualize their capabilities.\",\n",
      "    \"confirmation_3\": \"True\",\n",
      "    \"answer_3\": \"True\",\n",
      "    \n",
      "    \"explanation_4\": \"The sentence does not mention deploying the encoder or decoder of the CITED foundation model.\",\n",
      "    \"confirmation_4\": \"True\",\n",
      "    \"answer_4\": \"False\",\n",
      "    \n",
      "    \"explanation_5\": \"The sentence does not mention using the CITED foundation model to create embeddings.\",\n",
      "    \"confirmation_5\": \"True\",\n",
      "    \"answer_5\": \"False\",\n",
      "    \n",
      "    \"explanation_6\": \"The sentence does not describe any methodology involving fine-tuning or adjusting the parameter weights of the CITED foundation model.\",\n",
      "    \"confirmation_6\": \"True\",\n",
      "    \"answer_6\": \"False\",\n",
      "    \n",
      "    \"explanation_7\": \"The sentence does not describe adopting the CITED foundation model's architecture as part of their model design.\",\n",
      "    \"confirmation_7\": \"True\",\n",
      "    \"answer_7\": \"False\",\n",
      "    \n",
      "    \"explanation_8\": \"The sentence does not describe training a model using the CITED paper's dataset.\",\n",
      "    \"confirmation_8\": \"True\",\n",
      "    \"answer_8\": \"False\",\n",
      "    \n",
      "    \"explanation_9\": \"The sentence does not mention using the CITED foundation model for feature extraction.\",\n",
      "    \"confirmation_9\": \"True\",\n",
      "    \"answer_9\": \"False\",\n",
      "    \n",
      "    \"explanation_10\": \"The sentence does not mention using the CITED foundation model as a classifier.\",\n",
      "    \"confirmation_10\": \"True\",\n",
      "    \"answer_10\": \"False\",\n",
      "    \n",
      "    \"explanation_11\": \"The sentence does not describe deploying the CITED foundation model to generate data in any form.\",\n",
      "    \"confirmation_11\": \"True\",\n",
      "    \"answer_11\": \"False\"\n",
      "}\n",
      "```\n",
      "uses\n",
      "background\n"
     ]
    }
   ],
   "source": [
    "idx += 1\n",
    "index = samples.index[idx]\n",
    "print(idx, index)\n",
    "print(f\"Drawing from {len(samples)} samples\")\n",
    "print(samples['modelKey'].iloc[idx])\n",
    "\n",
    "print(samples['multisentence'].iloc[idx])\n",
    "print(samples['mcllm_gpt_booleans'].iloc[idx])\n",
    "print(samples[y_label].iloc[idx])\n",
    "print(samples[x_label].iloc[idx])\n"
   ]
  },
  {
   "cell_type": "code",
   "execution_count": 275,
   "metadata": {},
   "outputs": [
    {
     "name": "stdout",
     "output_type": "stream",
     "text": [
      "the tweets were annotated manually into abusive, offensive, hate, vulgar, and violence. different machine learning methods were used such as svm with character n-gram and word n-gram, arabert [35], multilingual bert <cite>[36]</cite>, xlm-roberta [37] and qarib [38]. the results show that monolingual models such as arabert outperformed the multilingual models for detecting offensive and hate speech language with 92% accuracy and 80% f1-score.\n"
     ]
    }
   ],
   "source": [
    "og_path = '/home/gridsan/afogelson/osfm/scripts/urop_samples/uniform_sample/uniform_urop_sample_alex_labeled.csv'\n",
    "df_temp = pd.read_csv(og_path)\n",
    "assert(df_temp['multisentence'].loc[index] == df['multisentence'].loc[index])\n",
    "print(df_temp['multisentence'].loc[index])\n",
    "reclass = input()\n",
    "\n",
    "if (len(reclass) > 0):\n",
    "    df_temp['alex2'].loc[index] = reclass\n",
    "    df_temp.to_csv(og_path, index = False)\n",
    "    \n"
   ]
  },
  {
   "cell_type": "code",
   "execution_count": 189,
   "metadata": {},
   "outputs": [
    {
     "data": {
      "text/plain": [
       "'uses'"
      ]
     },
     "execution_count": 189,
     "metadata": {},
     "output_type": "execute_result"
    }
   ],
   "source": [
    "df['mcllm_binary'].loc[189]"
   ]
  },
  {
   "cell_type": "code",
   "execution_count": 28,
   "metadata": {},
   "outputs": [],
   "source": []
  },
  {
   "cell_type": "code",
   "execution_count": 32,
   "metadata": {},
   "outputs": [
    {
     "name": "stdout",
     "output_type": "stream",
     "text": [
      "Updated 0 labels in /home/gridsan/afogelson/osfm/scripts/urop_samples/uniform_sample/uniform_urop_sample_alex_labeled_gpt4o_response_2024-06-18 13:20:23.603635.csv.\n",
      "Saving to original path.\n"
     ]
    }
   ],
   "source": [
    "\n"
   ]
  },
  {
   "cell_type": "code",
   "execution_count": null,
   "metadata": {},
   "outputs": [],
   "source": []
  }
 ],
 "metadata": {
  "kernelspec": {
   "display_name": ".venv",
   "language": "python",
   "name": "python3"
  },
  "language_info": {
   "codemirror_mode": {
    "name": "ipython",
    "version": 3
   },
   "file_extension": ".py",
   "mimetype": "text/x-python",
   "name": "python",
   "nbconvert_exporter": "python",
   "pygments_lexer": "ipython3",
   "version": "3.9.16"
  }
 },
 "nbformat": 4,
 "nbformat_minor": 2
}
