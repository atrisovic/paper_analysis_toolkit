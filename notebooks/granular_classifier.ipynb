{
 "cells": [
  {
   "cell_type": "code",
   "execution_count": 19,
   "metadata": {},
   "outputs": [],
   "source": [
    "from citations.CitationClassifier import CitationClassifier\n",
    "from documents.Corpus import Corpus\n",
    "from typing import List\n",
    "import regex as re\n",
    "from config import *\n",
    "import json\n",
    "import numpy as np\n",
    "\n",
    "markdown_path = '/Users/Alex/Library/CloudStorage/GoogleDrive-alexjfogelson@gmail.com/My Drive/FutureTech/workspace/true_urop_task2_markdown/'\n"
   ]
  },
  {
   "cell_type": "code",
   "execution_count": 2,
   "metadata": {},
   "outputs": [],
   "source": [
    "\n",
    "class GranularCitationClassier(CitationClassifier):\n",
    "    def __init__(self):\n",
    "        pass\n",
    "    \n",
    "    def classify_text(self, text: str, labels: List[str]) -> str:\n",
    "        fine_tune = bool(re.findall(r'fine\\-tun', text))\n",
    "        in_methods = 'method' in labels\n",
    "        \n",
    "        if fine_tune and in_methods:\n",
    "            return 'fine-tune'\n",
    "        \n",
    "        return 'not-fine-tune'\n",
    "        \n",
    "    \n",
    "    def getClassificationOrdering(self) -> List[str]:\n",
    "        return ['fine-tune', 'not-fine-tune']\n",
    "    \n",
    "    def getClassificationRanking(self, result):\n",
    "        return self.getClassificationOrdering().index(result)"
   ]
  },
  {
   "cell_type": "code",
   "execution_count": null,
   "metadata": {},
   "outputs": [],
   "source": []
  },
  {
   "cell_type": "code",
   "execution_count": 3,
   "metadata": {},
   "outputs": [
    {
     "name": "stderr",
     "output_type": "stream",
     "text": [
      "100%|██████████| 467/467 [00:03<00:00, 124.74it/s]\n",
      "100%|██████████| 953/953 [00:40<00:00, 23.77it/s]\n"
     ]
    }
   ],
   "source": [
    "classifier = GranularCitationClassier()\n",
    "corpus = Corpus(markdown_path, \n",
    "                    extensions = ['mmd'])\n",
    "\n",
    "with open(FOUNDATION_MODELS_PATH, 'r') as f:\n",
    "    foundational_models_json = json.load(f)\n",
    "    keys_, titles_, ids_ = list(zip(*[(key, data['title'].replace('\\\\infty', '∞'), data['paperId']) for key, data in foundational_models_json.items()]))\n",
    "    keys_, titles_, ids_ = list(keys_), list(titles_), list(ids_)\n",
    "\n",
    "foundation_model_filter = [True for id in ids_]\n",
    "keys, titles = np.array(keys_)[foundation_model_filter].tolist(), np.array(titles_)[foundation_model_filter].tolist()\n",
    "\n",
    "corpus.findAllPaperRefsAllTitles(titles = titles, keys = keys, classifier = classifier)\n",
    "\n",
    "textualRefs = corpus.getAllTextualReferences(as_dict=True)"
   ]
  },
  {
   "cell_type": "code",
   "execution_count": 11,
   "metadata": {},
   "outputs": [],
   "source": [
    "fine_tune = [ref for ref in textualRefs if ref['classification'] == 'fine-tune']"
   ]
  },
  {
   "cell_type": "code",
   "execution_count": 18,
   "metadata": {},
   "outputs": [
    {
     "data": {
      "text/plain": [
       "{'sentence': '#### 5.6.1 fine-tuning datasets\\n\\npangu-coder [33] introduces additional datasets which contain apps [66] and code contests <cite>[67]</cite> (cc) datasets from a more similar distribution.',\n",
       " 'classification': 'fine-tune',\n",
       " 'classification_order': 0,\n",
       " 'labels': {'method'},\n",
       " 'FM_key': '193_alphacode',\n",
       " 'FM_title': 'competition-level code generation with alphacode',\n",
       " 'paperId': '362cbfd0d05e139cd6cf049754098a6e1520b910.mmd'}"
      ]
     },
     "execution_count": 18,
     "metadata": {},
     "output_type": "execute_result"
    }
   ],
   "source": [
    "from random import randint\n",
    "\n",
    "fine_tune[randint(0, len(fine_tune))]"
   ]
  },
  {
   "cell_type": "code",
   "execution_count": null,
   "metadata": {},
   "outputs": [],
   "source": []
  }
 ],
 "metadata": {
  "kernelspec": {
   "display_name": ".venv",
   "language": "python",
   "name": "python3"
  },
  "language_info": {
   "codemirror_mode": {
    "name": "ipython",
    "version": 3
   },
   "file_extension": ".py",
   "mimetype": "text/x-python",
   "name": "python",
   "nbconvert_exporter": "python",
   "pygments_lexer": "ipython3",
   "version": "3.12.3"
  }
 },
 "nbformat": 4,
 "nbformat_minor": 2
}
