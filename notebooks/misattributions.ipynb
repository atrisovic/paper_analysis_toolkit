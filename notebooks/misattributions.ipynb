{
 "cells": [
  {
   "cell_type": "code",
   "execution_count": null,
   "metadata": {},
   "outputs": [],
   "source": [
    "import ollama\n",
    "import pandas as pd\n",
    "from tqdm import tqdm\n",
    "from pydantic import BaseModel\n",
    "from sklearn.metrics import confusion_matrix\n",
    "import numpy as np\n",
    "\n",
    "def ollamaResponse(content):\n",
    "    response = ollama.chat(model='llama3', messages=[\n",
    "    {\n",
    "        'role': 'user',\n",
    "        'content': content,\n",
    "    },\n",
    "    ])\n",
    "    return response['message']['content']\n",
    "\n",
    "class Response(BaseModel):\n",
    "    response: int"
   ]
  },
  {
   "cell_type": "code",
   "execution_count": null,
   "metadata": {},
   "outputs": [],
   "source": [
    "path = '/Users/Alex/Desktop/2.FutureTech/OSFM/uniform_sample/results/post_classification_random_sample_8-28 copy.csv'\n",
    "df = pd.read_csv(path)\n",
    "df['alex_confidence'].fillna(10, inplace = True)\n",
    "label = 'alex'\n",
    "\n",
    "df_extends = df[(df['classification'] == 'extends') | (df['alex'] == 'extends')]\n"
   ]
  },
  {
   "cell_type": "code",
   "execution_count": null,
   "metadata": {},
   "outputs": [],
   "source": [
    "prompt = \"The following sentences as from an academic paper, and cites a foundation model indicated by these <cite> citation brackets </cite>. An automated classifier determined that the authors fine-tune or train the cited model, but we want to determine whether this is an error, and in fact other papers or references fine-tuned the cited model. For example, the sentences might say 'Frank et. al. fine-tuned BigModel <cite>[30]</cite> and improved performance by 10%', which would indicate the classifier made an error, as despite mentioning fine-tuning, the authors did not fine-tune themselves. For the following sentences, respond in the JSON format {{\\\"response\\\": int}} to indicate whether this is a misattribution, with 0 being highly unlikely, and 10 being highly likely. Give one response for the whole set of sentences, without explanation. The sentence is as follows: {sentence}\"\n",
    "\n",
    "def is_misattribution(sentence):\n",
    "    return ollamaResponse(prompt.format(sentence = sentence))\n",
    "\n",
    "misattributions = []\n",
    "iters = 5\n",
    "for sentence in tqdm(df_extends['multisentence'], total = len(df_extends)):\n",
    "    responses = [is_misattribution(sentence).lower() for i in range(iters)]\n",
    "    models = map(Response.model_validate_json, responses)\n",
    "    total = np.array([model.response for model in models]).sum()/10\n",
    "    misattributions.append(total)\n",
    "    \n",
    "df_extends['misattributions'] = misattributions\n"
   ]
  },
  {
   "cell_type": "code",
   "execution_count": null,
   "metadata": {},
   "outputs": [],
   "source": [
    "threshold = 2\n",
    "df_extends['corrected_classification'] = [c if misatt < threshold else 'context' for c, misatt in zip(df_extends['classification'], df_extends['misattributions'])]\n",
    "mask = (pd.to_numeric(df_extends['alex_confidence'], errors = 'coerce') >= 5) | df_extends['alex_confidence'].isna()\n",
    "df_filtered = df_extends[mask]\n",
    "cm = confusion_matrix(df_filtered[label], df_filtered['corrected_classification'])\n",
    "cm"
   ]
  },
  {
   "cell_type": "code",
   "execution_count": null,
   "metadata": {},
   "outputs": [],
   "source": [
    "df_extends[df_extends['classification'] == 'context']"
   ]
  },
  {
   "cell_type": "code",
   "execution_count": null,
   "metadata": {},
   "outputs": [],
   "source": []
  }
 ],
 "metadata": {
  "kernelspec": {
   "display_name": "base",
   "language": "python",
   "name": "python3"
  },
  "language_info": {
   "codemirror_mode": {
    "name": "ipython",
    "version": 3
   },
   "file_extension": ".py",
   "mimetype": "text/x-python",
   "name": "python",
   "nbconvert_exporter": "python",
   "pygments_lexer": "ipython3",
   "version": "3.12.2"
  }
 },
 "nbformat": 4,
 "nbformat_minor": 2
}
