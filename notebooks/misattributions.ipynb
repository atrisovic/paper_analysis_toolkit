{
 "cells": [
  {
   "cell_type": "code",
   "execution_count": 1,
   "metadata": {},
   "outputs": [
    {
     "ename": "ModuleNotFoundError",
     "evalue": "No module named 'ollama'",
     "output_type": "error",
     "traceback": [
      "\u001b[0;31m---------------------------------------------------------------------------\u001b[0m",
      "\u001b[0;31mModuleNotFoundError\u001b[0m                       Traceback (most recent call last)",
      "Cell \u001b[0;32mIn[1], line 1\u001b[0m\n\u001b[0;32m----> 1\u001b[0m \u001b[38;5;28;01mimport\u001b[39;00m \u001b[38;5;21;01mollama\u001b[39;00m\n\u001b[1;32m      2\u001b[0m \u001b[38;5;28;01mimport\u001b[39;00m \u001b[38;5;21;01mpandas\u001b[39;00m \u001b[38;5;28;01mas\u001b[39;00m \u001b[38;5;21;01mpd\u001b[39;00m\n\u001b[1;32m      3\u001b[0m \u001b[38;5;28;01mfrom\u001b[39;00m \u001b[38;5;21;01mtqdm\u001b[39;00m \u001b[38;5;28;01mimport\u001b[39;00m tqdm\n",
      "\u001b[0;31mModuleNotFoundError\u001b[0m: No module named 'ollama'"
     ]
    }
   ],
   "source": [
    "import ollama\n",
    "import pandas as pd\n",
    "from tqdm import tqdm\n",
    "from pydantic import BaseModel\n",
    "from sklearn.metrics import confusion_matrix\n",
    "import numpy as np\n",
    "\n",
    "def ollamaResponse(content):\n",
    "    response = ollama.chat(model='llama3', messages=[\n",
    "    {\n",
    "        'role': 'user',\n",
    "        'content': content,\n",
    "    },\n",
    "    ])\n",
    "    return response['message']['content']\n",
    "\n",
    "class Response(BaseModel):\n",
    "    response: int"
   ]
  },
  {
   "cell_type": "code",
   "execution_count": null,
   "metadata": {},
   "outputs": [],
   "source": [
    "path = '/Users/Alex/Desktop/2.FutureTech/OSFM/uniform_sample/results/9-13-and-8-28-with-confidence.csv'\n",
    "df = pd.read_csv(path)\n",
    "label = 'alex'\n",
    "\n",
    "df_extends = df[(df['classification'] == 'extends')]\n"
   ]
  },
  {
   "cell_type": "code",
   "execution_count": null,
   "metadata": {},
   "outputs": [],
   "source": [
    "prompt = \"The following sentences as from an academic paper, and cites a foundation model indicated by these <cite> citation brackets </cite>. An automated classifier determined that teh sentences mention fine-tune or training the cited model. Now suppose that you are the author of these sentences. Base on the following sentences, respond in the JSON format {{\\\"response\\\": bool}} whether you were the one who fine-tuned the model (true) or whether someone else did (false). Give one response for the whole set of sentences, without explanation. The sentence is as follows: {sentence}\"\n",
    "\n",
    "def is_misattribution(sentence):\n",
    "    return ollamaResponse(prompt.format(sentence = sentence))\n",
    "\n",
    "misattributions = []\n",
    "iters = 1\n",
    "for sentence in tqdm(df_extends['multisentence'], total = len(df_extends)):\n",
    "    responses = [is_misattribution(sentence).lower() for i in range(iters)]\n",
    "    models = map(Response.model_validate_json, responses)\n",
    "    total = np.array([model.response for model in models]).sum()\n",
    "    misattributions.append(total)\n",
    "    \n",
    "df_extends['misattributions'] = misattributions\n"
   ]
  },
  {
   "cell_type": "code",
   "execution_count": null,
   "metadata": {},
   "outputs": [],
   "source": [
    "threshold = 2\n",
    "df_extends['corrected_classification'] = [c if misatt < threshold else 'context' for c, misatt in zip(df_extends['classification'], df_extends['misattributions'])]\n",
    "mask = (pd.to_numeric(df_extends['alex_confidence'], errors = 'coerce') >= 5) | df_extends['alex_confidence'].isna()\n",
    "df_filtered = df_extends[mask]\n",
    "cm = confusion_matrix(df_filtered[label], df_filtered['corrected_classification'])\n",
    "cm"
   ]
  },
  {
   "cell_type": "code",
   "execution_count": null,
   "metadata": {},
   "outputs": [],
   "source": [
    "df_extends[df_extends['classification'] == 'context']"
   ]
  },
  {
   "cell_type": "code",
   "execution_count": null,
   "metadata": {},
   "outputs": [],
   "source": []
  }
 ],
 "metadata": {
  "kernelspec": {
   "display_name": "base",
   "language": "python",
   "name": "python3"
  },
  "language_info": {
   "codemirror_mode": {
    "name": "ipython",
    "version": 3
   },
   "file_extension": ".py",
   "mimetype": "text/x-python",
   "name": "python",
   "nbconvert_exporter": "python",
   "pygments_lexer": "ipython3",
   "version": "3.10.14"
  }
 },
 "nbformat": 4,
 "nbformat_minor": 2
}
