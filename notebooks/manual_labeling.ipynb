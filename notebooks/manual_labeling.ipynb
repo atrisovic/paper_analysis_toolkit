{
 "cells": [
  {
   "cell_type": "code",
   "execution_count": 9,
   "metadata": {},
   "outputs": [
    {
     "name": "stdout",
     "output_type": "stream",
     "text": [
      "{'0': 'background', '1': 'motivation', '2': 'extends', '3': 'similarities', '4': 'motivation', '5': 'uses', '6': 'differences', '7': 'future work', '*': '*'}\n"
     ]
    }
   ],
   "source": [
    "import pandas as pd\n",
    "\n",
    "path = '/home/gridsan/afogelson/osfm/scripts/urop_samples/uniform_sample/uniform_urop_sample_alex_labeled.csv'\n",
    "df = pd.read_csv(path)\n",
    "\n",
    "manual_column_name = 'alex2'\n",
    "\n",
    "if (manual_column_name not in set(df.columns)):\n",
    "    df[manual_column_name] = [None for _ in range(len(df))]\n",
    "\n",
    "options = {str(idx): el for idx, el in enumerate(['background', 'motivation', 'extends', 'similarities', 'motivation', 'uses', 'differences', 'future work'])} | {'*': '*'}\n",
    "print(options)"
   ]
  },
  {
   "cell_type": "code",
   "execution_count": 21,
   "metadata": {},
   "outputs": [
    {
     "name": "stdout",
     "output_type": "stream",
     "text": [
      "38/201 left.\n"
     ]
    }
   ],
   "source": [
    "mask = df[manual_column_name].isna()\n",
    "print(f\"{mask.sum()}/{len(mask)} left.\", flush = True)"
   ]
  },
  {
   "cell_type": "code",
   "execution_count": 24,
   "metadata": {},
   "outputs": [],
   "source": [
    "import random\n",
    "from IPython.display import clear_output\n",
    "\n",
    "\n",
    "mask = df[manual_column_name].isna()\n",
    "while mask.sum() > 0:\n",
    "    idx = random.choice(df[mask].index)\n",
    "    \n",
    "    print(f\"{mask.sum()}/{len(mask)} left.\", flush = True)\n",
    "    print(options, flush = True)\n",
    "    print(f\"Model Key:{df.at[idx,'modelKey']}\", flush = True)\n",
    "    print(df.at[idx, 'multisentence'], flush = True)\n",
    "\n",
    "    response = input()\n",
    "    \n",
    "    if (response == 'exit'):\n",
    "        df.to_csv(path)\n",
    "        clear_output()\n",
    "        break\n",
    "    \n",
    "    df.loc[idx, manual_column_name] = options.get(response)\n",
    "    mask = df[manual_column_name].isna()\n",
    "    clear_output()\n",
    "    df.to_csv(path, index = False)\n",
    "    "
   ]
  },
  {
   "cell_type": "code",
   "execution_count": 25,
   "metadata": {},
   "outputs": [],
   "source": [
    "df.to_csv(path, index = False)"
   ]
  },
  {
   "cell_type": "code",
   "execution_count": 31,
   "metadata": {},
   "outputs": [
    {
     "data": {
      "text/html": [
       "<div>\n",
       "<style scoped>\n",
       "    .dataframe tbody tr th:only-of-type {\n",
       "        vertical-align: middle;\n",
       "    }\n",
       "\n",
       "    .dataframe tbody tr th {\n",
       "        vertical-align: top;\n",
       "    }\n",
       "\n",
       "    .dataframe thead th {\n",
       "        text-align: right;\n",
       "    }\n",
       "</style>\n",
       "<table border=\"1\" class=\"dataframe\">\n",
       "  <thead>\n",
       "    <tr style=\"text-align: right;\">\n",
       "      <th></th>\n",
       "      <th>Unnamed: 0.4</th>\n",
       "      <th>Unnamed: 0.3</th>\n",
       "      <th>Unnamed: 0.2</th>\n",
       "      <th>Unnamed: 0.1</th>\n",
       "      <th>Unnamed: 0</th>\n",
       "      <th>sentence</th>\n",
       "      <th>mcllm</th>\n",
       "      <th>modelKey</th>\n",
       "      <th>paperId</th>\n",
       "      <th>modelId_x</th>\n",
       "      <th>...</th>\n",
       "      <th>mc_reduced</th>\n",
       "      <th>urop_sentence</th>\n",
       "      <th>urop</th>\n",
       "      <th>urop_assignee</th>\n",
       "      <th>gpt</th>\n",
       "      <th>mcllmr</th>\n",
       "      <th>mcllm_binary</th>\n",
       "      <th>alex</th>\n",
       "      <th>multisentence</th>\n",
       "      <th>alex2</th>\n",
       "    </tr>\n",
       "  </thead>\n",
       "  <tbody>\n",
       "    <tr>\n",
       "      <th>83</th>\n",
       "      <td>83</td>\n",
       "      <td>83</td>\n",
       "      <td>83</td>\n",
       "      <td>83</td>\n",
       "      <td>83</td>\n",
       "      <td>they are calculated as follows:\\n\\n\\n\\[\\begin{...</td>\n",
       "      <td>uses</td>\n",
       "      <td>573_yolov3</td>\n",
       "      <td>bc0fda8fd4cb15410e40f0a07c7c5f2fcba20cbe</td>\n",
       "      <td>ebc96892b9bcbf007be9a1d7844e4b09fde9d961</td>\n",
       "      <td>...</td>\n",
       "      <td>uses</td>\n",
       "      <td>they are calculated as follows:\\n\\n\\[\\begin{sp...</td>\n",
       "      <td>Select</td>\n",
       "      <td>NaN</td>\n",
       "      <td>background</td>\n",
       "      <td>uses</td>\n",
       "      <td>uses</td>\n",
       "      <td>*</td>\n",
       "      <td>recognition performance of he-yolo. they are c...</td>\n",
       "      <td>*</td>\n",
       "    </tr>\n",
       "    <tr>\n",
       "      <th>126</th>\n",
       "      <td>126</td>\n",
       "      <td>126</td>\n",
       "      <td>126</td>\n",
       "      <td>126</td>\n",
       "      <td>126</td>\n",
       "      <td>for a comparative analysis, we experiment with...</td>\n",
       "      <td>uses</td>\n",
       "      <td>582_bart-large</td>\n",
       "      <td>021c4ba0cbc8ebe9290cf74ef8b3d653f625bd54</td>\n",
       "      <td>395de0bd3837fdf4b4b5e5f04835bcc69c279481</td>\n",
       "      <td>...</td>\n",
       "      <td>uses</td>\n",
       "      <td>for a comparative analysis, we experiment with...</td>\n",
       "      <td>Differences</td>\n",
       "      <td>Selinna</td>\n",
       "      <td>differences</td>\n",
       "      <td>background</td>\n",
       "      <td>uses</td>\n",
       "      <td>NaN</td>\n",
       "      <td>##  baseline methods and comparisons\\n\\nwe con...</td>\n",
       "      <td>*</td>\n",
       "    </tr>\n",
       "    <tr>\n",
       "      <th>135</th>\n",
       "      <td>135</td>\n",
       "      <td>135</td>\n",
       "      <td>135</td>\n",
       "      <td>135</td>\n",
       "      <td>135</td>\n",
       "      <td>this example is adapted from test cases for sh...</td>\n",
       "      <td>uses</td>\n",
       "      <td>521_roberta_large</td>\n",
       "      <td>6ab8aca8f631f42760a86cc614dfd7208b3fe58e</td>\n",
       "      <td>077f8329a7b6fa3b7c877a57b81eb6c18b5f87de</td>\n",
       "      <td>...</td>\n",
       "      <td>extends</td>\n",
       "      <td>this example is adapted from test cases for sh...</td>\n",
       "      <td>Background</td>\n",
       "      <td>Selinna</td>\n",
       "      <td>background</td>\n",
       "      <td>background</td>\n",
       "      <td>extends</td>\n",
       "      <td>NaN</td>\n",
       "      <td>##  2. running example\\n\\nfigure 1 shows the m...</td>\n",
       "      <td>*</td>\n",
       "    </tr>\n",
       "    <tr>\n",
       "      <th>184</th>\n",
       "      <td>184</td>\n",
       "      <td>184</td>\n",
       "      <td>184</td>\n",
       "      <td>184</td>\n",
       "      <td>184</td>\n",
       "      <td>we basically follow the original paper &lt;cite&gt;d...</td>\n",
       "      <td>uses</td>\n",
       "      <td>1064_bert-large</td>\n",
       "      <td>ee8d05579b258a287a700e8b745959cba4713a36</td>\n",
       "      <td>df2b0e26d0599ce3e70df8a9da02e51594e0e992</td>\n",
       "      <td>...</td>\n",
       "      <td>extends</td>\n",
       "      <td>we basically follow the original paper &lt;cite&gt;d...</td>\n",
       "      <td>Motivation</td>\n",
       "      <td>Selinna</td>\n",
       "      <td>extends</td>\n",
       "      <td>differences</td>\n",
       "      <td>extends</td>\n",
       "      <td>extends</td>\n",
       "      <td>hyper-parametersfor pretraining, we train the ...</td>\n",
       "      <td>*</td>\n",
       "    </tr>\n",
       "    <tr>\n",
       "      <th>189</th>\n",
       "      <td>189</td>\n",
       "      <td>189</td>\n",
       "      <td>189</td>\n",
       "      <td>189</td>\n",
       "      <td>189</td>\n",
       "      <td>4.1)\\n\\n\\n### encoding code cells with attenti...</td>\n",
       "      <td>extends</td>\n",
       "      <td>1064_bert-large</td>\n",
       "      <td>75e36bb95023e55f7dec95d1af557e219ba3d349</td>\n",
       "      <td>df2b0e26d0599ce3e70df8a9da02e51594e0e992</td>\n",
       "      <td>...</td>\n",
       "      <td>extends</td>\n",
       "      <td>4.1)\\n\\n### encoding code cells with attention...</td>\n",
       "      <td>Extends</td>\n",
       "      <td>Denis</td>\n",
       "      <td>extends</td>\n",
       "      <td>extends</td>\n",
       "      <td>extends</td>\n",
       "      <td>NaN</td>\n",
       "      <td>in practice, we also use connections between [...</td>\n",
       "      <td>*</td>\n",
       "    </tr>\n",
       "  </tbody>\n",
       "</table>\n",
       "<p>5 rows × 22 columns</p>\n",
       "</div>"
      ],
      "text/plain": [
       "     Unnamed: 0.4  Unnamed: 0.3  Unnamed: 0.2  Unnamed: 0.1  Unnamed: 0   \n",
       "83             83            83            83            83          83  \\\n",
       "126           126           126           126           126         126   \n",
       "135           135           135           135           135         135   \n",
       "184           184           184           184           184         184   \n",
       "189           189           189           189           189         189   \n",
       "\n",
       "                                              sentence    mcllm   \n",
       "83   they are calculated as follows:\\n\\n\\n\\[\\begin{...     uses  \\\n",
       "126  for a comparative analysis, we experiment with...     uses   \n",
       "135  this example is adapted from test cases for sh...     uses   \n",
       "184  we basically follow the original paper <cite>d...     uses   \n",
       "189  4.1)\\n\\n\\n### encoding code cells with attenti...  extends   \n",
       "\n",
       "              modelKey                                   paperId   \n",
       "83          573_yolov3  bc0fda8fd4cb15410e40f0a07c7c5f2fcba20cbe  \\\n",
       "126     582_bart-large  021c4ba0cbc8ebe9290cf74ef8b3d653f625bd54   \n",
       "135  521_roberta_large  6ab8aca8f631f42760a86cc614dfd7208b3fe58e   \n",
       "184    1064_bert-large  ee8d05579b258a287a700e8b745959cba4713a36   \n",
       "189    1064_bert-large  75e36bb95023e55f7dec95d1af557e219ba3d349   \n",
       "\n",
       "                                    modelId_x  ... mc_reduced   \n",
       "83   ebc96892b9bcbf007be9a1d7844e4b09fde9d961  ...       uses  \\\n",
       "126  395de0bd3837fdf4b4b5e5f04835bcc69c279481  ...       uses   \n",
       "135  077f8329a7b6fa3b7c877a57b81eb6c18b5f87de  ...    extends   \n",
       "184  df2b0e26d0599ce3e70df8a9da02e51594e0e992  ...    extends   \n",
       "189  df2b0e26d0599ce3e70df8a9da02e51594e0e992  ...    extends   \n",
       "\n",
       "                                         urop_sentence         urop   \n",
       "83   they are calculated as follows:\\n\\n\\[\\begin{sp...       Select  \\\n",
       "126  for a comparative analysis, we experiment with...  Differences   \n",
       "135  this example is adapted from test cases for sh...   Background   \n",
       "184  we basically follow the original paper <cite>d...   Motivation   \n",
       "189  4.1)\\n\\n### encoding code cells with attention...      Extends   \n",
       "\n",
       "    urop_assignee          gpt       mcllmr mcllm_binary     alex   \n",
       "83            NaN   background         uses         uses        *  \\\n",
       "126       Selinna  differences   background         uses      NaN   \n",
       "135       Selinna   background   background      extends      NaN   \n",
       "184       Selinna      extends  differences      extends  extends   \n",
       "189         Denis      extends      extends      extends      NaN   \n",
       "\n",
       "                                         multisentence alex2  \n",
       "83   recognition performance of he-yolo. they are c...     *  \n",
       "126  ##  baseline methods and comparisons\\n\\nwe con...     *  \n",
       "135  ##  2. running example\\n\\nfigure 1 shows the m...     *  \n",
       "184  hyper-parametersfor pretraining, we train the ...     *  \n",
       "189  in practice, we also use connections between [...     *  \n",
       "\n",
       "[5 rows x 22 columns]"
      ]
     },
     "execution_count": 31,
     "metadata": {},
     "output_type": "execute_result"
    }
   ],
   "source": [
    "df[df['alex2'] == \"*\"]"
   ]
  },
  {
   "cell_type": "markdown",
   "metadata": {},
   "source": [
    "# Matching single sentences with their context from another dataframe"
   ]
  },
  {
   "cell_type": "code",
   "execution_count": null,
   "metadata": {},
   "outputs": [],
   "source": [
    "new_results = pd.read_csv('/home/gridsan/afogelson/osfm/paper_analysis_toolkit/results/citations/results_2024-06-13 09:43:52_worker1of1.csv')"
   ]
  },
  {
   "cell_type": "code",
   "execution_count": 70,
   "metadata": {},
   "outputs": [],
   "source": [
    "def get_multisentence(row):\n",
    "    sentence, paperId, modelKey = row['sentence'], row['paperId'], row['modelKey']\n",
    "    mask = (new_results['paperId'] == paperId) & (new_results['modelKey'] == modelKey) & new_results['sentence'].apply(lambda s: s.find(sentence[:17]) >= 0)\n",
    "    if mask.sum() == 1:\n",
    "        return new_results[mask]['sentence'].iloc[0]\n",
    "    else:\n",
    "        return None\n"
   ]
  },
  {
   "cell_type": "code",
   "execution_count": 71,
   "metadata": {},
   "outputs": [
    {
     "data": {
      "text/plain": [
       "19"
      ]
     },
     "execution_count": 71,
     "metadata": {},
     "output_type": "execute_result"
    }
   ],
   "source": [
    "df['multisentence'] = df.apply(get_multisentence, axis = 1)\n"
   ]
  },
  {
   "cell_type": "code",
   "execution_count": 163,
   "metadata": {},
   "outputs": [
    {
     "name": "stdout",
     "output_type": "stream",
     "text": [
      "0\n"
     ]
    },
    {
     "ename": "IndexError",
     "evalue": "single positional indexer is out-of-bounds",
     "output_type": "error",
     "traceback": [
      "\u001b[0;31m---------------------------------------------------------------------------\u001b[0m",
      "\u001b[0;31mIndexError\u001b[0m                                Traceback (most recent call last)",
      "Cell \u001b[0;32mIn[163], line 4\u001b[0m\n\u001b[1;32m      2\u001b[0m \u001b[38;5;28mprint\u001b[39m(missing\u001b[38;5;241m.\u001b[39msum())\n\u001b[1;32m      3\u001b[0m idx \u001b[38;5;241m=\u001b[39m \u001b[38;5;241m0\u001b[39m\n\u001b[0;32m----> 4\u001b[0m target_sentence, modelKey, paperId, index \u001b[38;5;241m=\u001b[39m \u001b[43mdf\u001b[49m\u001b[43m[\u001b[49m\u001b[43mmissing\u001b[49m\u001b[43m]\u001b[49m\u001b[43m[\u001b[49m\u001b[38;5;124;43m'\u001b[39;49m\u001b[38;5;124;43msentence\u001b[39;49m\u001b[38;5;124;43m'\u001b[39;49m\u001b[43m]\u001b[49m\u001b[38;5;241;43m.\u001b[39;49m\u001b[43miloc\u001b[49m\u001b[43m[\u001b[49m\u001b[43midx\u001b[49m\u001b[43m]\u001b[49m, df[missing][\u001b[38;5;124m'\u001b[39m\u001b[38;5;124mmodelKey\u001b[39m\u001b[38;5;124m'\u001b[39m]\u001b[38;5;241m.\u001b[39miloc[idx], df[missing][\u001b[38;5;124m'\u001b[39m\u001b[38;5;124mpaperId\u001b[39m\u001b[38;5;124m'\u001b[39m]\u001b[38;5;241m.\u001b[39miloc[idx], df[missing]\u001b[38;5;241m.\u001b[39mindex[idx]\n\u001b[1;32m      6\u001b[0m \u001b[38;5;28mprint\u001b[39m(target_sentence)\n\u001b[1;32m      7\u001b[0m valid_results \u001b[38;5;241m=\u001b[39m new_results[(new_results[\u001b[38;5;124m'\u001b[39m\u001b[38;5;124mmodelKey\u001b[39m\u001b[38;5;124m'\u001b[39m] \u001b[38;5;241m==\u001b[39m modelKey) \u001b[38;5;241m&\u001b[39m (new_results[\u001b[38;5;124m'\u001b[39m\u001b[38;5;124mpaperId\u001b[39m\u001b[38;5;124m'\u001b[39m] \u001b[38;5;241m==\u001b[39m paperId) \u001b[38;5;241m&\u001b[39m new_results[\u001b[38;5;124m'\u001b[39m\u001b[38;5;124msentence\u001b[39m\u001b[38;5;124m'\u001b[39m]\u001b[38;5;241m.\u001b[39mapply(\u001b[38;5;28;01mlambda\u001b[39;00m s: s\u001b[38;5;241m.\u001b[39mfind(target_sentence[:\u001b[38;5;241m5\u001b[39m]) \u001b[38;5;241m>\u001b[39m\u001b[38;5;241m=\u001b[39m\u001b[38;5;241m0\u001b[39m)]\n",
      "File \u001b[0;32m/state/partition1/llgrid/pkg/anaconda/anaconda3-2023a-pytorch/lib/python3.9/site-packages/pandas/core/indexing.py:1103\u001b[0m, in \u001b[0;36m_LocationIndexer.__getitem__\u001b[0;34m(self, key)\u001b[0m\n\u001b[1;32m   1100\u001b[0m axis \u001b[38;5;241m=\u001b[39m \u001b[38;5;28mself\u001b[39m\u001b[38;5;241m.\u001b[39maxis \u001b[38;5;129;01mor\u001b[39;00m \u001b[38;5;241m0\u001b[39m\n\u001b[1;32m   1102\u001b[0m maybe_callable \u001b[38;5;241m=\u001b[39m com\u001b[38;5;241m.\u001b[39mapply_if_callable(key, \u001b[38;5;28mself\u001b[39m\u001b[38;5;241m.\u001b[39mobj)\n\u001b[0;32m-> 1103\u001b[0m \u001b[38;5;28;01mreturn\u001b[39;00m \u001b[38;5;28;43mself\u001b[39;49m\u001b[38;5;241;43m.\u001b[39;49m\u001b[43m_getitem_axis\u001b[49m\u001b[43m(\u001b[49m\u001b[43mmaybe_callable\u001b[49m\u001b[43m,\u001b[49m\u001b[43m \u001b[49m\u001b[43maxis\u001b[49m\u001b[38;5;241;43m=\u001b[39;49m\u001b[43maxis\u001b[49m\u001b[43m)\u001b[49m\n",
      "File \u001b[0;32m/state/partition1/llgrid/pkg/anaconda/anaconda3-2023a-pytorch/lib/python3.9/site-packages/pandas/core/indexing.py:1656\u001b[0m, in \u001b[0;36m_iLocIndexer._getitem_axis\u001b[0;34m(self, key, axis)\u001b[0m\n\u001b[1;32m   1653\u001b[0m     \u001b[38;5;28;01mraise\u001b[39;00m \u001b[38;5;167;01mTypeError\u001b[39;00m(\u001b[38;5;124m\"\u001b[39m\u001b[38;5;124mCannot index by location index with a non-integer key\u001b[39m\u001b[38;5;124m\"\u001b[39m)\n\u001b[1;32m   1655\u001b[0m \u001b[38;5;66;03m# validate the location\u001b[39;00m\n\u001b[0;32m-> 1656\u001b[0m \u001b[38;5;28;43mself\u001b[39;49m\u001b[38;5;241;43m.\u001b[39;49m\u001b[43m_validate_integer\u001b[49m\u001b[43m(\u001b[49m\u001b[43mkey\u001b[49m\u001b[43m,\u001b[49m\u001b[43m \u001b[49m\u001b[43maxis\u001b[49m\u001b[43m)\u001b[49m\n\u001b[1;32m   1658\u001b[0m \u001b[38;5;28;01mreturn\u001b[39;00m \u001b[38;5;28mself\u001b[39m\u001b[38;5;241m.\u001b[39mobj\u001b[38;5;241m.\u001b[39m_ixs(key, axis\u001b[38;5;241m=\u001b[39maxis)\n",
      "File \u001b[0;32m/state/partition1/llgrid/pkg/anaconda/anaconda3-2023a-pytorch/lib/python3.9/site-packages/pandas/core/indexing.py:1589\u001b[0m, in \u001b[0;36m_iLocIndexer._validate_integer\u001b[0;34m(self, key, axis)\u001b[0m\n\u001b[1;32m   1587\u001b[0m len_axis \u001b[38;5;241m=\u001b[39m \u001b[38;5;28mlen\u001b[39m(\u001b[38;5;28mself\u001b[39m\u001b[38;5;241m.\u001b[39mobj\u001b[38;5;241m.\u001b[39m_get_axis(axis))\n\u001b[1;32m   1588\u001b[0m \u001b[38;5;28;01mif\u001b[39;00m key \u001b[38;5;241m>\u001b[39m\u001b[38;5;241m=\u001b[39m len_axis \u001b[38;5;129;01mor\u001b[39;00m key \u001b[38;5;241m<\u001b[39m \u001b[38;5;241m-\u001b[39mlen_axis:\n\u001b[0;32m-> 1589\u001b[0m     \u001b[38;5;28;01mraise\u001b[39;00m \u001b[38;5;167;01mIndexError\u001b[39;00m(\u001b[38;5;124m\"\u001b[39m\u001b[38;5;124msingle positional indexer is out-of-bounds\u001b[39m\u001b[38;5;124m\"\u001b[39m)\n",
      "\u001b[0;31mIndexError\u001b[0m: single positional indexer is out-of-bounds"
     ]
    }
   ],
   "source": [
    "missing = df['multisentence'].isna()\n",
    "print(missing.sum())\n",
    "idx = 0\n",
    "target_sentence, modelKey, paperId, index = df[missing]['sentence'].iloc[idx], df[missing]['modelKey'].iloc[idx], df[missing]['paperId'].iloc[idx], df[missing].index[idx]\n",
    "\n",
    "print(target_sentence)\n",
    "valid_results = new_results[(new_results['modelKey'] == modelKey) & (new_results['paperId'] == paperId) & new_results['sentence'].apply(lambda s: s.find(target_sentence[:5]) >=0)]\n",
    "\n",
    "valid_results"
   ]
  },
  {
   "cell_type": "code",
   "execution_count": 161,
   "metadata": {},
   "outputs": [
    {
     "name": "stdout",
     "output_type": "stream",
     "text": [
      "\\begin{table}\n",
      "\\begin{tabular}{c c c c c c} \\hline \\hline \\multirow{2}{*}{**method**} & \\multicolumn{4}{c}{**noise level**} \\\\ \\cline{2-5}  & 0\\% & 10\\% & 20\\% & 40\\% & 60\\% \\\\ \\cline{2-5}  & top-1(top-5) & top-1(top-5) & top-1(top-5) & top-1(top-5) \\\\ \\hline bbn (zhou et al, 2020) & 63.11(**87.06**) & 62.03(**86.79**) & 60.03(**85.73**) & 55.59(**83.68**) & 50.22(80.47) \\\\ ldam (cao et al, 2019) & **64.25**(86.82) & **62.71**(86.19) & **60.69**(85.18) & **56.29**(82.53) & **50.79**(79.52) \\\\ decoupling-ncm (kang et al, 2020) & 62.54(85.59) & 60.85(85.61) & 58.94(84.71) & 54.86(82.58) & 50.09(79.76) \\\\ decoupling-crt (kang et al, 2020) & 62.89(86.16) & 61.86(86.53) & 59.99(85.41) & 55.80(83.29) & 51.82(**81.40**) \\\\ decoupling-lws (kang et al, 2020) & 61.87(85.75) & 60.42(85.96) & 58.61(84.63) & 54.30(82.20) & 49.61(79.50) \\\\ \\hline \\hline \\end{tabular}\n",
      "\\end{table}\n",
      "table 11: optimal hyperparameter settings for different controlled synthetic label noise on noisywikihow. \\begin{table}\n",
      "\\begin{tabular}{c c c c} \\hline \\hline \\multirow{2}{*}{**method**} & \\multicolumn{4}{c}{**noise level**} \\\\ \\cline{2-5}  & 0\\% & 10\\% & 20\\% & 40\\% & 60\\% \\\\ \\cline{2-5}  & top-1(top-5) & top-1(top-5) & top-1(top-5) & top-1(top-5) \\\\ \\hline base model (<cite>lewis et al, 2020</cite>) & 61.72(86.90) & 60.28(85.92) & 58.94(84.67) & 54.57(82.38) & 49.75(78.84) \\\\ mixup (zhang et al, 2018) & 62.08(86.99) & 61.34(86.61) & 58.92(85.76) & 55.91(83.49) & 51.59(81.09) \\\\ data parameter (saxena et al, 2019) & 61.91(86.54) & 60.87(86.24) & 58.97(85.65) & 54.70(82.05) & 50.94(79.70) \\\\ sr (zhou et al, 2021) & 62.32(87.35) & 60.95(86.23) & 58.78(86.09) & 52.52(82.81) & 51.14(79.70) \\\\ co-teaching (han et al, 2018b) & 61.68(87.04) & 60.41(86.11) & 58.48(83.99) & 54.57(81.58) & 49.20(77.06) \\\\ cnlcu (xia et al, 2022) & 61.25(86.67) & 60.08(85.25) & 58.33(83.52) & 54.95(81.20) & 50.91(78.08) \\\\ seal (chen et al, 2021) & **63.29(87.65)** & **62.53(87.27)** & **61.49(86.57)** & **57.35(84.41)** & **52.73(81.56)** \\\\ \\hline \\hline \\end{tabular}\n",
      "\\end{table}\n",
      "table 8: top-1 (top-5) classification accuracy (%) of representative lnl methods on the test set of noisywikihow under different noise levels. \\begin{table}\n",
      "\\begin{tabular}{c c c c} \\hline \\hline \\multirow{2}{*}{**method**} & \\multicolumn{4}{c}{**optical hyperparameters settings**} \\\\ \\cline{2-4}  & 10\\% & 20\\% & 40\\% & 60\\% \\\\ \\cline{2-4}  & top-1(top-5) & top-1(top-5) & top-1(top-5) & top-1(top-5) \\\\ \\hline base model & 59.83(85.66) & 58.89(84.97) & 55.66(82.03) & 51.49(78.29) \\\\ mixup (zhang et al, 2018) & 61.61(86.40) & 59.78(85.57) & 57.01(83.20) & 51.80(78.97) \\\\ data parameter (saxena et al, 2019) & 60.94(85.74) & 59.56(85.39) & 55.81(82.41) & 51.69(78.73) \\\\ sr (zhou et al, 2021) & 60.25(82.35) & 59.51(81.54) & 56.80(79.71) & 51.90(77.38) \\\\ co-teaching (han et al, 2018b) & 60.86(86.06) & 59.97(85.16) & 56.92(82.99) & 52.95(79.85) \\\\ cnlcu (xia et al, 2022) & 60.46(85.84) & 59.49(84.92) & 57.16(83.05) & 52.51(78.28) \\\\ seal (chen et al, 2021) & **62.69(87.66)** & **61.41(86.99)** & **58.97(84.77)** & **54.66(80.92)** \\\\ \\hline \\hline \\end{tabular}\n",
      "\\end{table}\n",
      "table 9: optimal hyperparameter settings for different controlled real-world label noise on noisywikihow.\n"
     ]
    }
   ],
   "source": [
    "print(valid_results['sentence'].iloc[2])"
   ]
  },
  {
   "cell_type": "code",
   "execution_count": 162,
   "metadata": {},
   "outputs": [
    {
     "name": "stdout",
     "output_type": "stream",
     "text": [
      "\\begin{table}\n",
      "\\begin{tabular}{c c c c c c} \\hline \\hline \\multirow{2}{*}{**method**} & \\multicolumn{4}{c}{**noise level**} \\\\ \\cline{2-5}  & 0\\% & 10\\% & 20\\% & 40\\% & 60\\% \\\\ \\cline{2-5}  & top-1(top-5) & top-1(top-5) & top-1(top-5) & top-1(top-5) \\\\ \\hline bbn (zhou et al, 2020) & 63.11(**87.06**) & 62.03(**86.79**) & 60.03(**85.73**) & 55.59(**83.68**) & 50.22(80.47) \\\\ ldam (cao et al, 2019) & **64.25**(86.82) & **62.71**(86.19) & **60.69**(85.18) & **56.29**(82.53) & **50.79**(79.52) \\\\ decoupling-ncm (kang et al, 2020) & 62.54(85.59) & 60.85(85.61) & 58.94(84.71) & 54.86(82.58) & 50.09(79.76) \\\\ decoupling-crt (kang et al, 2020) & 62.89(86.16) & 61.86(86.53) & 59.99(85.41) & 55.80(83.29) & 51.82(**81.40**) \\\\ decoupling-lws (kang et al, 2020) & 61.87(85.75) & 60.42(85.96) & 58.61(84.63) & 54.30(82.20) & 49.61(79.50) \\\\ \\hline \\hline \\end{tabular}\n",
      "\\end{table}\n",
      "table 11: optimal hyperparameter settings for different controlled synthetic label noise on noisywikihow. \\begin{table}\n",
      "\\begin{tabular}{c c c c} \\hline \\hline \\multirow{2}{*}{**method**} & \\multicolumn{4}{c}{**noise level**} \\\\ \\cline{2-5}  & 0\\% & 10\\% & 20\\% & 40\\% & 60\\% \\\\ \\cline{2-5}  & top-1(top-5) & top-1(top-5) & top-1(top-5) & top-1(top-5) \\\\ \\hline base model (<cite>lewis et al, 2020</cite>) & 61.72(86.90) & 60.28(85.92) & 58.94(84.67) & 54.57(82.38) & 49.75(78.84) \\\\ mixup (zhang et al, 2018) & 62.08(86.99) & 61.34(86.61) & 58.92(85.76) & 55.91(83.49) & 51.59(81.09) \\\\ data parameter (saxena et al, 2019) & 61.91(86.54) & 60.87(86.24) & 58.97(85.65) & 54.70(82.05) & 50.94(79.70) \\\\ sr (zhou et al, 2021) & 62.32(87.35) & 60.95(86.23) & 58.78(86.09) & 52.52(82.81) & 51.14(79.70) \\\\ co-teaching (han et al, 2018b) & 61.68(87.04) & 60.41(86.11) & 58.48(83.99) & 54.57(81.58) & 49.20(77.06) \\\\ cnlcu (xia et al, 2022) & 61.25(86.67) & 60.08(85.25) & 58.33(83.52) & 54.95(81.20) & 50.91(78.08) \\\\ seal (chen et al, 2021) & **63.29(87.65)** & **62.53(87.27)** & **61.49(86.57)** & **57.35(84.41)** & **52.73(81.56)** \\\\ \\hline \\hline \\end{tabular}\n",
      "\\end{table}\n",
      "table 8: top-1 (top-5) classification accuracy (%) of representative lnl methods on the test set of noisywikihow under different noise levels. \\begin{table}\n",
      "\\begin{tabular}{c c c c} \\hline \\hline \\multirow{2}{*}{**method**} & \\multicolumn{4}{c}{**optical hyperparameters settings**} \\\\ \\cline{2-4}  & 10\\% & 20\\% & 40\\% & 60\\% \\\\ \\cline{2-4}  & top-1(top-5) & top-1(top-5) & top-1(top-5) & top-1(top-5) \\\\ \\hline base model & 59.83(85.66) & 58.89(84.97) & 55.66(82.03) & 51.49(78.29) \\\\ mixup (zhang et al, 2018) & 61.61(86.40) & 59.78(85.57) & 57.01(83.20) & 51.80(78.97) \\\\ data parameter (saxena et al, 2019) & 60.94(85.74) & 59.56(85.39) & 55.81(82.41) & 51.69(78.73) \\\\ sr (zhou et al, 2021) & 60.25(82.35) & 59.51(81.54) & 56.80(79.71) & 51.90(77.38) \\\\ co-teaching (han et al, 2018b) & 60.86(86.06) & 59.97(85.16) & 56.92(82.99) & 52.95(79.85) \\\\ cnlcu (xia et al, 2022) & 60.46(85.84) & 59.49(84.92) & 57.16(83.05) & 52.51(78.28) \\\\ seal (chen et al, 2021) & **62.69(87.66)** & **61.41(86.99)** & **58.97(84.77)** & **54.66(80.92)** \\\\ \\hline \\hline \\end{tabular}\n",
      "\\end{table}\n",
      "table 9: optimal hyperparameter settings for different controlled real-world label noise on noisywikihow.\n",
      "\\begin{table}\n",
      "\\begin{tabular}{c c c c c c} \\hline \\hline \\multirow{2}{*}{**method**} & \\multicolumn{4}{c}{**noise level**} \\\\ \\cline{2-5}  & 0\\% & 10\\% & 20\\% & 40\\% & 60\\% \\\\ \\cline{2-5}  & top-1(top-5) & top-1(top-5) & top-1(top-5) & top-1(top-5) \\\\ \\hline bbn (zhou et al, 2020) & 63.11(**87.06**) & 62.03(**86.79**) & 60.03(**85.73**) & 55.59(**83.68**) & 50.22(80.47) \\\\ ldam (cao et al, 2019) & **64.25**(86.82) & **62.71**(86.19) & **60.69**(85.18) & **56.29**(82.53) & **50.79**(79.52) \\\\ decoupling-ncm (kang et al, 2020) & 62.54(85.59) & 60.85(85.61) & 58.94(84.71) & 54.86(82.58) & 50.09(79.76) \\\\ decoupling-crt (kang et al, 2020) & 62.89(86.16) & 61.86(86.53) & 59.99(85.41) & 55.80(83.29) & 51.82(**81.40**) \\\\ decoupling-lws (kang et al, 2020) & 61.87(85.75) & 60.42(85.96) & 58.61(84.63) & 54.30(82.20) & 49.61(79.50) \\\\ \\hline \\hline \\end{tabular}\n",
      "\\end{table}\n",
      "table 11: optimal hyperparameter settings for different controlled synthetic label noise on noisywikihow. \\begin{table}\n",
      "\\begin{tabular}{c c c c} \\hline \\hline \\multirow{2}{*}{**method**} & \\multicolumn{4}{c}{**noise level**} \\\\ \\cline{2-5}  & 0\\% & 10\\% & 20\\% & 40\\% & 60\\% \\\\ \\cline{2-5}  & top-1(top-5) & top-1(top-5) & top-1(top-5) & top-1(top-5) \\\\ \\hline base model (<cite>lewis et al, 2020</cite>) & 61.72(86.90) & 60.28(85.92) & 58.94(84.67) & 54.57(82.38) & 49.75(78.84) \\\\ mixup (zhang et al, 2018) & 62.08(86.99) & 61.34(86.61) & 58.92(85.76) & 55.91(83.49) & 51.59(81.09) \\\\ data parameter (saxena et al, 2019) & 61.91(86.54) & 60.87(86.24) & 58.97(85.65) & 54.70(82.05) & 50.94(79.70) \\\\ sr (zhou et al, 2021) & 62.32(87.35) & 60.95(86.23) & 58.78(86.09) & 52.52(82.81) & 51.14(79.70) \\\\ co-teaching (han et al, 2018b) & 61.68(87.04) & 60.41(86.11) & 58.48(83.99) & 54.57(81.58) & 49.20(77.06) \\\\ cnlcu (xia et al, 2022) & 61.25(86.67) & 60.08(85.25) & 58.33(83.52) & 54.95(81.20) & 50.91(78.08) \\\\ seal (chen et al, 2021) & **63.29(87.65)** & **62.53(87.27)** & **61.49(86.57)** & **57.35(84.41)** & **52.73(81.56)** \\\\ \\hline \\hline \\end{tabular}\n",
      "\\end{table}\n",
      "table 8: top-1 (top-5) classification accuracy (%) of representative lnl methods on the test set of noisywikihow under different noise levels. \\begin{table}\n",
      "\\begin{tabular}{c c c c} \\hline \\hline \\multirow{2}{*}{**method**} & \\multicolumn{4}{c}{**optical hyperparameters settings**} \\\\ \\cline{2-4}  & 10\\% & 20\\% & 40\\% & 60\\% \\\\ \\cline{2-4}  & top-1(top-5) & top-1(top-5) & top-1(top-5) & top-1(top-5) \\\\ \\hline base model & 59.83(85.66) & 58.89(84.97) & 55.66(82.03) & 51.49(78.29) \\\\ mixup (zhang et al, 2018) & 61.61(86.40) & 59.78(85.57) & 57.01(83.20) & 51.80(78.97) \\\\ data parameter (saxena et al, 2019) & 60.94(85.74) & 59.56(85.39) & 55.81(82.41) & 51.69(78.73) \\\\ sr (zhou et al, 2021) & 60.25(82.35) & 59.51(81.54) & 56.80(79.71) & 51.90(77.38) \\\\ co-teaching (han et al, 2018b) & 60.86(86.06) & 59.97(85.16) & 56.92(82.99) & 52.95(79.85) \\\\ cnlcu (xia et al, 2022) & 60.46(85.84) & 59.49(84.92) & 57.16(83.05) & 52.51(78.28) \\\\ seal (chen et al, 2021) & **62.69(87.66)** & **61.41(86.99)** & **58.97(84.77)** & **54.66(80.92)** \\\\ \\hline \\hline \\end{tabular}\n",
      "\\end{table}\n",
      "table 9: optimal hyperparameter settings for different controlled real-world label noise on noisywikihow.\n"
     ]
    }
   ],
   "source": [
    "found_multisentence = valid_results['sentence'].iloc[2]\n",
    "print(found_multisentence)\n",
    "df.at[index,'multisentence'] = found_multisentence\n",
    "print(df.at[index,'multisentence'])"
   ]
  },
  {
   "cell_type": "code",
   "execution_count": null,
   "metadata": {},
   "outputs": [],
   "source": []
  },
  {
   "cell_type": "markdown",
   "metadata": {},
   "source": [
    "# Random Other Debugging, can delete later"
   ]
  },
  {
   "cell_type": "code",
   "execution_count": 8,
   "metadata": {},
   "outputs": [
    {
     "name": "stdout",
     "output_type": "stream",
     "text": [
      "0\n",
      "{'explanation': 'The citation indicates the use of a specific convolutional neural network (convnet) architecture called spp-net for pyramid pooling, but it does not explicitly mention the model itself being used for any specific task or process in the given context.', 'classification': 'context'}\n"
     ]
    }
   ],
   "source": [
    "string = '{\"explanation\": \"The citation indicates the use of a specific convolutional neural network (convnet) architecture called spp-net for pyramid pooling, but it does not explicitly mention the model itself being used for any specific task or process in the given context.\", \"classification\": \"context\"}'\n",
    "from typing import Optional\n",
    "import json\n",
    "\n",
    "def stripJSON(text: Optional[str], added_bracket = False) -> Optional[dict]:\n",
    "        if (text is None):\n",
    "            return None\n",
    "        \n",
    "        text = text.replace('\\(', '(').replace('\\)', ')') #Mistral likes to add escape sequences, for some unknown reason\n",
    "        # a very manual way of finding our JSON string within the output\n",
    "        all_open_brackets = [i for i, ltr in enumerate(text) if ltr == '{']\n",
    "        obj = None\n",
    "        for start in all_open_brackets:\n",
    "            print(start)\n",
    "            balance_counter = 1\n",
    "            for offset, chr in enumerate(text[start + 1:], start = 1):\n",
    "                balance_counter += (1 if chr == '{' else -1 if chr == '}' else 0)\n",
    "                if (balance_counter == 0):\n",
    "                    try:\n",
    "                        obj = json.loads(text[start: start + offset + 1])\n",
    "                    except:\n",
    "                        pass\n",
    "                    break\n",
    "            if (obj is not None):\n",
    "                break\n",
    "            \n",
    "        # sometimes we miss the first or last bracket (dumb LLM), so we add it manually.\n",
    "        #if not added_bracket:\n",
    "        #    return (stripJSON('{' + text, added_bracket = True) or stripJSON(text + '}', added_bracket = True))\n",
    "            \n",
    "        return obj\n",
    "    \n",
    "print(stripJSON(string))"
   ]
  },
  {
   "cell_type": "code",
   "execution_count": 5,
   "metadata": {},
   "outputs": [
    {
     "ename": "JSONDecodeError",
     "evalue": "Expecting property name enclosed in double quotes: line 1 column 2 (char 1)",
     "output_type": "error",
     "traceback": [
      "\u001b[0;31m---------------------------------------------------------------------------\u001b[0m",
      "\u001b[0;31mJSONDecodeError\u001b[0m                           Traceback (most recent call last)",
      "Cell \u001b[0;32mIn[5], line 1\u001b[0m\n\u001b[0;32m----> 1\u001b[0m \u001b[43mjson\u001b[49m\u001b[38;5;241;43m.\u001b[39;49m\u001b[43mloads\u001b[49m\u001b[43m(\u001b[49m\u001b[43mstring\u001b[49m\u001b[43m)\u001b[49m\n",
      "File \u001b[0;32m/state/partition1/llgrid/pkg/anaconda/anaconda3-2023a-pytorch/lib/python3.9/json/__init__.py:346\u001b[0m, in \u001b[0;36mloads\u001b[0;34m(s, cls, object_hook, parse_float, parse_int, parse_constant, object_pairs_hook, **kw)\u001b[0m\n\u001b[1;32m    341\u001b[0m     s \u001b[38;5;241m=\u001b[39m s\u001b[38;5;241m.\u001b[39mdecode(detect_encoding(s), \u001b[38;5;124m'\u001b[39m\u001b[38;5;124msurrogatepass\u001b[39m\u001b[38;5;124m'\u001b[39m)\n\u001b[1;32m    343\u001b[0m \u001b[38;5;28;01mif\u001b[39;00m (\u001b[38;5;28mcls\u001b[39m \u001b[38;5;129;01mis\u001b[39;00m \u001b[38;5;28;01mNone\u001b[39;00m \u001b[38;5;129;01mand\u001b[39;00m object_hook \u001b[38;5;129;01mis\u001b[39;00m \u001b[38;5;28;01mNone\u001b[39;00m \u001b[38;5;129;01mand\u001b[39;00m\n\u001b[1;32m    344\u001b[0m         parse_int \u001b[38;5;129;01mis\u001b[39;00m \u001b[38;5;28;01mNone\u001b[39;00m \u001b[38;5;129;01mand\u001b[39;00m parse_float \u001b[38;5;129;01mis\u001b[39;00m \u001b[38;5;28;01mNone\u001b[39;00m \u001b[38;5;129;01mand\u001b[39;00m\n\u001b[1;32m    345\u001b[0m         parse_constant \u001b[38;5;129;01mis\u001b[39;00m \u001b[38;5;28;01mNone\u001b[39;00m \u001b[38;5;129;01mand\u001b[39;00m object_pairs_hook \u001b[38;5;129;01mis\u001b[39;00m \u001b[38;5;28;01mNone\u001b[39;00m \u001b[38;5;129;01mand\u001b[39;00m \u001b[38;5;129;01mnot\u001b[39;00m kw):\n\u001b[0;32m--> 346\u001b[0m     \u001b[38;5;28;01mreturn\u001b[39;00m \u001b[43m_default_decoder\u001b[49m\u001b[38;5;241;43m.\u001b[39;49m\u001b[43mdecode\u001b[49m\u001b[43m(\u001b[49m\u001b[43ms\u001b[49m\u001b[43m)\u001b[49m\n\u001b[1;32m    347\u001b[0m \u001b[38;5;28;01mif\u001b[39;00m \u001b[38;5;28mcls\u001b[39m \u001b[38;5;129;01mis\u001b[39;00m \u001b[38;5;28;01mNone\u001b[39;00m:\n\u001b[1;32m    348\u001b[0m     \u001b[38;5;28mcls\u001b[39m \u001b[38;5;241m=\u001b[39m JSONDecoder\n",
      "File \u001b[0;32m/state/partition1/llgrid/pkg/anaconda/anaconda3-2023a-pytorch/lib/python3.9/json/decoder.py:337\u001b[0m, in \u001b[0;36mJSONDecoder.decode\u001b[0;34m(self, s, _w)\u001b[0m\n\u001b[1;32m    332\u001b[0m \u001b[38;5;28;01mdef\u001b[39;00m \u001b[38;5;21mdecode\u001b[39m(\u001b[38;5;28mself\u001b[39m, s, _w\u001b[38;5;241m=\u001b[39mWHITESPACE\u001b[38;5;241m.\u001b[39mmatch):\n\u001b[1;32m    333\u001b[0m \u001b[38;5;250m    \u001b[39m\u001b[38;5;124;03m\"\"\"Return the Python representation of ``s`` (a ``str`` instance\u001b[39;00m\n\u001b[1;32m    334\u001b[0m \u001b[38;5;124;03m    containing a JSON document).\u001b[39;00m\n\u001b[1;32m    335\u001b[0m \n\u001b[1;32m    336\u001b[0m \u001b[38;5;124;03m    \"\"\"\u001b[39;00m\n\u001b[0;32m--> 337\u001b[0m     obj, end \u001b[38;5;241m=\u001b[39m \u001b[38;5;28;43mself\u001b[39;49m\u001b[38;5;241;43m.\u001b[39;49m\u001b[43mraw_decode\u001b[49m\u001b[43m(\u001b[49m\u001b[43ms\u001b[49m\u001b[43m,\u001b[49m\u001b[43m \u001b[49m\u001b[43midx\u001b[49m\u001b[38;5;241;43m=\u001b[39;49m\u001b[43m_w\u001b[49m\u001b[43m(\u001b[49m\u001b[43ms\u001b[49m\u001b[43m,\u001b[49m\u001b[43m \u001b[49m\u001b[38;5;241;43m0\u001b[39;49m\u001b[43m)\u001b[49m\u001b[38;5;241;43m.\u001b[39;49m\u001b[43mend\u001b[49m\u001b[43m(\u001b[49m\u001b[43m)\u001b[49m\u001b[43m)\u001b[49m\n\u001b[1;32m    338\u001b[0m     end \u001b[38;5;241m=\u001b[39m _w(s, end)\u001b[38;5;241m.\u001b[39mend()\n\u001b[1;32m    339\u001b[0m     \u001b[38;5;28;01mif\u001b[39;00m end \u001b[38;5;241m!=\u001b[39m \u001b[38;5;28mlen\u001b[39m(s):\n",
      "File \u001b[0;32m/state/partition1/llgrid/pkg/anaconda/anaconda3-2023a-pytorch/lib/python3.9/json/decoder.py:353\u001b[0m, in \u001b[0;36mJSONDecoder.raw_decode\u001b[0;34m(self, s, idx)\u001b[0m\n\u001b[1;32m    344\u001b[0m \u001b[38;5;250m\u001b[39m\u001b[38;5;124;03m\"\"\"Decode a JSON document from ``s`` (a ``str`` beginning with\u001b[39;00m\n\u001b[1;32m    345\u001b[0m \u001b[38;5;124;03ma JSON document) and return a 2-tuple of the Python\u001b[39;00m\n\u001b[1;32m    346\u001b[0m \u001b[38;5;124;03mrepresentation and the index in ``s`` where the document ended.\u001b[39;00m\n\u001b[0;32m   (...)\u001b[0m\n\u001b[1;32m    350\u001b[0m \n\u001b[1;32m    351\u001b[0m \u001b[38;5;124;03m\"\"\"\u001b[39;00m\n\u001b[1;32m    352\u001b[0m \u001b[38;5;28;01mtry\u001b[39;00m:\n\u001b[0;32m--> 353\u001b[0m     obj, end \u001b[38;5;241m=\u001b[39m \u001b[38;5;28;43mself\u001b[39;49m\u001b[38;5;241;43m.\u001b[39;49m\u001b[43mscan_once\u001b[49m\u001b[43m(\u001b[49m\u001b[43ms\u001b[49m\u001b[43m,\u001b[49m\u001b[43m \u001b[49m\u001b[43midx\u001b[49m\u001b[43m)\u001b[49m\n\u001b[1;32m    354\u001b[0m \u001b[38;5;28;01mexcept\u001b[39;00m \u001b[38;5;167;01mStopIteration\u001b[39;00m \u001b[38;5;28;01mas\u001b[39;00m err:\n\u001b[1;32m    355\u001b[0m     \u001b[38;5;28;01mraise\u001b[39;00m JSONDecodeError(\u001b[38;5;124m\"\u001b[39m\u001b[38;5;124mExpecting value\u001b[39m\u001b[38;5;124m\"\u001b[39m, s, err\u001b[38;5;241m.\u001b[39mvalue) \u001b[38;5;28;01mfrom\u001b[39;00m \u001b[38;5;28;01mNone\u001b[39;00m\n",
      "\u001b[0;31mJSONDecodeError\u001b[0m: Expecting property name enclosed in double quotes: line 1 column 2 (char 1)"
     ]
    }
   ],
   "source": [
    "json.loads(string)"
   ]
  },
  {
   "cell_type": "code",
   "execution_count": null,
   "metadata": {},
   "outputs": [],
   "source": []
  }
 ],
 "metadata": {
  "kernelspec": {
   "display_name": "base",
   "language": "python",
   "name": "python3"
  },
  "language_info": {
   "codemirror_mode": {
    "name": "ipython",
    "version": 3
   },
   "file_extension": ".py",
   "mimetype": "text/x-python",
   "name": "python",
   "nbconvert_exporter": "python",
   "pygments_lexer": "ipython3",
   "version": "3.9.16"
  }
 },
 "nbformat": 4,
 "nbformat_minor": 2
}
