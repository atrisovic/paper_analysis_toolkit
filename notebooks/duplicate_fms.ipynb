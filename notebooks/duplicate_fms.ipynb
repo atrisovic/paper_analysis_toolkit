{
 "cells": [
  {
   "cell_type": "code",
   "execution_count": 7,
   "metadata": {},
   "outputs": [],
   "source": [
    "import json \n",
    "path = '/home/gridsan/afogelson/osfm/paper_analysis_toolkit/data/foundation_models.json'\n",
    "\n",
    "with open(path, 'r') as f:\n",
    "    fm = json.load(f)\n",
    "    mapping = {key: fm[key]['paperId'] for key in fm}"
   ]
  },
  {
   "cell_type": "code",
   "execution_count": 8,
   "metadata": {},
   "outputs": [],
   "source": [
    "from collections import Counter\n",
    "\n",
    "id_to_keys = {id: [] for id in {item for _, item in mapping.items()}}\n",
    "for key, item in mapping.items():\n",
    "    id_to_keys[item].append(key)\n",
    "\n",
    "nonunique_id_to_keys = {key:item for key, item in id_to_keys.items() if len(item) > 1}"
   ]
  },
  {
   "cell_type": "code",
   "execution_count": 9,
   "metadata": {},
   "outputs": [],
   "source": [
    "from typing import List\n",
    "import regex as re\n",
    "\n",
    "def manual_prefix_suffix(key):\n",
    "    matches = re.findall('(.*)(?:\\-|\\_)\\(?(\\d+b)\\)?', key)\n",
    "    return matches[0] if matches else (None, None)\n",
    "\n",
    "def extract_suffixes(id: str = None):\n",
    "    keys =  list({key for key, item in mapping.items() if item == id})     \n",
    "    stripped_keys = list(map(lambda s: re.findall('\\d+_(.*)', s)[0], keys))\n",
    "       \n",
    "    names, suffixes = list(zip(*map(manual_prefix_suffix, stripped_keys)))\n",
    "    if len(set(names)) == 1 and None not in names:\n",
    "        model_name = next(iter(names))\n",
    "    else:\n",
    "        max_idx = 0\n",
    "        for chars in zip(*stripped_keys):\n",
    "            if len(set(chars)) == 1:\n",
    "                max_idx += 1\n",
    "            else:\n",
    "                break\n",
    "        \n",
    "        if max_idx == 0:\n",
    "            return id, None, keys\n",
    "        \n",
    "        formatter = lambda s: re.sub('\\(*\\)*', '', s)\n",
    "        model_name =  formatter(next(iter(stripped_keys))[:max_idx])\n",
    "        suffixes = [formatter(key[max_idx:]) for key in stripped_keys]\n",
    "    \n",
    "    return id, model_name, suffixes\n"
   ]
  },
  {
   "cell_type": "code",
   "execution_count": 10,
   "metadata": {},
   "outputs": [],
   "source": [
    "results = [extract_suffixes(id) for id in nonunique_id_to_keys]\n",
    "delineator_mapping = {id: (model_name, suffixes) for id, model_name, suffixes in results}\n",
    "with open('output.txt', 'w') as f:\n",
    "    json.dump(delineator_mapping, f, indent = 2)\n",
    "    \n"
   ]
  },
  {
   "cell_type": "code",
   "execution_count": 11,
   "metadata": {},
   "outputs": [
    {
     "name": "stdout",
     "output_type": "stream",
     "text": [
      "['55_true-regularization+finetune+dynamic-eval', '1058_true-regularization+finetune']\n"
     ]
    }
   ],
   "source": [
    "print(id_to_keys['5a2304ba4e4401db2e0df8188a5f761646b52480'])"
   ]
  },
  {
   "cell_type": "code",
   "execution_count": null,
   "metadata": {},
   "outputs": [],
   "source": []
  }
 ],
 "metadata": {
  "kernelspec": {
   "display_name": "base",
   "language": "python",
   "name": "python3"
  },
  "language_info": {
   "codemirror_mode": {
    "name": "ipython",
    "version": 3
   },
   "file_extension": ".py",
   "mimetype": "text/x-python",
   "name": "python",
   "nbconvert_exporter": "python",
   "pygments_lexer": "ipython3",
   "version": "3.9.16"
  }
 },
 "nbformat": 4,
 "nbformat_minor": 2
}
