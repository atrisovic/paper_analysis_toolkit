{
 "cells": [
  {
   "cell_type": "code",
   "execution_count": 1,
   "metadata": {},
   "outputs": [],
   "source": [
    "from citations.Agglomerator import BestSentencePerPaper, RankedClassificationCounts,Agglomerator\n",
    "import pickle, pandas as pd"
   ]
  },
  {
   "cell_type": "code",
   "execution_count": 2,
   "metadata": {},
   "outputs": [
    {
     "data": {
      "text/html": [
       "<div>\n",
       "<style scoped>\n",
       "    .dataframe tbody tr th:only-of-type {\n",
       "        vertical-align: middle;\n",
       "    }\n",
       "\n",
       "    .dataframe tbody tr th {\n",
       "        vertical-align: top;\n",
       "    }\n",
       "\n",
       "    .dataframe thead th {\n",
       "        text-align: right;\n",
       "    }\n",
       "</style>\n",
       "<table border=\"1\" class=\"dataframe\">\n",
       "  <thead>\n",
       "    <tr style=\"text-align: right;\">\n",
       "      <th></th>\n",
       "      <th>modelKey</th>\n",
       "      <th>paperId</th>\n",
       "      <th>classification</th>\n",
       "    </tr>\n",
       "  </thead>\n",
       "  <tbody>\n",
       "    <tr>\n",
       "      <th>0</th>\n",
       "      <td>ABC</td>\n",
       "      <td>123</td>\n",
       "      <td>extend</td>\n",
       "    </tr>\n",
       "    <tr>\n",
       "      <th>3</th>\n",
       "      <td>ABC</td>\n",
       "      <td>456</td>\n",
       "      <td>use</td>\n",
       "    </tr>\n",
       "  </tbody>\n",
       "</table>\n",
       "</div>"
      ],
      "text/plain": [
       "  modelKey paperId classification\n",
       "0      ABC     123         extend\n",
       "3      ABC     456            use"
      ]
     },
     "execution_count": 2,
     "metadata": {},
     "output_type": "execute_result"
    }
   ],
   "source": [
    "df = pd.DataFrame([\n",
    "    {'modelKey': 'ABC', 'paperId': '123', 'classification': 'extend', 'classification_order': 0, 'sentences': 'hello1'},\n",
    "    {'modelKey': 'ABC', 'paperId': '123', 'classification': 'extend', 'classification_order': 0, 'sentences': 'hello2'},\n",
    "    {'modelKey': 'ABC', 'paperId': '123', 'classification': 'use', 'classification_order': 1, 'sentences': 'hello3'},\n",
    "    {'modelKey': 'ABC', 'paperId': '456', 'classification': 'use', 'classification_order': 1, 'sentences': 'hello11'},\n",
    "    {'modelKey': 'ABC', 'paperId': '456', 'classification': 'background', 'classification_order': 3, 'sentences': 'hello21'},\n",
    "    {'modelKey': 'ABC', 'paperId': '456', 'classification': 'results', 'classification_order': 2, 'sentences': 'hello31'}\n",
    "])\n",
    "result = BestSentencePerPaper().applyQuery(df)\n",
    "result"
   ]
  },
  {
   "cell_type": "code",
   "execution_count": 3,
   "metadata": {},
   "outputs": [
    {
     "name": "stderr",
     "output_type": "stream",
     "text": [
      "/Users/Alex/Desktop/paper_analysis_toolkit/.venv/lib/python3.12/site-packages/tqdm/auto.py:21: TqdmWarning: IProgress not found. Please update jupyter and ipywidgets. See https://ipywidgets.readthedocs.io/en/stable/user_install.html\n",
      "  from .autonotebook import tqdm as notebook_tqdm\n"
     ]
    }
   ],
   "source": [
    "with open('pickle/corpus.pkl', 'rb') as f:\n",
    "    corpus = pickle.load(f)"
   ]
  },
  {
   "cell_type": "code",
   "execution_count": 4,
   "metadata": {},
   "outputs": [],
   "source": [
    "df = pd.DataFrame(corpus.getAllTextualReferences(as_dict = True)) \n",
    "result = BestSentencePerPaper().applyQuery(df)"
   ]
  },
  {
   "cell_type": "code",
   "execution_count": 5,
   "metadata": {},
   "outputs": [
    {
     "data": {
      "text/html": [
       "<div>\n",
       "<style scoped>\n",
       "    .dataframe tbody tr th:only-of-type {\n",
       "        vertical-align: middle;\n",
       "    }\n",
       "\n",
       "    .dataframe tbody tr th {\n",
       "        vertical-align: top;\n",
       "    }\n",
       "\n",
       "    .dataframe thead th {\n",
       "        text-align: right;\n",
       "    }\n",
       "</style>\n",
       "<table border=\"1\" class=\"dataframe\">\n",
       "  <thead>\n",
       "    <tr style=\"text-align: right;\">\n",
       "      <th></th>\n",
       "      <th>modelKey</th>\n",
       "      <th>paperId</th>\n",
       "      <th>classification</th>\n",
       "    </tr>\n",
       "  </thead>\n",
       "  <tbody>\n",
       "    <tr>\n",
       "      <th>0</th>\n",
       "      <td>810_bloomz-176b</td>\n",
       "      <td>6e4635f8632f34e934a055264bd3b1ce44595f9b</td>\n",
       "      <td>background</td>\n",
       "    </tr>\n",
       "    <tr>\n",
       "      <th>1</th>\n",
       "      <td>967_mt0-13b</td>\n",
       "      <td>6e4635f8632f34e934a055264bd3b1ce44595f9b</td>\n",
       "      <td>background</td>\n",
       "    </tr>\n",
       "    <tr>\n",
       "      <th>2</th>\n",
       "      <td>942_t5-11b</td>\n",
       "      <td>6e4635f8632f34e934a055264bd3b1ce44595f9b</td>\n",
       "      <td>similarities</td>\n",
       "    </tr>\n",
       "    <tr>\n",
       "      <th>3</th>\n",
       "      <td>410_generative_bst</td>\n",
       "      <td>6e4635f8632f34e934a055264bd3b1ce44595f9b</td>\n",
       "      <td>background</td>\n",
       "    </tr>\n",
       "    <tr>\n",
       "      <th>8</th>\n",
       "      <td>977_retrieval-augmented_generator</td>\n",
       "      <td>6e4635f8632f34e934a055264bd3b1ce44595f9b</td>\n",
       "      <td>background</td>\n",
       "    </tr>\n",
       "    <tr>\n",
       "      <th>...</th>\n",
       "      <td>...</td>\n",
       "      <td>...</td>\n",
       "      <td>...</td>\n",
       "    </tr>\n",
       "    <tr>\n",
       "      <th>37447</th>\n",
       "      <td>1059_transformer</td>\n",
       "      <td>d4630a7bce94fee029e3ed780b527031dd938852</td>\n",
       "      <td>background</td>\n",
       "    </tr>\n",
       "    <tr>\n",
       "      <th>37448</th>\n",
       "      <td>64_llama-65b</td>\n",
       "      <td>7cd3648d33ab716d0bec75ea853bc949788a39cf</td>\n",
       "      <td>background</td>\n",
       "    </tr>\n",
       "    <tr>\n",
       "      <th>37450</th>\n",
       "      <td>75_cd-grab_(wt103)</td>\n",
       "      <td>7cd3648d33ab716d0bec75ea853bc949788a39cf</td>\n",
       "      <td>background</td>\n",
       "    </tr>\n",
       "    <tr>\n",
       "      <th>37451</th>\n",
       "      <td>956_llama-7b</td>\n",
       "      <td>7cd3648d33ab716d0bec75ea853bc949788a39cf</td>\n",
       "      <td>background</td>\n",
       "    </tr>\n",
       "    <tr>\n",
       "      <th>37453</th>\n",
       "      <td>533_ase</td>\n",
       "      <td>7cd3648d33ab716d0bec75ea853bc949788a39cf</td>\n",
       "      <td>background</td>\n",
       "    </tr>\n",
       "  </tbody>\n",
       "</table>\n",
       "<p>16148 rows × 3 columns</p>\n",
       "</div>"
      ],
      "text/plain": [
       "                                modelKey  \\\n",
       "0                        810_bloomz-176b   \n",
       "1                            967_mt0-13b   \n",
       "2                             942_t5-11b   \n",
       "3                     410_generative_bst   \n",
       "8      977_retrieval-augmented_generator   \n",
       "...                                  ...   \n",
       "37447                   1059_transformer   \n",
       "37448                       64_llama-65b   \n",
       "37450                 75_cd-grab_(wt103)   \n",
       "37451                       956_llama-7b   \n",
       "37453                            533_ase   \n",
       "\n",
       "                                        paperId classification  \n",
       "0      6e4635f8632f34e934a055264bd3b1ce44595f9b     background  \n",
       "1      6e4635f8632f34e934a055264bd3b1ce44595f9b     background  \n",
       "2      6e4635f8632f34e934a055264bd3b1ce44595f9b   similarities  \n",
       "3      6e4635f8632f34e934a055264bd3b1ce44595f9b     background  \n",
       "8      6e4635f8632f34e934a055264bd3b1ce44595f9b     background  \n",
       "...                                         ...            ...  \n",
       "37447  d4630a7bce94fee029e3ed780b527031dd938852     background  \n",
       "37448  7cd3648d33ab716d0bec75ea853bc949788a39cf     background  \n",
       "37450  7cd3648d33ab716d0bec75ea853bc949788a39cf     background  \n",
       "37451  7cd3648d33ab716d0bec75ea853bc949788a39cf     background  \n",
       "37453  7cd3648d33ab716d0bec75ea853bc949788a39cf     background  \n",
       "\n",
       "[16148 rows x 3 columns]"
      ]
     },
     "execution_count": 5,
     "metadata": {},
     "output_type": "execute_result"
    }
   ],
   "source": [
    "result"
   ]
  },
  {
   "cell_type": "code",
   "execution_count": null,
   "metadata": {},
   "outputs": [],
   "source": []
  }
 ],
 "metadata": {
  "kernelspec": {
   "display_name": ".venv",
   "language": "python",
   "name": "python3"
  },
  "language_info": {
   "codemirror_mode": {
    "name": "ipython",
    "version": 3
   },
   "file_extension": ".py",
   "mimetype": "text/x-python",
   "name": "python",
   "nbconvert_exporter": "python",
   "pygments_lexer": "ipython3",
   "version": "3.12.3"
  }
 },
 "nbformat": 4,
 "nbformat_minor": 2
}
