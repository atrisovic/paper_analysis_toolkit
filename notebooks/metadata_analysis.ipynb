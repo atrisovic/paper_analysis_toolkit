{
 "cells": [
  {
   "cell_type": "code",
   "execution_count": 1,
   "metadata": {},
   "outputs": [],
   "source": [
    "import json\n",
    "import matplotlib.pyplot as plt"
   ]
  },
  {
   "cell_type": "code",
   "execution_count": 3,
   "metadata": {},
   "outputs": [],
   "source": [
    "with open(\"data/121_results_v2.json\") as file:\n",
    "    data = json.load(file)"
   ]
  },
  {
   "cell_type": "code",
   "execution_count": 4,
   "metadata": {},
   "outputs": [
    {
     "data": {
      "text/plain": [
       "dict_keys(['paperId', 'externalIds', 'corpusId', 'publicationVenue', 'url', 'title', 'abstract', 'venue', 'year', 'referenceCount', 'citationCount', 'influentialCitationCount', 'isOpenAccess', 'openAccessPdf', 'fieldsOfStudy', 's2FieldsOfStudy', 'tldr', 'publicationTypes', 'publicationDate', 'journal', 'citationStyles'])"
      ]
     },
     "execution_count": 4,
     "metadata": {},
     "output_type": "execute_result"
    }
   ],
   "source": [
    "data['0_sparse_digit_recognition_svm'].keys()"
   ]
  },
  {
   "cell_type": "code",
   "execution_count": 5,
   "metadata": {},
   "outputs": [
    {
     "data": {
      "text/plain": [
       "{'paperId': '1503cbd400cd902f9751995e27973b9286dfd320',\n",
       " 'externalIds': {'MAG': '2149270675',\n",
       "  'DBLP': 'journals/tnn/LabuschBM08',\n",
       "  'DOI': '10.1109/TNN.2008.2005830',\n",
       "  'CorpusId': 14358161,\n",
       "  'PubMed': '19000969'},\n",
       " 'corpusId': 14358161,\n",
       " 'publicationVenue': {'id': '2ac50919-507e-41c7-93a8-721c4b804757',\n",
       "  'name': 'IEEE Transactions on Neural Networks',\n",
       "  'type': 'journal',\n",
       "  'alternate_names': ['IEEE Trans Neural Netw'],\n",
       "  'issn': '1045-9227',\n",
       "  'alternate_issns': ['1941-0093'],\n",
       "  'url': 'http://ieeexplore.ieee.org/servlet/opac?punumber=72'},\n",
       " 'url': 'https://www.semanticscholar.org/paper/1503cbd400cd902f9751995e27973b9286dfd320',\n",
       " 'title': 'Simple Method for High-Performance Digit Recognition Based on Sparse Coding',\n",
       " 'abstract': 'In this brief paper, we propose a method of feature extraction for digit recognition that is inspired by vision research: a sparse-coding strategy and a local maximum operation. We show that our method, despite its simplicity, yields state-of-the-art classification results on a highly competitive digit-recognition benchmark. We first employ the unsupervised Sparsenet algorithm to learn a basis for representing patches of handwritten digit images. We then use this basis to extract local coefficients. In a second step, we apply a local maximum operation to implement local shift invariance. Finally, we train a support vector machine (SVM) on the resulting feature vectors and obtain state-of-the-art classification performance in the digit recognition task defined by the MNIST benchmark. We compare the different classification performances obtained with sparse coding, Gabor wavelets, and principal component analysis (PCA). We conclude that the learning of a sparse representation of local image patches combined with a local maximum operation for feature extraction can significantly improve recognition performance.',\n",
       " 'venue': 'IEEE Transactions on Neural Networks',\n",
       " 'year': 2008,\n",
       " 'referenceCount': 35,\n",
       " 'citationCount': 105,\n",
       " 'influentialCitationCount': 4,\n",
       " 'isOpenAccess': False,\n",
       " 'openAccessPdf': None,\n",
       " 'fieldsOfStudy': ['Computer Science', 'Medicine'],\n",
       " 's2FieldsOfStudy': [{'category': 'Computer Science', 'source': 'external'},\n",
       "  {'category': 'Medicine', 'source': 'external'},\n",
       "  {'category': 'Computer Science', 'source': 's2-fos-model'}],\n",
       " 'tldr': {'model': 'tldr@v2.0.0',\n",
       "  'text': 'It is concluded that the learning of a sparse representation of local image patches combined with a local maximum operation for feature extraction can significantly improve recognition performance.'},\n",
       " 'publicationTypes': ['JournalArticle'],\n",
       " 'publicationDate': '2008-11-01',\n",
       " 'journal': {'name': 'IEEE Transactions on Neural Networks',\n",
       "  'pages': '1985-1989',\n",
       "  'volume': '19'},\n",
       " 'citationStyles': {'bibtex': '@Article{Labusch2008SimpleMF,\\n author = {Kai Labusch and E. Barth and T. Martinetz},\\n booktitle = {IEEE Transactions on Neural Networks},\\n journal = {IEEE Transactions on Neural Networks},\\n pages = {1985-1989},\\n title = {Simple Method for High-Performance Digit Recognition Based on Sparse Coding},\\n volume = {19},\\n year = {2008}\\n}\\n'}}"
      ]
     },
     "execution_count": 5,
     "metadata": {},
     "output_type": "execute_result"
    }
   ],
   "source": [
    "data['0_sparse_digit_recognition_svm']"
   ]
  },
  {
   "cell_type": "code",
   "execution_count": 6,
   "metadata": {},
   "outputs": [
    {
     "data": {
      "text/html": [
       "<div>\n",
       "<style scoped>\n",
       "    .dataframe tbody tr th:only-of-type {\n",
       "        vertical-align: middle;\n",
       "    }\n",
       "\n",
       "    .dataframe tbody tr th {\n",
       "        vertical-align: top;\n",
       "    }\n",
       "\n",
       "    .dataframe thead th {\n",
       "        text-align: right;\n",
       "    }\n",
       "</style>\n",
       "<table border=\"1\" class=\"dataframe\">\n",
       "  <thead>\n",
       "    <tr style=\"text-align: right;\">\n",
       "      <th></th>\n",
       "      <th>paperId</th>\n",
       "      <th>externalIds</th>\n",
       "      <th>corpusId</th>\n",
       "      <th>publicationVenue</th>\n",
       "      <th>url</th>\n",
       "      <th>title</th>\n",
       "      <th>abstract</th>\n",
       "      <th>venue</th>\n",
       "      <th>year</th>\n",
       "      <th>referenceCount</th>\n",
       "      <th>...</th>\n",
       "      <th>influentialCitationCount</th>\n",
       "      <th>isOpenAccess</th>\n",
       "      <th>openAccessPdf</th>\n",
       "      <th>fieldsOfStudy</th>\n",
       "      <th>s2FieldsOfStudy</th>\n",
       "      <th>tldr</th>\n",
       "      <th>publicationTypes</th>\n",
       "      <th>publicationDate</th>\n",
       "      <th>journal</th>\n",
       "      <th>citationStyles</th>\n",
       "    </tr>\n",
       "  </thead>\n",
       "  <tbody>\n",
       "    <tr>\n",
       "      <th>0_sparse_digit_recognition_svm</th>\n",
       "      <td>1503cbd400cd902f9751995e27973b9286dfd320</td>\n",
       "      <td>{'MAG': '2149270675', 'DBLP': 'journals/tnn/La...</td>\n",
       "      <td>14358161</td>\n",
       "      <td>{'id': '2ac50919-507e-41c7-93a8-721c4b804757',...</td>\n",
       "      <td>https://www.semanticscholar.org/paper/1503cbd4...</td>\n",
       "      <td>Simple Method for High-Performance Digit Recog...</td>\n",
       "      <td>In this brief paper, we propose a method of fe...</td>\n",
       "      <td>IEEE Transactions on Neural Networks</td>\n",
       "      <td>2008</td>\n",
       "      <td>35</td>\n",
       "      <td>...</td>\n",
       "      <td>4</td>\n",
       "      <td>False</td>\n",
       "      <td>None</td>\n",
       "      <td>[Computer Science, Medicine]</td>\n",
       "      <td>[{'category': 'Computer Science', 'source': 'e...</td>\n",
       "      <td>{'model': 'tldr@v2.0.0', 'text': 'It is conclu...</td>\n",
       "      <td>[JournalArticle]</td>\n",
       "      <td>2008-11-01</td>\n",
       "      <td>{'name': 'IEEE Transactions on Neural Networks...</td>\n",
       "      <td>{'bibtex': '@Article{Labusch2008SimpleMF,\n",
       " aut...</td>\n",
       "    </tr>\n",
       "    <tr>\n",
       "      <th>2_dot(s)-rnn</th>\n",
       "      <td>533ee188324b833e059cb59b654e6160776d5812</td>\n",
       "      <td>{'DBLP': 'journals/corr/PascanuGCB13', 'MAG': ...</td>\n",
       "      <td>1870512</td>\n",
       "      <td>{'id': '939c6e1d-0d17-4d6e-8a82-66d960df0e40',...</td>\n",
       "      <td>https://www.semanticscholar.org/paper/533ee188...</td>\n",
       "      <td>How to Construct Deep Recurrent Neural Networks</td>\n",
       "      <td>In this paper, we explore different ways to ex...</td>\n",
       "      <td>International Conference on Learning Represent...</td>\n",
       "      <td>2013</td>\n",
       "      <td>48</td>\n",
       "      <td>...</td>\n",
       "      <td>67</td>\n",
       "      <td>False</td>\n",
       "      <td>None</td>\n",
       "      <td>[Computer Science, Mathematics]</td>\n",
       "      <td>[{'category': 'Computer Science', 'source': 'e...</td>\n",
       "      <td>{'model': 'tldr@v2.0.0', 'text': 'Two novel ar...</td>\n",
       "      <td>[JournalArticle]</td>\n",
       "      <td>2013-12-20</td>\n",
       "      <td>{'name': 'CoRR', 'volume': 'abs/1312.6026'}</td>\n",
       "      <td>{'bibtex': '@Article{Pascanu2013HowTC,\n",
       " author...</td>\n",
       "    </tr>\n",
       "    <tr>\n",
       "      <th>3_kepler</th>\n",
       "      <td>56cafbac34f2bb3f6a9828cd228ff281b810d6bb</td>\n",
       "      <td>{'MAG': '3151929433', 'DBLP': 'journals/tacl/W...</td>\n",
       "      <td>208006241</td>\n",
       "      <td>{'id': 'e0dbf116-86aa-418d-859f-a49952d7e44a',...</td>\n",
       "      <td>https://www.semanticscholar.org/paper/56cafbac...</td>\n",
       "      <td>KEPLER: A Unified Model for Knowledge Embeddin...</td>\n",
       "      <td>Abstract Pre-trained language representation m...</td>\n",
       "      <td>Transactions of the Association for Computatio...</td>\n",
       "      <td>2019</td>\n",
       "      <td>77</td>\n",
       "      <td>...</td>\n",
       "      <td>100</td>\n",
       "      <td>True</td>\n",
       "      <td>{'url': 'https://direct.mit.edu/tacl/article-p...</td>\n",
       "      <td>[Computer Science]</td>\n",
       "      <td>[{'category': 'Computer Science', 'source': 'e...</td>\n",
       "      <td>{'model': 'tldr@v2.0.0', 'text': 'A unified mo...</td>\n",
       "      <td>[JournalArticle]</td>\n",
       "      <td>2019-11-13</td>\n",
       "      <td>{'name': 'Transactions of the Association for ...</td>\n",
       "      <td>{'bibtex': '@Article{Wang2019KEPLERAU,\n",
       " author...</td>\n",
       "    </tr>\n",
       "    <tr>\n",
       "      <th>4_mv-rnn</th>\n",
       "      <td>27e38351e48fe4b7da2775bf94341738bc4da07e</td>\n",
       "      <td>{'DBLP': 'conf/emnlp/SocherHMN12', 'MAG': '188...</td>\n",
       "      <td>806709</td>\n",
       "      <td>{'id': '41bf9ed3-85b3-4c90-b015-150e31690253',...</td>\n",
       "      <td>https://www.semanticscholar.org/paper/27e38351...</td>\n",
       "      <td>Semantic Compositionality through Recursive Ma...</td>\n",
       "      <td>Single-word vector space models have been very...</td>\n",
       "      <td>Conference on Empirical Methods in Natural Lan...</td>\n",
       "      <td>2012</td>\n",
       "      <td>44</td>\n",
       "      <td>...</td>\n",
       "      <td>128</td>\n",
       "      <td>False</td>\n",
       "      <td>None</td>\n",
       "      <td>[Computer Science]</td>\n",
       "      <td>[{'category': 'Computer Science', 'source': 'e...</td>\n",
       "      <td>{'model': 'tldr@v2.0.0', 'text': 'A recursive ...</td>\n",
       "      <td>[JournalArticle, Conference, Review]</td>\n",
       "      <td>2012-07-12</td>\n",
       "      <td>{'pages': '1201-1211'}</td>\n",
       "      <td>{'bibtex': '@Article{Socher2012SemanticCT,\n",
       " au...</td>\n",
       "    </tr>\n",
       "    <tr>\n",
       "      <th>5_n-gram_lm</th>\n",
       "      <td>fdf4aa623e4d5b5edaeb873ed8e8b1cef0b59c87</td>\n",
       "      <td>{'MAG': '1549285799', 'DBLP': 'conf/interspeec...</td>\n",
       "      <td>13988648</td>\n",
       "      <td>None</td>\n",
       "      <td>https://www.semanticscholar.org/paper/fdf4aa62...</td>\n",
       "      <td>Statistical language modeling using the CMU-ca...</td>\n",
       "      <td>The CMU Statistical Language Modeling toolkit ...</td>\n",
       "      <td>EUROSPEECH</td>\n",
       "      <td>1997</td>\n",
       "      <td>18</td>\n",
       "      <td>...</td>\n",
       "      <td>38</td>\n",
       "      <td>True</td>\n",
       "      <td>{'url': 'https://figshare.com/articles/journal...</td>\n",
       "      <td>[Computer Science]</td>\n",
       "      <td>[{'category': 'Computer Science', 'source': 'e...</td>\n",
       "      <td>{'model': 'tldr@v2.0.0', 'text': 'The conventi...</td>\n",
       "      <td>[JournalArticle]</td>\n",
       "      <td>1997-09-22</td>\n",
       "      <td>{'pages': '2707-2710'}</td>\n",
       "      <td>{'bibtex': '@Article{Clarkson1997StatisticalLM...</td>\n",
       "    </tr>\n",
       "  </tbody>\n",
       "</table>\n",
       "<p>5 rows × 21 columns</p>\n",
       "</div>"
      ],
      "text/plain": [
       "                                                                 paperId  \\\n",
       "0_sparse_digit_recognition_svm  1503cbd400cd902f9751995e27973b9286dfd320   \n",
       "2_dot(s)-rnn                    533ee188324b833e059cb59b654e6160776d5812   \n",
       "3_kepler                        56cafbac34f2bb3f6a9828cd228ff281b810d6bb   \n",
       "4_mv-rnn                        27e38351e48fe4b7da2775bf94341738bc4da07e   \n",
       "5_n-gram_lm                     fdf4aa623e4d5b5edaeb873ed8e8b1cef0b59c87   \n",
       "\n",
       "                                                                      externalIds  \\\n",
       "0_sparse_digit_recognition_svm  {'MAG': '2149270675', 'DBLP': 'journals/tnn/La...   \n",
       "2_dot(s)-rnn                    {'DBLP': 'journals/corr/PascanuGCB13', 'MAG': ...   \n",
       "3_kepler                        {'MAG': '3151929433', 'DBLP': 'journals/tacl/W...   \n",
       "4_mv-rnn                        {'DBLP': 'conf/emnlp/SocherHMN12', 'MAG': '188...   \n",
       "5_n-gram_lm                     {'MAG': '1549285799', 'DBLP': 'conf/interspeec...   \n",
       "\n",
       "                                 corpusId  \\\n",
       "0_sparse_digit_recognition_svm   14358161   \n",
       "2_dot(s)-rnn                      1870512   \n",
       "3_kepler                        208006241   \n",
       "4_mv-rnn                           806709   \n",
       "5_n-gram_lm                      13988648   \n",
       "\n",
       "                                                                 publicationVenue  \\\n",
       "0_sparse_digit_recognition_svm  {'id': '2ac50919-507e-41c7-93a8-721c4b804757',...   \n",
       "2_dot(s)-rnn                    {'id': '939c6e1d-0d17-4d6e-8a82-66d960df0e40',...   \n",
       "3_kepler                        {'id': 'e0dbf116-86aa-418d-859f-a49952d7e44a',...   \n",
       "4_mv-rnn                        {'id': '41bf9ed3-85b3-4c90-b015-150e31690253',...   \n",
       "5_n-gram_lm                                                                  None   \n",
       "\n",
       "                                                                              url  \\\n",
       "0_sparse_digit_recognition_svm  https://www.semanticscholar.org/paper/1503cbd4...   \n",
       "2_dot(s)-rnn                    https://www.semanticscholar.org/paper/533ee188...   \n",
       "3_kepler                        https://www.semanticscholar.org/paper/56cafbac...   \n",
       "4_mv-rnn                        https://www.semanticscholar.org/paper/27e38351...   \n",
       "5_n-gram_lm                     https://www.semanticscholar.org/paper/fdf4aa62...   \n",
       "\n",
       "                                                                            title  \\\n",
       "0_sparse_digit_recognition_svm  Simple Method for High-Performance Digit Recog...   \n",
       "2_dot(s)-rnn                      How to Construct Deep Recurrent Neural Networks   \n",
       "3_kepler                        KEPLER: A Unified Model for Knowledge Embeddin...   \n",
       "4_mv-rnn                        Semantic Compositionality through Recursive Ma...   \n",
       "5_n-gram_lm                     Statistical language modeling using the CMU-ca...   \n",
       "\n",
       "                                                                         abstract  \\\n",
       "0_sparse_digit_recognition_svm  In this brief paper, we propose a method of fe...   \n",
       "2_dot(s)-rnn                    In this paper, we explore different ways to ex...   \n",
       "3_kepler                        Abstract Pre-trained language representation m...   \n",
       "4_mv-rnn                        Single-word vector space models have been very...   \n",
       "5_n-gram_lm                     The CMU Statistical Language Modeling toolkit ...   \n",
       "\n",
       "                                                                            venue  \\\n",
       "0_sparse_digit_recognition_svm               IEEE Transactions on Neural Networks   \n",
       "2_dot(s)-rnn                    International Conference on Learning Represent...   \n",
       "3_kepler                        Transactions of the Association for Computatio...   \n",
       "4_mv-rnn                        Conference on Empirical Methods in Natural Lan...   \n",
       "5_n-gram_lm                                                            EUROSPEECH   \n",
       "\n",
       "                                year referenceCount  ...  \\\n",
       "0_sparse_digit_recognition_svm  2008             35  ...   \n",
       "2_dot(s)-rnn                    2013             48  ...   \n",
       "3_kepler                        2019             77  ...   \n",
       "4_mv-rnn                        2012             44  ...   \n",
       "5_n-gram_lm                     1997             18  ...   \n",
       "\n",
       "                               influentialCitationCount isOpenAccess  \\\n",
       "0_sparse_digit_recognition_svm                        4        False   \n",
       "2_dot(s)-rnn                                         67        False   \n",
       "3_kepler                                            100         True   \n",
       "4_mv-rnn                                            128        False   \n",
       "5_n-gram_lm                                          38         True   \n",
       "\n",
       "                                                                    openAccessPdf  \\\n",
       "0_sparse_digit_recognition_svm                                               None   \n",
       "2_dot(s)-rnn                                                                 None   \n",
       "3_kepler                        {'url': 'https://direct.mit.edu/tacl/article-p...   \n",
       "4_mv-rnn                                                                     None   \n",
       "5_n-gram_lm                     {'url': 'https://figshare.com/articles/journal...   \n",
       "\n",
       "                                                  fieldsOfStudy  \\\n",
       "0_sparse_digit_recognition_svm     [Computer Science, Medicine]   \n",
       "2_dot(s)-rnn                    [Computer Science, Mathematics]   \n",
       "3_kepler                                     [Computer Science]   \n",
       "4_mv-rnn                                     [Computer Science]   \n",
       "5_n-gram_lm                                  [Computer Science]   \n",
       "\n",
       "                                                                  s2FieldsOfStudy  \\\n",
       "0_sparse_digit_recognition_svm  [{'category': 'Computer Science', 'source': 'e...   \n",
       "2_dot(s)-rnn                    [{'category': 'Computer Science', 'source': 'e...   \n",
       "3_kepler                        [{'category': 'Computer Science', 'source': 'e...   \n",
       "4_mv-rnn                        [{'category': 'Computer Science', 'source': 'e...   \n",
       "5_n-gram_lm                     [{'category': 'Computer Science', 'source': 'e...   \n",
       "\n",
       "                                                                             tldr  \\\n",
       "0_sparse_digit_recognition_svm  {'model': 'tldr@v2.0.0', 'text': 'It is conclu...   \n",
       "2_dot(s)-rnn                    {'model': 'tldr@v2.0.0', 'text': 'Two novel ar...   \n",
       "3_kepler                        {'model': 'tldr@v2.0.0', 'text': 'A unified mo...   \n",
       "4_mv-rnn                        {'model': 'tldr@v2.0.0', 'text': 'A recursive ...   \n",
       "5_n-gram_lm                     {'model': 'tldr@v2.0.0', 'text': 'The conventi...   \n",
       "\n",
       "                                                    publicationTypes  \\\n",
       "0_sparse_digit_recognition_svm                      [JournalArticle]   \n",
       "2_dot(s)-rnn                                        [JournalArticle]   \n",
       "3_kepler                                            [JournalArticle]   \n",
       "4_mv-rnn                        [JournalArticle, Conference, Review]   \n",
       "5_n-gram_lm                                         [JournalArticle]   \n",
       "\n",
       "                               publicationDate  \\\n",
       "0_sparse_digit_recognition_svm      2008-11-01   \n",
       "2_dot(s)-rnn                        2013-12-20   \n",
       "3_kepler                            2019-11-13   \n",
       "4_mv-rnn                            2012-07-12   \n",
       "5_n-gram_lm                         1997-09-22   \n",
       "\n",
       "                                                                          journal  \\\n",
       "0_sparse_digit_recognition_svm  {'name': 'IEEE Transactions on Neural Networks...   \n",
       "2_dot(s)-rnn                          {'name': 'CoRR', 'volume': 'abs/1312.6026'}   \n",
       "3_kepler                        {'name': 'Transactions of the Association for ...   \n",
       "4_mv-rnn                                                   {'pages': '1201-1211'}   \n",
       "5_n-gram_lm                                                {'pages': '2707-2710'}   \n",
       "\n",
       "                                                                   citationStyles  \n",
       "0_sparse_digit_recognition_svm  {'bibtex': '@Article{Labusch2008SimpleMF,\n",
       " aut...  \n",
       "2_dot(s)-rnn                    {'bibtex': '@Article{Pascanu2013HowTC,\n",
       " author...  \n",
       "3_kepler                        {'bibtex': '@Article{Wang2019KEPLERAU,\n",
       " author...  \n",
       "4_mv-rnn                        {'bibtex': '@Article{Socher2012SemanticCT,\n",
       " au...  \n",
       "5_n-gram_lm                     {'bibtex': '@Article{Clarkson1997StatisticalLM...  \n",
       "\n",
       "[5 rows x 21 columns]"
      ]
     },
     "execution_count": 6,
     "metadata": {},
     "output_type": "execute_result"
    }
   ],
   "source": [
    "import pandas as pd\n",
    "\n",
    "df = pd.DataFrame(data)\n",
    "df = df.transpose()\n",
    "df.head()"
   ]
  },
  {
   "cell_type": "code",
   "execution_count": 7,
   "metadata": {},
   "outputs": [
    {
     "data": {
      "text/plain": [
       "(0.0, 10000.0)"
      ]
     },
     "execution_count": 7,
     "metadata": {},
     "output_type": "execute_result"
    },
    {
     "data": {
      "image/png": "[encoded data removed]",
      "text/plain": [
       "<Figure size 800x300 with 2 Axes>"
      ]
     },
     "metadata": {},
     "output_type": "display_data"
    }
   ],
   "source": [
    "# set Times new roman\n",
    "plt.rcParams['font.family'] = 'Times New Roman'\n",
    "\n",
    "# Creating the subplot\n",
    "fig, axs = plt.subplots(1, 2, figsize=(8, 3))\n",
    "\n",
    "axs[0] = df.groupby('year')['paperId'].count().plot(ax=axs[0], color='skyblue')\n",
    "axs[0].set_title('Number of papers per year')\n",
    "\n",
    "axs[1] = df['citationCount'].hist(ax=axs[1], color='olive', bins=200)\n",
    "axs[1].set_title('Citation count distribution')\n",
    "axs[1].set_xlim(0, 10000)"
   ]
  },
  {
   "cell_type": "code",
   "execution_count": 8,
   "metadata": {},
   "outputs": [
    {
     "data": {
      "text/plain": [
       "secondary_field\n",
       "Computer Science    657\n",
       "Mathematics         155\n",
       "Medicine             58\n",
       "Engineering          35\n",
       "Biology              26\n",
       "Unknown              10\n",
       "Psychology            4\n",
       "Physics               4\n",
       "Economics             2\n",
       "Chemistry             1\n",
       "History               1\n",
       "Name: count, dtype: int64"
      ]
     },
     "execution_count": 8,
     "metadata": {},
     "output_type": "execute_result"
    }
   ],
   "source": [
    "def field_other_than_cs(fields):\n",
    "    if not fields:\n",
    "        return \"Unknown\"\n",
    "    for f in fields:\n",
    "        if f != \"Computer Science\":\n",
    "            return f\n",
    "    if f in [\"Computer Science\"]:\n",
    "        return \"Computer Science\"\n",
    "\n",
    "df[\"secondary_field\"] = df[\"fieldsOfStudy\"].apply(field_other_than_cs)\n",
    "df[\"secondary_field\"].value_counts()"
   ]
  },
  {
   "cell_type": "code",
   "execution_count": 9,
   "metadata": {},
   "outputs": [
    {
     "data": {
      "text/plain": [
       "Text(0.5, 1.0, 'Paper open access distribution')"
      ]
     },
     "execution_count": 9,
     "metadata": {},
     "output_type": "execute_result"
    },
    {
     "data": {
      "image/png": "[encoded data removed]",
      "text/plain": [
       "<Figure size 800x300 with 2 Axes>"
      ]
     },
     "metadata": {},
     "output_type": "display_data"
    }
   ],
   "source": [
    "# set Times new roman\n",
    "plt.rcParams['font.family'] = 'Times New Roman'\n",
    "\n",
    "# Creating the subplot\n",
    "fig, axs = plt.subplots(1, 2, figsize=(8, 3))\n",
    "\n",
    "axs[0] = df['secondary_field'].value_counts().plot(kind='barh', ax=axs[0], color='skyblue')\n",
    "axs[0].set_title('Secondary field distribution')\n",
    "\n",
    "axs[1] = df['isOpenAccess'].value_counts().plot(ax=axs[1], kind='pie', color='olive')\n",
    "axs[1].set_title('Paper open access distribution')"
   ]
  },
  {
   "cell_type": "code",
   "execution_count": 10,
   "metadata": {},
   "outputs": [],
   "source": [
    "def get_pub_venue(x):\n",
    "    if not x:\n",
    "        return \"unknown\"\n",
    "    if 'type' in x.keys():\n",
    "        return x['type']\n",
    "    else:\n",
    "        return \"unknown\"\n",
    "\n",
    "df[\"pub_type\"] = df[\"publicationVenue\"].apply(get_pub_venue)"
   ]
  },
  {
   "cell_type": "code",
   "execution_count": 11,
   "metadata": {},
   "outputs": [
    {
     "data": {
      "text/plain": [
       "Text(0.5, 1.0, 'Publishing venue distribution')"
      ]
     },
     "execution_count": 11,
     "metadata": {},
     "output_type": "execute_result"
    },
    {
     "data": {
      "image/png": "[encoded data removed]",
      "text/plain": [
       "<Figure size 400x300 with 1 Axes>"
      ]
     },
     "metadata": {},
     "output_type": "display_data"
    }
   ],
   "source": [
    "# Creating the subplot\n",
    "fig, axs = plt.subplots(1, 1, figsize=(4, 3))\n",
    "\n",
    "df['pub_type'].value_counts().plot(kind='barh', color='skyblue')\n",
    "axs.set_title('Publishing venue distribution')"
   ]
  },
  {
   "cell_type": "code",
   "execution_count": null,
   "metadata": {},
   "outputs": [],
   "source": []
  }
 ],
 "metadata": {
  "kernelspec": {
   "display_name": "Python 3",
   "language": "python",
   "name": "python3"
  },
  "language_info": {
   "codemirror_mode": {
    "name": "ipython",
    "version": 3
   },
   "file_extension": ".py",
   "mimetype": "text/x-python",
   "name": "python",
   "nbconvert_exporter": "python",
   "pygments_lexer": "ipython3",
   "version": "3.12.3"
  }
 },
 "nbformat": 4,
 "nbformat_minor": 2
}
