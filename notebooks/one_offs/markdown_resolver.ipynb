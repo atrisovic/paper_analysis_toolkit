{
 "cells": [
  {
   "cell_type": "code",
   "execution_count": 1,
   "metadata": {},
   "outputs": [],
   "source": [
    "from os import listdir\n",
    "from os.path import join, basename\n",
    "from regex import findall\n",
    "from tqdm import tqdm"
   ]
  },
  {
   "cell_type": "code",
   "execution_count": 6,
   "metadata": {},
   "outputs": [
    {
     "name": "stderr",
     "output_type": "stream",
     "text": [
      "  0%|          | 0/1857 [00:00<?, ?it/s]"
     ]
    },
    {
     "name": "stderr",
     "output_type": "stream",
     "text": [
      "100%|██████████| 1857/1857 [00:04<00:00, 413.83it/s]\n"
     ]
    }
   ],
   "source": [
    "directory1 = ''\n",
    "directory2 = ''\n",
    "new_directory = ''\n",
    "\n",
    "markdown_files1 = {basename(file) for file in filter(lambda s: s[-3:] == 'mmd', listdir(directory1))}\n",
    "markdown_files2 = {basename(file) for file in filter(lambda s: s[-3:] == 'mmd', listdir(directory2))}\n",
    "\n",
    "\n",
    "intersection = markdown_files1.intersection(markdown_files2)"
   ]
  },
  {
   "cell_type": "code",
   "execution_count": null,
   "metadata": {},
   "outputs": [],
   "source": [
    "for file in tqdm(intersection):\n",
    "    with open(join(directory1, file), 'r', encoding = 'utf-8') as f:\n",
    "        content1 = f.read().lower()\n",
    "    with open(join(directory2, file), 'r', encoding = 'utf-8') as f:\n",
    "        content2 = f.read().lower()\n",
    "        \n",
    "    if (len(findall('missing_page_fail', content1)) < len(findall('missing_page_fail', content2))):\n",
    "        content = content1\n",
    "    else:\n",
    "        content = content2 \n",
    "    \n",
    "    with open(join(new_directory, file), 'w') as f:\n",
    "        f.write(content)"
   ]
  }
 ],
 "metadata": {
  "kernelspec": {
   "display_name": "Python 3",
   "language": "python",
   "name": "python3"
  },
  "language_info": {
   "codemirror_mode": {
    "name": "ipython",
    "version": 3
   },
   "file_extension": ".py",
   "mimetype": "text/x-python",
   "name": "python",
   "nbconvert_exporter": "python",
   "pygments_lexer": "ipython3",
   "version": "3.12.3"
  }
 },
 "nbformat": 4,
 "nbformat_minor": 2
}
