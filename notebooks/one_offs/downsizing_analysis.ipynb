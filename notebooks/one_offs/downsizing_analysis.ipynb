{
 "cells": [
  {
   "cell_type": "code",
   "execution_count": 2,
   "metadata": {},
   "outputs": [],
   "source": [
    "import json\n",
    "import matplotlib.pyplot as plt\n",
    "import pandas as pd"
   ]
  },
  {
   "cell_type": "code",
   "execution_count": 6,
   "metadata": {},
   "outputs": [
    {
     "data": {
      "text/html": [
       "<div>\n",
       "<style scoped>\n",
       "    .dataframe tbody tr th:only-of-type {\n",
       "        vertical-align: middle;\n",
       "    }\n",
       "\n",
       "    .dataframe tbody tr th {\n",
       "        vertical-align: top;\n",
       "    }\n",
       "\n",
       "    .dataframe thead th {\n",
       "        text-align: right;\n",
       "    }\n",
       "</style>\n",
       "<table border=\"1\" class=\"dataframe\">\n",
       "  <thead>\n",
       "    <tr style=\"text-align: right;\">\n",
       "      <th></th>\n",
       "      <th>paperId</th>\n",
       "      <th>title</th>\n",
       "      <th>abstract</th>\n",
       "      <th>year</th>\n",
       "      <th>citationCount</th>\n",
       "      <th>isOpenAccess</th>\n",
       "      <th>openAccessPdf</th>\n",
       "      <th>fieldsOfStudy</th>\n",
       "      <th>authors</th>\n",
       "    </tr>\n",
       "  </thead>\n",
       "  <tbody>\n",
       "    <tr>\n",
       "      <th>0</th>\n",
       "      <td>41e2c2ec3c717f8278ef7ae9c08300bfe8e5f4c9</td>\n",
       "      <td>A semismooth Newton method for support vector ...</td>\n",
       "      <td>None</td>\n",
       "      <td>2019.0</td>\n",
       "      <td>18.0</td>\n",
       "      <td>1.0</td>\n",
       "      <td>{'url': 'http://arxiv.org/pdf/1903.00249', 'st...</td>\n",
       "      <td>[Mathematics, Computer Science]</td>\n",
       "      <td>[{'authorId': '2119273202', 'name': 'Juan Yin'...</td>\n",
       "    </tr>\n",
       "    <tr>\n",
       "      <th>1</th>\n",
       "      <td>fb0797374f643b625e189e50800e0eb762d003e2</td>\n",
       "      <td>Sparse coded decomposition for single image-ba...</td>\n",
       "      <td>In this paper, we propose a method to separate...</td>\n",
       "      <td>2016.0</td>\n",
       "      <td>2.0</td>\n",
       "      <td>0.0</td>\n",
       "      <td>None</td>\n",
       "      <td>[Mathematics]</td>\n",
       "      <td>[{'authorId': '36439228', 'name': 'H. Akbar'},...</td>\n",
       "    </tr>\n",
       "    <tr>\n",
       "      <th>2</th>\n",
       "      <td>64df5c4a51c428ccefda136850e186d0779530ec</td>\n",
       "      <td>Handwritten Numeral Superposition to Printed F...</td>\n",
       "      <td>None</td>\n",
       "      <td>2019.0</td>\n",
       "      <td>0.0</td>\n",
       "      <td>0.0</td>\n",
       "      <td>None</td>\n",
       "      <td>[Computer Science]</td>\n",
       "      <td>[{'authorId': '10739813', 'name': 'M. Shuvo'},...</td>\n",
       "    </tr>\n",
       "    <tr>\n",
       "      <th>3</th>\n",
       "      <td>26d7baf9f58f44afc7d40a4435bdb1371b5260c2</td>\n",
       "      <td>Sparse Coding Neural Gas: Learning of overcomp...</td>\n",
       "      <td>None</td>\n",
       "      <td>2009.0</td>\n",
       "      <td>55.0</td>\n",
       "      <td>0.0</td>\n",
       "      <td>None</td>\n",
       "      <td>[Mathematics, Computer Science]</td>\n",
       "      <td>[{'authorId': '2562261', 'name': 'Kai Labusch'...</td>\n",
       "    </tr>\n",
       "    <tr>\n",
       "      <th>4</th>\n",
       "      <td>421fa92c75636df96cbdc4b8e418fc78af272d8e</td>\n",
       "      <td>Investigation of Normalization Techniques and ...</td>\n",
       "      <td>handwritten numeral recognition, normalization...</td>\n",
       "      <td>2010.0</td>\n",
       "      <td>7.0</td>\n",
       "      <td>1.0</td>\n",
       "      <td>{'url': 'https://ruj.uj.edu.pl/xmlui/bitstream...</td>\n",
       "      <td>[Mathematics]</td>\n",
       "      <td>[{'authorId': '1750723', 'name': 'W. Chmielnic...</td>\n",
       "    </tr>\n",
       "  </tbody>\n",
       "</table>\n",
       "</div>"
      ],
      "text/plain": [
       "                                    paperId  \\\n",
       "0  41e2c2ec3c717f8278ef7ae9c08300bfe8e5f4c9   \n",
       "1  fb0797374f643b625e189e50800e0eb762d003e2   \n",
       "2  64df5c4a51c428ccefda136850e186d0779530ec   \n",
       "3  26d7baf9f58f44afc7d40a4435bdb1371b5260c2   \n",
       "4  421fa92c75636df96cbdc4b8e418fc78af272d8e   \n",
       "\n",
       "                                               title  \\\n",
       "0  A semismooth Newton method for support vector ...   \n",
       "1  Sparse coded decomposition for single image-ba...   \n",
       "2  Handwritten Numeral Superposition to Printed F...   \n",
       "3  Sparse Coding Neural Gas: Learning of overcomp...   \n",
       "4  Investigation of Normalization Techniques and ...   \n",
       "\n",
       "                                            abstract    year  citationCount  \\\n",
       "0                                               None  2019.0           18.0   \n",
       "1  In this paper, we propose a method to separate...  2016.0            2.0   \n",
       "2                                               None  2019.0            0.0   \n",
       "3                                               None  2009.0           55.0   \n",
       "4  handwritten numeral recognition, normalization...  2010.0            7.0   \n",
       "\n",
       "   isOpenAccess                                      openAccessPdf  \\\n",
       "0           1.0  {'url': 'http://arxiv.org/pdf/1903.00249', 'st...   \n",
       "1           0.0                                               None   \n",
       "2           0.0                                               None   \n",
       "3           0.0                                               None   \n",
       "4           1.0  {'url': 'https://ruj.uj.edu.pl/xmlui/bitstream...   \n",
       "\n",
       "                     fieldsOfStudy  \\\n",
       "0  [Mathematics, Computer Science]   \n",
       "1                    [Mathematics]   \n",
       "2               [Computer Science]   \n",
       "3  [Mathematics, Computer Science]   \n",
       "4                    [Mathematics]   \n",
       "\n",
       "                                             authors  \n",
       "0  [{'authorId': '2119273202', 'name': 'Juan Yin'...  \n",
       "1  [{'authorId': '36439228', 'name': 'H. Akbar'},...  \n",
       "2  [{'authorId': '10739813', 'name': 'M. Shuvo'},...  \n",
       "3  [{'authorId': '2562261', 'name': 'Kai Labusch'...  \n",
       "4  [{'authorId': '1750723', 'name': 'W. Chmielnic...  "
      ]
     },
     "execution_count": 6,
     "metadata": {},
     "output_type": "execute_result"
    }
   ],
   "source": [
    "df = pd.read_json(\"jsonl/downsizing_info.jsonl\", lines=True)\n",
    "df.head()"
   ]
  },
  {
   "cell_type": "code",
   "execution_count": 7,
   "metadata": {},
   "outputs": [
    {
     "data": {
      "text/plain": [
       "210117"
      ]
     },
     "execution_count": 7,
     "metadata": {},
     "output_type": "execute_result"
    }
   ],
   "source": [
    "len(df)"
   ]
  },
  {
   "cell_type": "code",
   "execution_count": 10,
   "metadata": {},
   "outputs": [
    {
     "data": {
      "text/plain": [
       "35668"
      ]
     },
     "execution_count": 10,
     "metadata": {},
     "output_type": "execute_result"
    }
   ],
   "source": [
    "df[\"abstract\"].isnull().sum()"
   ]
  },
  {
   "cell_type": "markdown",
   "metadata": {},
   "source": [
    "# Open Access papers\n",
    "\n",
    "Papers that we can find online:"
   ]
  },
  {
   "cell_type": "code",
   "execution_count": 11,
   "metadata": {},
   "outputs": [
    {
     "data": {
      "text/plain": [
       "85823.0"
      ]
     },
     "execution_count": 11,
     "metadata": {},
     "output_type": "execute_result"
    }
   ],
   "source": [
    "df[\"isOpenAccess\"].sum()"
   ]
  },
  {
   "cell_type": "code",
   "execution_count": 15,
   "metadata": {},
   "outputs": [],
   "source": [
    "df[df[\"isOpenAccess\"]==1.0][\"paperId\"].to_csv(\"open_access_paper_ids.csv\", index=False)"
   ]
  },
  {
   "cell_type": "code",
   "execution_count": 18,
   "metadata": {},
   "outputs": [
    {
     "data": {
      "text/plain": [
       "['8a28ee5c421f37119d1a5960b9e12cb192700bf3',\n",
       " 'b9ce07ee437b56c68c370bb6548f3ae5a388574d',\n",
       " 'c744be612ea1794ecd1cf95c77ea5b2418273950',\n",
       " 'fd15dce0aa20f0b0691a334995f46e792371d8ad',\n",
       " 'd2a3bb6356d439146cd8d8e72dc728a1e3d93e7f']"
      ]
     },
     "execution_count": 18,
     "metadata": {},
     "output_type": "execute_result"
    }
   ],
   "source": [
    "needed = list(set(df[df[\"isOpenAccess\"]==1.0][\"paperId\"]))\n",
    "needed[:5]"
   ]
  },
  {
   "cell_type": "code",
   "execution_count": 19,
   "metadata": {},
   "outputs": [
    {
     "data": {
      "text/plain": [
       "61363"
      ]
     },
     "execution_count": 19,
     "metadata": {},
     "output_type": "execute_result"
    }
   ],
   "source": [
    "len(needed)"
   ]
  },
  {
   "cell_type": "code",
   "execution_count": 21,
   "metadata": {},
   "outputs": [
    {
     "data": {
      "text/plain": [
       "['0000a190fba2438add1cc2a8863fa6ca9403e161',\n",
       " '000127bd7a1d836c964bda3a2c52f067353146aa',\n",
       " '000140e4941047cc7c773652413aed7829fbd68c',\n",
       " '000178cd12c8a6e5da8215b6365fae03c20fd18d',\n",
       " '0001c9f00509856276eb473780056e6e29b0aad1']"
      ]
     },
     "execution_count": 21,
     "metadata": {},
     "output_type": "execute_result"
    }
   ],
   "source": [
    "filename = 'markdown_list.txt'\n",
    "\n",
    "# Initialize an empty list to hold the lines\n",
    "file_contents = []\n",
    "\n",
    "# Open the file and read the contents\n",
    "with open(filename, 'r') as file:\n",
    "    for line in file:\n",
    "        # Strip newline characters and add to the list\n",
    "        file_contents.append(line.strip()[:-4])\n",
    "file_contents[:5]"
   ]
  },
  {
   "cell_type": "code",
   "execution_count": 22,
   "metadata": {},
   "outputs": [],
   "source": [
    "converted = set(file_contents)"
   ]
  },
  {
   "cell_type": "code",
   "execution_count": 23,
   "metadata": {},
   "outputs": [
    {
     "data": {
      "text/plain": [
       "47269"
      ]
     },
     "execution_count": 23,
     "metadata": {},
     "output_type": "execute_result"
    }
   ],
   "source": [
    "rest = list(set(needed) - converted)\n",
    "len(rest)"
   ]
  },
  {
   "cell_type": "code",
   "execution_count": 24,
   "metadata": {},
   "outputs": [],
   "source": [
    "# Specify the output filename\n",
    "filename = 'missing.txt'\n",
    "\n",
    "# Open the file for writing\n",
    "with open(filename, 'w') as file:\n",
    "    for item in rest:\n",
    "        # Write each item on its own line\n",
    "        file.write(f\"{item}\\n\")"
   ]
  },
  {
   "cell_type": "code",
   "execution_count": null,
   "metadata": {},
   "outputs": [],
   "source": []
  }
 ],
 "metadata": {
  "kernelspec": {
   "display_name": "Python 3",
   "language": "python",
   "name": "python3"
  },
  "language_info": {
   "codemirror_mode": {
    "name": "ipython",
    "version": 3
   },
   "file_extension": ".py",
   "mimetype": "text/x-python",
   "name": "python",
   "nbconvert_exporter": "python",
   "pygments_lexer": "ipython3",
   "version": "3.11.8"
  }
 },
 "nbformat": 4,
 "nbformat_minor": 2
}
