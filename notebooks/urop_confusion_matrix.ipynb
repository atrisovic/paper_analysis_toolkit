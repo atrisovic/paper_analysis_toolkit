{
 "cells": [
  {
   "cell_type": "markdown",
   "metadata": {},
   "source": [
    "# Imports"
   ]
  },
  {
   "cell_type": "code",
   "execution_count": 16,
   "metadata": {},
   "outputs": [],
   "source": [
    "import pandas as pd\n",
    "from os.path import join\n",
    "from documents.Corpus import Corpus\n",
    "from citations.CitationClassifier import CitationClassifier\n",
    "from config import *\n",
    "\n",
    "import numpy as np\n",
    "import json\n",
    "from sklearn.metrics import confusion_matrix\n",
    "import seaborn as sns\n",
    "import matplotlib.pyplot as plt\n",
    "\n",
    "\n",
    "csv_path = '/Users/Alex/Library/CloudStorage/GoogleDrive-alexjfogelson@gmail.com/My Drive/FutureTech/workspace/urop_task2_markdown/task2_with_paperIds.csv'\n",
    "markdown_path = '/Users/Alex/Library/CloudStorage/GoogleDrive-alexjfogelson@gmail.com/My Drive/FutureTech/workspace/true_urop_task2_markdown/'\n"
   ]
  },
  {
   "cell_type": "code",
   "execution_count": 17,
   "metadata": {},
   "outputs": [
    {
     "name": "stdout",
     "output_type": "stream",
     "text": [
      "{'background', 'method', 'result'}\n"
     ]
    },
    {
     "data": {
      "image/png": "[encoded data removed]",
      "text/plain": [
       "<Figure size 640x480 with 1 Axes>"
      ]
     },
     "metadata": {},
     "output_type": "display_data"
    }
   ],
   "source": [
    "csv_path = '/Users/Alex/Library/CloudStorage/GoogleDrive-alexjfogelson@gmail.com/My Drive/FutureTech/workspace/urop_task2_markdown/task2_with_paperIds.csv'\n",
    "markdown_path = '/Users/Alex/Library/CloudStorage/GoogleDrive-alexjfogelson@gmail.com/My Drive/FutureTech/workspace/true_urop_task2_markdown/'\n",
    "\n",
    "urop = pd.read_csv(csv_path)\n",
    "urop['citation.intent1'] = urop['citation.intent1'].apply(str.lower)\n",
    "valid_categories = {'background', 'differences', 'extends','future work', 'motivation', 'similarities', 'uses'}\n",
    "urop = urop[urop['citation.intent1'].apply(lambda s: s in valid_categories)]\n",
    "\n",
    "mapping = lambda s: {\n",
    "            'differences': 'result',\n",
    "            'similarities': 'result',\n",
    "            'motivation': 'background',\n",
    "            'extends':'method',\n",
    "            'uses': 'method',\n",
    "            'usetobackground': 'method',\n",
    "            'future_work':'background',\n",
    "            'future work':'background',\n",
    "            'background': 'background'}.get(s) or s\n",
    "\n",
    "values = urop['citation.intent1'].apply(lambda s: mapping(s.lower()))\n",
    "print(set(values))\n",
    "plt.hist(urop['citation.intent1'].apply(lambda s: mapping(s.lower())))\n",
    "plt.show()\n"
   ]
  },
  {
   "cell_type": "markdown",
   "metadata": {},
   "source": [
    "# Retrieve UROP dataframe"
   ]
  },
  {
   "cell_type": "code",
   "execution_count": 14,
   "metadata": {},
   "outputs": [
    {
     "name": "stdout",
     "output_type": "stream",
     "text": [
      "Found 703 total rows in UROP CSV dataset.\n",
      "Found 696 valid rows in dataset. Dropped 7 rows for invalid classification.\n",
      "Found 328 distinct foundation models referenced in the dataset.\n"
     ]
    },
    {
     "data": {
      "text/html": [
       "<div>\n",
       "<style scoped>\n",
       "    .dataframe tbody tr th:only-of-type {\n",
       "        vertical-align: middle;\n",
       "    }\n",
       "\n",
       "    .dataframe tbody tr th {\n",
       "        vertical-align: top;\n",
       "    }\n",
       "\n",
       "    .dataframe thead th {\n",
       "        text-align: right;\n",
       "    }\n",
       "</style>\n",
       "<table border=\"1\" class=\"dataframe\">\n",
       "  <thead>\n",
       "    <tr style=\"text-align: right;\">\n",
       "      <th></th>\n",
       "      <th>classification</th>\n",
       "      <th>modelId</th>\n",
       "      <th>paperId</th>\n",
       "    </tr>\n",
       "  </thead>\n",
       "  <tbody>\n",
       "    <tr>\n",
       "      <th>0</th>\n",
       "      <td>uses</td>\n",
       "      <td>3647d6d0f151dc05626449ee09cc7bce55be497e</td>\n",
       "      <td>e83012a4c4041a170d7dbe4fe48113c32f519701</td>\n",
       "    </tr>\n",
       "    <tr>\n",
       "      <th>1</th>\n",
       "      <td>background</td>\n",
       "      <td>ebb85974e06c4879b451fdfcb4f472a09471935b</td>\n",
       "      <td>f2a29214d169dd032fb13be44e9b11e74710472f</td>\n",
       "    </tr>\n",
       "    <tr>\n",
       "      <th>2</th>\n",
       "      <td>background</td>\n",
       "      <td>24badbe57bbe956ea38afd4b02a214da1bc57a6c</td>\n",
       "      <td>6c821635f65026c782ac37eceff97949a9f231de</td>\n",
       "    </tr>\n",
       "    <tr>\n",
       "      <th>3</th>\n",
       "      <td>background</td>\n",
       "      <td>a538b05ebb01a40323997629e171c91aa28b8e2f</td>\n",
       "      <td>d31b0f55bbe44caf586e3b0e8424129ea8f068cd</td>\n",
       "    </tr>\n",
       "    <tr>\n",
       "      <th>4</th>\n",
       "      <td>background</td>\n",
       "      <td>319b84be7a843250bc81d7086f79a4126d550277</td>\n",
       "      <td>a26623d52d24e03044a158cddad931ec5ab7304c</td>\n",
       "    </tr>\n",
       "    <tr>\n",
       "      <th>...</th>\n",
       "      <td>...</td>\n",
       "      <td>...</td>\n",
       "      <td>...</td>\n",
       "    </tr>\n",
       "    <tr>\n",
       "      <th>698</th>\n",
       "      <td>background</td>\n",
       "      <td>0060745e006c5f14ec326904119dca19c6545e51</td>\n",
       "      <td>cd241c2a4228bc7f4d5d0fc2abc941f73d8558ac</td>\n",
       "    </tr>\n",
       "    <tr>\n",
       "      <th>699</th>\n",
       "      <td>background</td>\n",
       "      <td>0b544dfe355a5070b60986319a3f51fb45d1348e</td>\n",
       "      <td>d5af97ead51b1c937d4008ec814798ee66116225</td>\n",
       "    </tr>\n",
       "    <tr>\n",
       "      <th>700</th>\n",
       "      <td>uses</td>\n",
       "      <td>7698498dcb14db063154f4c955fc041114d1960d</td>\n",
       "      <td>81e20d4641b6261c23184f98fd1585d64c85eb40</td>\n",
       "    </tr>\n",
       "    <tr>\n",
       "      <th>701</th>\n",
       "      <td>background</td>\n",
       "      <td>62516303058a1322450b58e4cd778ab873b5e531</td>\n",
       "      <td>28dca13befd068dfa1cf498bba45020cf22ec16f</td>\n",
       "    </tr>\n",
       "    <tr>\n",
       "      <th>702</th>\n",
       "      <td>background</td>\n",
       "      <td>ea3d7de6c0880e14455b9acb28f1bc1234321456</td>\n",
       "      <td>6fbfe167c46fd827e06aff39147b064154591a39</td>\n",
       "    </tr>\n",
       "  </tbody>\n",
       "</table>\n",
       "<p>696 rows × 3 columns</p>\n",
       "</div>"
      ],
      "text/plain": [
       "    classification                                   modelId  \\\n",
       "0             uses  3647d6d0f151dc05626449ee09cc7bce55be497e   \n",
       "1       background  ebb85974e06c4879b451fdfcb4f472a09471935b   \n",
       "2       background  24badbe57bbe956ea38afd4b02a214da1bc57a6c   \n",
       "3       background  a538b05ebb01a40323997629e171c91aa28b8e2f   \n",
       "4       background  319b84be7a843250bc81d7086f79a4126d550277   \n",
       "..             ...                                       ...   \n",
       "698     background  0060745e006c5f14ec326904119dca19c6545e51   \n",
       "699     background  0b544dfe355a5070b60986319a3f51fb45d1348e   \n",
       "700           uses  7698498dcb14db063154f4c955fc041114d1960d   \n",
       "701     background  62516303058a1322450b58e4cd778ab873b5e531   \n",
       "702     background  ea3d7de6c0880e14455b9acb28f1bc1234321456   \n",
       "\n",
       "                                      paperId  \n",
       "0    e83012a4c4041a170d7dbe4fe48113c32f519701  \n",
       "1    f2a29214d169dd032fb13be44e9b11e74710472f  \n",
       "2    6c821635f65026c782ac37eceff97949a9f231de  \n",
       "3    d31b0f55bbe44caf586e3b0e8424129ea8f068cd  \n",
       "4    a26623d52d24e03044a158cddad931ec5ab7304c  \n",
       "..                                        ...  \n",
       "698  cd241c2a4228bc7f4d5d0fc2abc941f73d8558ac  \n",
       "699  d5af97ead51b1c937d4008ec814798ee66116225  \n",
       "700  81e20d4641b6261c23184f98fd1585d64c85eb40  \n",
       "701  28dca13befd068dfa1cf498bba45020cf22ec16f  \n",
       "702  6fbfe167c46fd827e06aff39147b064154591a39  \n",
       "\n",
       "[696 rows x 3 columns]"
      ]
     },
     "execution_count": 14,
     "metadata": {},
     "output_type": "execute_result"
    }
   ],
   "source": [
    "urop_og_df = pd.read_csv(csv_path)\n",
    "mapping = {'citation.intent1': 'classification', 'model.paperId': 'modelId', 'citation.paperId':'paperId'}\n",
    "urop_og_df = urop_og_df.rename(columns = mapping)[mapping.values()]\n",
    "urop_og_df['classification'] = urop_og_df['classification'].apply(str.lower)\n",
    "print(f\"Found {len(urop_og_df)} total rows in UROP CSV dataset.\")\n",
    "\n",
    "valid_categories = {'background', 'differences', 'extends','future work', 'motivation', 'similarities', 'uses'}\n",
    "urop_df = urop_og_df[urop_og_df['classification'].apply(lambda s: s in valid_categories)].copy() \n",
    "print(f\"Found {len(urop_df)} valid rows in dataset. Dropped {len(urop_og_df) - len(urop_df)} rows for invalid classification.\")\n",
    "\n",
    "order_class_values = ['extends', 'uses', 'differences', 'similarities', 'future work', 'motivation', 'background']\n",
    "urop_df['classification_order'] = urop_df['classification'].apply(order_class_values.index)\n",
    "\n",
    "urop_foundation_models = set(urop_df['modelId'].to_list())\n",
    "print(f\"Found {len(urop_foundation_models)} distinct foundation models referenced in the dataset.\")\n",
    "\n",
    "urop_df[['classification', 'modelId', 'paperId']]"
   ]
  },
  {
   "cell_type": "markdown",
   "metadata": {},
   "source": [
    "# Generate and Analyze Corpus"
   ]
  },
  {
   "cell_type": "code",
   "execution_count": 5,
   "metadata": {},
   "outputs": [
    {
     "name": "stderr",
     "output_type": "stream",
     "text": [
      " 54%|█████▍    | 235/433 [00:09<00:08, 24.08it/s]\n"
     ]
    },
    {
     "ename": "KeyboardInterrupt",
     "evalue": "",
     "output_type": "error",
     "traceback": [
      "\u001b[0;31m---------------------------------------------------------------------------\u001b[0m",
      "\u001b[0;31mKeyboardInterrupt\u001b[0m                         Traceback (most recent call last)",
      "Cell \u001b[0;32mIn[5], line 2\u001b[0m\n\u001b[1;32m      1\u001b[0m classifier \u001b[38;5;241m=\u001b[39m CitationClassifier(CITATION_MODEL_PATH)\n\u001b[0;32m----> 2\u001b[0m corpus \u001b[38;5;241m=\u001b[39m \u001b[43mCorpus\u001b[49m\u001b[43m(\u001b[49m\u001b[43mmarkdown_path\u001b[49m\u001b[43m,\u001b[49m\u001b[43m \u001b[49m\n\u001b[1;32m      3\u001b[0m \u001b[43m                    \u001b[49m\u001b[43mextensions\u001b[49m\u001b[43m \u001b[49m\u001b[38;5;241;43m=\u001b[39;49m\u001b[43m \u001b[49m\u001b[43m[\u001b[49m\u001b[38;5;124;43m'\u001b[39;49m\u001b[38;5;124;43mmmd\u001b[39;49m\u001b[38;5;124;43m'\u001b[39;49m\u001b[43m]\u001b[49m\u001b[43m)\u001b[49m\n\u001b[1;32m      5\u001b[0m \u001b[38;5;28;01mwith\u001b[39;00m \u001b[38;5;28mopen\u001b[39m(FOUNDATION_MODELS_PATH, \u001b[38;5;124m'\u001b[39m\u001b[38;5;124mr\u001b[39m\u001b[38;5;124m'\u001b[39m) \u001b[38;5;28;01mas\u001b[39;00m f:\n\u001b[1;32m      6\u001b[0m     foundational_models_json \u001b[38;5;241m=\u001b[39m json\u001b[38;5;241m.\u001b[39mload(f)\n",
      "File \u001b[0;32m~/Desktop/paper_analysis_toolkit/documents/Corpus.py:37\u001b[0m, in \u001b[0;36mCorpus.__init__\u001b[0;34m(self, directory, extensions, foundation_model_limit, paper_limit, cluster_info, filter_path, lazy, confirm_paper_ref_sections)\u001b[0m\n\u001b[1;32m     34\u001b[0m \u001b[38;5;28mself\u001b[39m\u001b[38;5;241m.\u001b[39mlazy: \u001b[38;5;28mbool\u001b[39m \u001b[38;5;241m=\u001b[39m lazy\n\u001b[1;32m     35\u001b[0m \u001b[38;5;28mself\u001b[39m\u001b[38;5;241m.\u001b[39mconfirm_paper_ref_sections: \u001b[38;5;28mbool\u001b[39m \u001b[38;5;241m=\u001b[39m confirm_paper_ref_sections\n\u001b[0;32m---> 37\u001b[0m \u001b[38;5;28;43mself\u001b[39;49m\u001b[38;5;241;43m.\u001b[39;49m\u001b[43msetPapersLists\u001b[49m\u001b[43m(\u001b[49m\u001b[43m)\u001b[49m\n",
      "File \u001b[0;32m~/Desktop/paper_analysis_toolkit/documents/Corpus.py:63\u001b[0m, in \u001b[0;36mCorpus.setPapersLists\u001b[0;34m(self)\u001b[0m\n\u001b[1;32m     61\u001b[0m \u001b[38;5;28;01mfor\u001b[39;00m path \u001b[38;5;129;01min\u001b[39;00m tqdm(all_file_paths):\n\u001b[1;32m     62\u001b[0m     \u001b[38;5;28;01mtry\u001b[39;00m:\n\u001b[0;32m---> 63\u001b[0m         good_papers\u001b[38;5;241m.\u001b[39mappend(\u001b[43mPaper\u001b[49m\u001b[43m(\u001b[49m\u001b[43mpath\u001b[49m\u001b[43m,\u001b[49m\u001b[43m \u001b[49m\u001b[43mlazy\u001b[49m\u001b[43m \u001b[49m\u001b[38;5;241;43m=\u001b[39;49m\u001b[43m \u001b[49m\u001b[38;5;28;43mself\u001b[39;49m\u001b[38;5;241;43m.\u001b[39;49m\u001b[43mlazy\u001b[49m\u001b[43m,\u001b[49m\u001b[43m \u001b[49m\u001b[43mconfirm_reference_section\u001b[49m\u001b[38;5;241;43m=\u001b[39;49m\u001b[38;5;28;43mself\u001b[39;49m\u001b[38;5;241;43m.\u001b[39;49m\u001b[43mconfirm_paper_ref_sections\u001b[49m\u001b[43m)\u001b[49m)\n\u001b[1;32m     64\u001b[0m     \u001b[38;5;28;01mexcept\u001b[39;00m ReferenceSectionCountException \u001b[38;5;28;01mas\u001b[39;00m e:\n\u001b[1;32m     65\u001b[0m         logger\u001b[38;5;241m.\u001b[39mdebug(\u001b[38;5;124mf\u001b[39m\u001b[38;5;124m\"\u001b[39m\u001b[38;5;124mException occured creating Paper object from \u001b[39m\u001b[38;5;132;01m{\u001b[39;00mpath\u001b[38;5;132;01m}\u001b[39;00m\u001b[38;5;124m (ignored, see Corpus.bad_papers) \u001b[39m\u001b[38;5;132;01m{\u001b[39;00me\u001b[38;5;132;01m}\u001b[39;00m\u001b[38;5;124m\"\u001b[39m)\n",
      "File \u001b[0;32m~/Desktop/paper_analysis_toolkit/documents/Paper.py:32\u001b[0m, in \u001b[0;36mPaper.__init__\u001b[0;34m(self, path, lazy, confirm_reference_section)\u001b[0m\n\u001b[1;32m     28\u001b[0m \u001b[38;5;28mself\u001b[39m\u001b[38;5;241m.\u001b[39mname_and_affiliation: \u001b[38;5;28mdict\u001b[39m \u001b[38;5;241m=\u001b[39m \u001b[38;5;28;01mNone\u001b[39;00m\n\u001b[1;32m     31\u001b[0m \u001b[38;5;28;01mif\u001b[39;00m (\u001b[38;5;129;01mnot\u001b[39;00m \u001b[38;5;28mself\u001b[39m\u001b[38;5;241m.\u001b[39mlazy):\n\u001b[0;32m---> 32\u001b[0m     \u001b[38;5;28;43mself\u001b[39;49m\u001b[38;5;241;43m.\u001b[39;49m\u001b[43mgetSections\u001b[49m\u001b[43m(\u001b[49m\u001b[43m)\u001b[49m\n\u001b[1;32m     33\u001b[0m     \u001b[38;5;28mself\u001b[39m\u001b[38;5;241m.\u001b[39mgetSentences()\n\u001b[1;32m     35\u001b[0m \u001b[38;5;28mself\u001b[39m\u001b[38;5;241m.\u001b[39msetPaperTitle()\n",
      "File \u001b[0;32m~/Desktop/paper_analysis_toolkit/documents/Paper.py:54\u001b[0m, in \u001b[0;36mPaper.getSections\u001b[0;34m(self, heading_prefix)\u001b[0m\n\u001b[1;32m     51\u001b[0m     \u001b[38;5;28;01mreturn\u001b[39;00m \u001b[38;5;28mself\u001b[39m\u001b[38;5;241m.\u001b[39msections\n\u001b[1;32m     53\u001b[0m \u001b[38;5;28;01mwith\u001b[39;00m \u001b[38;5;28mopen\u001b[39m(\u001b[38;5;28mself\u001b[39m\u001b[38;5;241m.\u001b[39mpath, \u001b[38;5;124m\"\u001b[39m\u001b[38;5;124mr\u001b[39m\u001b[38;5;124m\"\u001b[39m, encoding \u001b[38;5;241m=\u001b[39m \u001b[38;5;124m'\u001b[39m\u001b[38;5;124mutf-8\u001b[39m\u001b[38;5;124m'\u001b[39m) \u001b[38;5;28;01mas\u001b[39;00m f:\n\u001b[0;32m---> 54\u001b[0m     file_content \u001b[38;5;241m=\u001b[39m ( \u001b[43mf\u001b[49m\u001b[38;5;241;43m.\u001b[39;49m\u001b[43mread\u001b[49m\u001b[43m(\u001b[49m\u001b[43m)\u001b[49m\n\u001b[1;32m     55\u001b[0m                         \u001b[38;5;241m.\u001b[39mlower()\n\u001b[1;32m     56\u001b[0m                         \u001b[38;5;241m.\u001b[39mreplace(\u001b[38;5;124m'\u001b[39m\u001b[38;5;124met al.\u001b[39m\u001b[38;5;124m'\u001b[39m, \u001b[38;5;124m'\u001b[39m\u001b[38;5;124met al\u001b[39m\u001b[38;5;124m'\u001b[39m)   \u001b[38;5;66;03m#sentence tokenizer mistakes the period for end of sentence\u001b[39;00m\n\u001b[1;32m     57\u001b[0m                         )\n\u001b[1;32m     58\u001b[0m content \u001b[38;5;241m=\u001b[39m \u001b[38;5;28mself\u001b[39m\u001b[38;5;241m.\u001b[39mnormalizeNumericalCitations(file_content)\n\u001b[1;32m     60\u001b[0m sections \u001b[38;5;241m=\u001b[39m [{\u001b[38;5;124m'\u001b[39m\u001b[38;5;124mcontent\u001b[39m\u001b[38;5;124m'\u001b[39m: \u001b[38;5;124mf\u001b[39m\u001b[38;5;124m'\u001b[39m\u001b[38;5;132;01m{\u001b[39;00mheading_prefix\u001b[38;5;132;01m}\u001b[39;00m\u001b[38;5;124m \u001b[39m\u001b[38;5;124m'\u001b[39m \u001b[38;5;241m+\u001b[39m section} \u001b[38;5;28;01mfor\u001b[39;00m section \u001b[38;5;129;01min\u001b[39;00m \u001b[38;5;28mfilter\u001b[39m(\u001b[38;5;28;01mNone\u001b[39;00m, re\u001b[38;5;241m.\u001b[39msplit(\u001b[38;5;124mf\u001b[39m\u001b[38;5;124m\"\u001b[39m\u001b[38;5;130;01m\\n\u001b[39;00m\u001b[38;5;132;01m{\u001b[39;00mheading_prefix\u001b[38;5;132;01m}\u001b[39;00m\u001b[38;5;124m(?=[^#])\u001b[39m\u001b[38;5;124m\"\u001b[39m, content))]\n",
      "\u001b[0;31mKeyboardInterrupt\u001b[0m: "
     ]
    }
   ],
   "source": [
    "classifier = CitationClassifier(CITATION_MODEL_PATH)\n",
    "corpus = Corpus(markdown_path, \n",
    "                    extensions = ['mmd'])\n",
    "\n",
    "with open(FOUNDATION_MODELS_PATH, 'r') as f:\n",
    "    foundational_models_json = json.load(f)\n",
    "    keys_, titles_, ids_ = list(zip(*[(key, data['title'].replace('\\\\infty', '∞'), data['paperId']) for key, data in foundational_models_json.items()]))\n",
    "    keys_, titles_, ids_ = list(keys_), list(titles_), list(ids_)\n",
    "\n",
    "foundation_model_filter = [id in urop_foundation_models for id in ids_]\n",
    "keys, titles = np.array(keys_)[foundation_model_filter].tolist(), np.array(titles_)[foundation_model_filter].tolist()\n",
    "\n",
    "corpus.findAllPaperRefsAllTitles(titles = titles, keys = keys, classifier = classifier)\n",
    "\n",
    "textualRefs = corpus.getAllTextualReferences(as_dict=True)"
   ]
  },
  {
   "cell_type": "markdown",
   "metadata": {},
   "source": [
    "# Generate Dataframe"
   ]
  },
  {
   "cell_type": "code",
   "execution_count": null,
   "metadata": {},
   "outputs": [
    {
     "name": "stdout",
     "output_type": "stream",
     "text": [
      "Model dataset found\n"
     ]
    },
    {
     "data": {
      "text/html": [
       "<div>\n",
       "<style scoped>\n",
       "    .dataframe tbody tr th:only-of-type {\n",
       "        vertical-align: middle;\n",
       "    }\n",
       "\n",
       "    .dataframe tbody tr th {\n",
       "        vertical-align: top;\n",
       "    }\n",
       "\n",
       "    .dataframe thead th {\n",
       "        text-align: right;\n",
       "    }\n",
       "</style>\n",
       "<table border=\"1\" class=\"dataframe\">\n",
       "  <thead>\n",
       "    <tr style=\"text-align: right;\">\n",
       "      <th></th>\n",
       "      <th>classification</th>\n",
       "      <th>paperId</th>\n",
       "      <th>modelId</th>\n",
       "    </tr>\n",
       "  </thead>\n",
       "  <tbody>\n",
       "    <tr>\n",
       "      <th>0</th>\n",
       "      <td>background</td>\n",
       "      <td>dabe1965c03238e0c5f1718eeb4c2a834efafaba</td>\n",
       "      <td>b3848d32f7294ec708627897833c4097eb4d8778</td>\n",
       "    </tr>\n",
       "    <tr>\n",
       "      <th>1</th>\n",
       "      <td>background</td>\n",
       "      <td>dabe1965c03238e0c5f1718eeb4c2a834efafaba</td>\n",
       "      <td>b3848d32f7294ec708627897833c4097eb4d8778</td>\n",
       "    </tr>\n",
       "    <tr>\n",
       "      <th>2</th>\n",
       "      <td>uses</td>\n",
       "      <td>486b699576b4219168c9be0841556eaabc620b1a</td>\n",
       "      <td>1518039b5001f1836565215eb047526b3ac7f462</td>\n",
       "    </tr>\n",
       "    <tr>\n",
       "      <th>3</th>\n",
       "      <td>uses</td>\n",
       "      <td>486b699576b4219168c9be0841556eaabc620b1a</td>\n",
       "      <td>9405cc0d6169988371b2755e573cc28650d14dfe</td>\n",
       "    </tr>\n",
       "    <tr>\n",
       "      <th>4</th>\n",
       "      <td>uses</td>\n",
       "      <td>486b699576b4219168c9be0841556eaabc620b1a</td>\n",
       "      <td>395de0bd3837fdf4b4b5e5f04835bcc69c279481</td>\n",
       "    </tr>\n",
       "    <tr>\n",
       "      <th>...</th>\n",
       "      <td>...</td>\n",
       "      <td>...</td>\n",
       "      <td>...</td>\n",
       "    </tr>\n",
       "    <tr>\n",
       "      <th>2042</th>\n",
       "      <td>background</td>\n",
       "      <td>5fc1a1f79ea4d1a1c6e8da1a40ae08022a6d7308</td>\n",
       "      <td>c2f91f35df893714418cc29096083dce0b441229</td>\n",
       "    </tr>\n",
       "    <tr>\n",
       "      <th>2043</th>\n",
       "      <td>background</td>\n",
       "      <td>5fc1a1f79ea4d1a1c6e8da1a40ae08022a6d7308</td>\n",
       "      <td>c2f91f35df893714418cc29096083dce0b441229</td>\n",
       "    </tr>\n",
       "    <tr>\n",
       "      <th>2044</th>\n",
       "      <td>uses</td>\n",
       "      <td>8022d479aac0efead15dcf7036aac8845c99d51b</td>\n",
       "      <td>54020e5fe48ebb250f27d744e20a63cac2988a84</td>\n",
       "    </tr>\n",
       "    <tr>\n",
       "      <th>2045</th>\n",
       "      <td>uses</td>\n",
       "      <td>8022d479aac0efead15dcf7036aac8845c99d51b</td>\n",
       "      <td>54020e5fe48ebb250f27d744e20a63cac2988a84</td>\n",
       "    </tr>\n",
       "    <tr>\n",
       "      <th>2046</th>\n",
       "      <td>background</td>\n",
       "      <td>169a674654f1634ded0fd5527dcb6630c8e261de</td>\n",
       "      <td>cf6c64b87459a3164ad54128fa085328c401c09f</td>\n",
       "    </tr>\n",
       "  </tbody>\n",
       "</table>\n",
       "<p>2047 rows × 3 columns</p>\n",
       "</div>"
      ],
      "text/plain": [
       "     classification                                   paperId  \\\n",
       "0        background  dabe1965c03238e0c5f1718eeb4c2a834efafaba   \n",
       "1        background  dabe1965c03238e0c5f1718eeb4c2a834efafaba   \n",
       "2              uses  486b699576b4219168c9be0841556eaabc620b1a   \n",
       "3              uses  486b699576b4219168c9be0841556eaabc620b1a   \n",
       "4              uses  486b699576b4219168c9be0841556eaabc620b1a   \n",
       "...             ...                                       ...   \n",
       "2042     background  5fc1a1f79ea4d1a1c6e8da1a40ae08022a6d7308   \n",
       "2043     background  5fc1a1f79ea4d1a1c6e8da1a40ae08022a6d7308   \n",
       "2044           uses  8022d479aac0efead15dcf7036aac8845c99d51b   \n",
       "2045           uses  8022d479aac0efead15dcf7036aac8845c99d51b   \n",
       "2046     background  169a674654f1634ded0fd5527dcb6630c8e261de   \n",
       "\n",
       "                                       modelId  \n",
       "0     b3848d32f7294ec708627897833c4097eb4d8778  \n",
       "1     b3848d32f7294ec708627897833c4097eb4d8778  \n",
       "2     1518039b5001f1836565215eb047526b3ac7f462  \n",
       "3     9405cc0d6169988371b2755e573cc28650d14dfe  \n",
       "4     395de0bd3837fdf4b4b5e5f04835bcc69c279481  \n",
       "...                                        ...  \n",
       "2042  c2f91f35df893714418cc29096083dce0b441229  \n",
       "2043  c2f91f35df893714418cc29096083dce0b441229  \n",
       "2044  54020e5fe48ebb250f27d744e20a63cac2988a84  \n",
       "2045  54020e5fe48ebb250f27d744e20a63cac2988a84  \n",
       "2046  cf6c64b87459a3164ad54128fa085328c401c09f  \n",
       "\n",
       "[2047 rows x 3 columns]"
      ]
     },
     "execution_count": 4,
     "metadata": {},
     "output_type": "execute_result"
    }
   ],
   "source": [
    "model_df = pd.DataFrame(textualRefs)\n",
    "model_df['paperId'] = model_df['paperId'].apply(lambda s: s.replace('.mmd',''))\n",
    "model_df['modelId'] = model_df['FM_key'].apply(lambda s: ids_[keys_.index(s)])\n",
    "\n",
    "order_class_values = ['extends', 'uses', 'differences', 'similarities', 'future_work', 'motivation', 'background', 'usetobackground']\n",
    "#order_class_values = ['method', 'result', 'background', 'NONE']\n",
    "model_df['classification_order'] = model_df['classification'].apply(order_class_values.index)\n",
    "\n",
    "model_df = model_df[model_df['classification'] != 'NONE']\n",
    "\n",
    "print(f\"Model dataset found\")\n",
    "model_df[['classification', 'paperId', 'modelId']]\n"
   ]
  },
  {
   "cell_type": "markdown",
   "metadata": {},
   "source": [
    "# Take best classification amongst all sentences"
   ]
  },
  {
   "cell_type": "code",
   "execution_count": null,
   "metadata": {},
   "outputs": [],
   "source": [
    "urop_df['classification_ranking'] = urop_df.groupby(['modelId', 'paperId'])['classification_order'].rank(method='min')\n",
    "model_df['classification_ranking'] = model_df.groupby(['modelId', 'paperId'])['classification_order'].rank(method='min')\n",
    "\n",
    "relevant_columns = ['classification', 'paperId', 'modelId']\n",
    "urop_classification_counts = (urop_df[urop_df['classification_ranking'] == 1])[relevant_columns].reset_index()\n",
    "model_classification_counts = (model_df[model_df['classification_ranking'] == 1])[relevant_columns + ['labels']].reset_index()"
   ]
  },
  {
   "cell_type": "markdown",
   "metadata": {},
   "source": [
    "# Join dataframes"
   ]
  },
  {
   "cell_type": "code",
   "execution_count": null,
   "metadata": {},
   "outputs": [
    {
     "name": "stdout",
     "output_type": "stream",
     "text": [
      "Printing out rows not predicted as background by found in background section.\n"
     ]
    },
    {
     "data": {
      "text/html": [
       "<div>\n",
       "<style scoped>\n",
       "    .dataframe tbody tr th:only-of-type {\n",
       "        vertical-align: middle;\n",
       "    }\n",
       "\n",
       "    .dataframe tbody tr th {\n",
       "        vertical-align: top;\n",
       "    }\n",
       "\n",
       "    .dataframe thead th {\n",
       "        text-align: right;\n",
       "    }\n",
       "</style>\n",
       "<table border=\"1\" class=\"dataframe\">\n",
       "  <thead>\n",
       "    <tr style=\"text-align: right;\">\n",
       "      <th></th>\n",
       "      <th>index_true</th>\n",
       "      <th>classification_true</th>\n",
       "      <th>paperId</th>\n",
       "      <th>modelId</th>\n",
       "      <th>index_pred</th>\n",
       "      <th>classification_pred</th>\n",
       "      <th>labels</th>\n",
       "    </tr>\n",
       "  </thead>\n",
       "  <tbody>\n",
       "    <tr>\n",
       "      <th>80</th>\n",
       "      <td>143</td>\n",
       "      <td>motivation</td>\n",
       "      <td>f7bdfb229fc58c696459ea09c3792b80005644f2</td>\n",
       "      <td>c8cb691eae3a2e79adf07548d348ab58e90ee2ba</td>\n",
       "      <td>743</td>\n",
       "      <td>usetobackground</td>\n",
       "      <td>{background}</td>\n",
       "    </tr>\n",
       "    <tr>\n",
       "      <th>309</th>\n",
       "      <td>526</td>\n",
       "      <td>background</td>\n",
       "      <td>1c768b75c7c31428b57f627a5b68f663b391ac74</td>\n",
       "      <td>fa9decd1395cc2f39e9921f870ebc8a8ec2bd08d</td>\n",
       "      <td>1788</td>\n",
       "      <td>differences</td>\n",
       "      <td>{background}</td>\n",
       "    </tr>\n",
       "  </tbody>\n",
       "</table>\n",
       "</div>"
      ],
      "text/plain": [
       "     index_true classification_true                                   paperId  \\\n",
       "80          143          motivation  f7bdfb229fc58c696459ea09c3792b80005644f2   \n",
       "309         526          background  1c768b75c7c31428b57f627a5b68f663b391ac74   \n",
       "\n",
       "                                      modelId  index_pred classification_pred  \\\n",
       "80   c8cb691eae3a2e79adf07548d348ab58e90ee2ba         743     usetobackground   \n",
       "309  fa9decd1395cc2f39e9921f870ebc8a8ec2bd08d        1788         differences   \n",
       "\n",
       "           labels  \n",
       "80   {background}  \n",
       "309  {background}  "
      ]
     },
     "execution_count": 10,
     "metadata": {},
     "output_type": "execute_result"
    }
   ],
   "source": [
    "all_classifications = urop_classification_counts.merge(model_classification_counts, on = ['modelId', 'paperId'], how='inner', suffixes=('_true','_pred'))\n",
    "\n",
    "rows_of_interest = all_classifications[all_classifications['classification_pred'].apply(lambda s: s not in ['background', 'motivation']) &\n",
    "                                 all_classifications['labels'].apply(lambda s: 'background' in s)]\n",
    "\n",
    "print(f\"Printing out rows not predicted as background by found in background section.\")\n",
    "rows_of_interest\n"
   ]
  },
  {
   "cell_type": "code",
   "execution_count": null,
   "metadata": {},
   "outputs": [
    {
     "data": {
      "image/png": "[encoded data removed]",
      "text/plain": [
       "<Figure size 800x600 with 2 Axes>"
      ]
     },
     "metadata": {},
     "output_type": "display_data"
    }
   ],
   "source": [
    "true_labels = all_classifications['classification_true'].to_list()\n",
    "predicted_labels = all_classifications['classification_pred'].to_list()\n",
    "\n",
    "mapping = lambda s: {\n",
    "            'differences': 'result',\n",
    "            'similarities': 'result',\n",
    "            'motivation': 'background',\n",
    "            'extends':'method',\n",
    "            'uses': 'method',\n",
    "            'usetobackground': 'method',\n",
    "            'future_work':'background',\n",
    "            'future work':'background',\n",
    "            'background': 'background'}.get(s) or s\n",
    "\n",
    "\n",
    "true_labels = list(map(mapping, true_labels))\n",
    "predicted_labels = list(map(mapping, predicted_labels))\n",
    "\n",
    "\n",
    "mask = (np.array(true_labels) == 'results') | (np.array(predicted_labels) == 'results')\n",
    "true_labels = list(np.array(true_labels)[~mask])\n",
    "predicted_labels = list(np.array(predicted_labels)[~mask])\n",
    "\n",
    "\n",
    "cm = confusion_matrix(true_labels, predicted_labels, normalize = 'true').round(2)\n",
    "perm = list(range(len(cm)))\n",
    "\n",
    "\n",
    "cm = cm[perm][:, perm]\n",
    "ticks = np.unique(predicted_labels + true_labels)[perm]\n",
    "\n",
    "# Plot confusion matrix\n",
    "plt.figure(figsize=(8, 6))\n",
    "sns.set(font_scale=1.4)  # Adjust font size\n",
    "sns.heatmap(cm, annot=True, fmt='g', cmap='Reds', xticklabels=ticks, yticklabels=ticks)\n",
    "plt.xlabel('Predicted labels')\n",
    "plt.ylabel('True labels')\n",
    "\n",
    "title = '' #input()\n",
    "plt.title(title)\n",
    "plt.show()"
   ]
  },
  {
   "cell_type": "markdown",
   "metadata": {},
   "source": [
    "# Check Markdown Counts"
   ]
  },
  {
   "cell_type": "code",
   "execution_count": null,
   "metadata": {},
   "outputs": [
    {
     "ename": "NameError",
     "evalue": "name 'pd' is not defined",
     "output_type": "error",
     "traceback": [
      "\u001b[0;31m---------------------------------------------------------------------------\u001b[0m",
      "\u001b[0;31mNameError\u001b[0m                                 Traceback (most recent call last)",
      "Cell \u001b[0;32mIn[1], line 6\u001b[0m\n\u001b[1;32m      3\u001b[0m csv_path \u001b[38;5;241m=\u001b[39m \u001b[38;5;124m'\u001b[39m\u001b[38;5;124m/Users/Alex/Library/CloudStorage/GoogleDrive-alexjfogelson@gmail.com/My Drive/FutureTech/workspace/urop_task2_markdown/task2_with_paperIds.csv\u001b[39m\u001b[38;5;124m'\u001b[39m\n\u001b[1;32m      4\u001b[0m markdown_path \u001b[38;5;241m=\u001b[39m \u001b[38;5;124m'\u001b[39m\u001b[38;5;124m/Users/Alex/Library/CloudStorage/GoogleDrive-alexjfogelson@gmail.com/My Drive/FutureTech/workspace/true_urop_task2_markdown/\u001b[39m\u001b[38;5;124m'\u001b[39m\n\u001b[0;32m----> 6\u001b[0m urop \u001b[38;5;241m=\u001b[39m \u001b[43mpd\u001b[49m\u001b[38;5;241m.\u001b[39mread_csv(csv_path)\n\u001b[1;32m      8\u001b[0m plt\u001b[38;5;241m.\u001b[39mhist(urop[\u001b[38;5;124m'\u001b[39m\u001b[38;5;124mclassification\u001b[39m\u001b[38;5;124m'\u001b[39m])\n\u001b[1;32m      9\u001b[0m plt\u001b[38;5;241m.\u001b[39mshow()\n",
      "\u001b[0;31mNameError\u001b[0m: name 'pd' is not defined"
     ]
    }
   ],
   "source": [
    "from os import listdir\n",
    "\n",
    "csv_path = '/Users/Alex/Library/CloudStorage/GoogleDrive-alexjfogelson@gmail.com/My Drive/FutureTech/workspace/urop_task2_markdown/task2_with_paperIds.csv'\n",
    "markdown_path = '/Users/Alex/Library/CloudStorage/GoogleDrive-alexjfogelson@gmail.com/My Drive/FutureTech/workspace/true_urop_task2_markdown/'\n",
    "\n",
    "urop = pd.read_csv(csv_path)\n",
    "\n",
    "plt.hist(urop['classification'])\n",
    "plt.show()\n",
    "\n",
    "\n",
    "urop_papers = set(urop['citation.paperId'].to_list())\n",
    "folder_papers = set(map(lambda s: s.replace('.mmd',''), listdir(markdown_path)))\n",
    "\n",
    "print(len(urop_papers.intersection(folder_papers)))\n",
    "print(len(urop_papers))\n",
    "print(len(folder_papers))\n",
    "\n",
    "assert(len(folder_papers) == len(urop_papers.intersection(folder_papers)))"
   ]
  },
  {
   "cell_type": "code",
   "execution_count": null,
   "metadata": {},
   "outputs": [
    {
     "name": "stdout",
     "output_type": "stream",
     "text": [
      "0.5970588235294118\n"
     ]
    }
   ],
   "source": [
    "counter = 0\n",
    "for paper in corpus.papers:\n",
    "    if (paper.getSectionsByLabel('background')):\n",
    "        counter += 1\n",
    "\n",
    "print(counter / len(corpus.papers))"
   ]
  },
  {
   "cell_type": "code",
   "execution_count": null,
   "metadata": {},
   "outputs": [],
   "source": []
  }
 ],
 "metadata": {
  "kernelspec": {
   "display_name": ".venv",
   "language": "python",
   "name": "python3"
  },
  "language_info": {
   "codemirror_mode": {
    "name": "ipython",
    "version": 3
   },
   "file_extension": ".py",
   "mimetype": "text/x-python",
   "name": "python",
   "nbconvert_exporter": "python",
   "pygments_lexer": "ipython3",
   "version": "3.12.3"
  }
 },
 "nbformat": 4,
 "nbformat_minor": 2
}
