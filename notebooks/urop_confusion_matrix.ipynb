{
 "cells": [
  {
   "cell_type": "markdown",
   "metadata": {},
   "source": [
    "# Imports"
   ]
  },
  {
   "cell_type": "code",
   "execution_count": 1,
   "metadata": {},
   "outputs": [],
   "source": [
    "import pandas as pd\n",
    "from os.path import join\n",
    "from documents.Corpus import Corpus\n",
    "from citations.CitationClassifier import CitationClassifier\n",
    "from config import *\n",
    "import numpy as np\n",
    "import json\n",
    "from sklearn.metrics import confusion_matrix\n",
    "import seaborn as sns\n",
    "import matplotlib.pyplot as plt\n",
    "\n",
    "\n",
    "csv_path = '/Users/Alex/Library/CloudStorage/GoogleDrive-alexjfogelson@gmail.com/My Drive/FutureTech/workspace/urop_task2_markdown/task2_with_paperIds.csv'\n",
    "markdown_path = '/Users/Alex/Library/CloudStorage/GoogleDrive-alexjfogelson@gmail.com/My Drive/FutureTech/workspace/true_urop_task2_markdown/'\n"
   ]
  },
  {
   "cell_type": "markdown",
   "metadata": {},
   "source": [
    "# Retrieve UROP dataframe"
   ]
  },
  {
   "cell_type": "code",
   "execution_count": 2,
   "metadata": {},
   "outputs": [
    {
     "name": "stdout",
     "output_type": "stream",
     "text": [
      "Found 703 total rows in UROP CSV dataset.\n",
      "Found 696 valid rows in dataset. Dropped 7 rows for invalid classification.\n",
      "Found 328 distinct foundation models referenced in the dataset.\n"
     ]
    },
    {
     "data": {
      "text/html": [
       "<div>\n",
       "<style scoped>\n",
       "    .dataframe tbody tr th:only-of-type {\n",
       "        vertical-align: middle;\n",
       "    }\n",
       "\n",
       "    .dataframe tbody tr th {\n",
       "        vertical-align: top;\n",
       "    }\n",
       "\n",
       "    .dataframe thead th {\n",
       "        text-align: right;\n",
       "    }\n",
       "</style>\n",
       "<table border=\"1\" class=\"dataframe\">\n",
       "  <thead>\n",
       "    <tr style=\"text-align: right;\">\n",
       "      <th></th>\n",
       "      <th>classification</th>\n",
       "      <th>modelId</th>\n",
       "      <th>paperId</th>\n",
       "    </tr>\n",
       "  </thead>\n",
       "  <tbody>\n",
       "    <tr>\n",
       "      <th>0</th>\n",
       "      <td>uses</td>\n",
       "      <td>3647d6d0f151dc05626449ee09cc7bce55be497e</td>\n",
       "      <td>e83012a4c4041a170d7dbe4fe48113c32f519701</td>\n",
       "    </tr>\n",
       "    <tr>\n",
       "      <th>1</th>\n",
       "      <td>background</td>\n",
       "      <td>ebb85974e06c4879b451fdfcb4f472a09471935b</td>\n",
       "      <td>f2a29214d169dd032fb13be44e9b11e74710472f</td>\n",
       "    </tr>\n",
       "    <tr>\n",
       "      <th>2</th>\n",
       "      <td>background</td>\n",
       "      <td>24badbe57bbe956ea38afd4b02a214da1bc57a6c</td>\n",
       "      <td>6c821635f65026c782ac37eceff97949a9f231de</td>\n",
       "    </tr>\n",
       "    <tr>\n",
       "      <th>3</th>\n",
       "      <td>background</td>\n",
       "      <td>a538b05ebb01a40323997629e171c91aa28b8e2f</td>\n",
       "      <td>d31b0f55bbe44caf586e3b0e8424129ea8f068cd</td>\n",
       "    </tr>\n",
       "    <tr>\n",
       "      <th>4</th>\n",
       "      <td>background</td>\n",
       "      <td>319b84be7a843250bc81d7086f79a4126d550277</td>\n",
       "      <td>a26623d52d24e03044a158cddad931ec5ab7304c</td>\n",
       "    </tr>\n",
       "    <tr>\n",
       "      <th>...</th>\n",
       "      <td>...</td>\n",
       "      <td>...</td>\n",
       "      <td>...</td>\n",
       "    </tr>\n",
       "    <tr>\n",
       "      <th>698</th>\n",
       "      <td>background</td>\n",
       "      <td>0060745e006c5f14ec326904119dca19c6545e51</td>\n",
       "      <td>cd241c2a4228bc7f4d5d0fc2abc941f73d8558ac</td>\n",
       "    </tr>\n",
       "    <tr>\n",
       "      <th>699</th>\n",
       "      <td>background</td>\n",
       "      <td>0b544dfe355a5070b60986319a3f51fb45d1348e</td>\n",
       "      <td>d5af97ead51b1c937d4008ec814798ee66116225</td>\n",
       "    </tr>\n",
       "    <tr>\n",
       "      <th>700</th>\n",
       "      <td>uses</td>\n",
       "      <td>7698498dcb14db063154f4c955fc041114d1960d</td>\n",
       "      <td>81e20d4641b6261c23184f98fd1585d64c85eb40</td>\n",
       "    </tr>\n",
       "    <tr>\n",
       "      <th>701</th>\n",
       "      <td>background</td>\n",
       "      <td>62516303058a1322450b58e4cd778ab873b5e531</td>\n",
       "      <td>28dca13befd068dfa1cf498bba45020cf22ec16f</td>\n",
       "    </tr>\n",
       "    <tr>\n",
       "      <th>702</th>\n",
       "      <td>background</td>\n",
       "      <td>ea3d7de6c0880e14455b9acb28f1bc1234321456</td>\n",
       "      <td>6fbfe167c46fd827e06aff39147b064154591a39</td>\n",
       "    </tr>\n",
       "  </tbody>\n",
       "</table>\n",
       "<p>696 rows × 3 columns</p>\n",
       "</div>"
      ],
      "text/plain": [
       "    classification                                   modelId  \\\n",
       "0             uses  3647d6d0f151dc05626449ee09cc7bce55be497e   \n",
       "1       background  ebb85974e06c4879b451fdfcb4f472a09471935b   \n",
       "2       background  24badbe57bbe956ea38afd4b02a214da1bc57a6c   \n",
       "3       background  a538b05ebb01a40323997629e171c91aa28b8e2f   \n",
       "4       background  319b84be7a843250bc81d7086f79a4126d550277   \n",
       "..             ...                                       ...   \n",
       "698     background  0060745e006c5f14ec326904119dca19c6545e51   \n",
       "699     background  0b544dfe355a5070b60986319a3f51fb45d1348e   \n",
       "700           uses  7698498dcb14db063154f4c955fc041114d1960d   \n",
       "701     background  62516303058a1322450b58e4cd778ab873b5e531   \n",
       "702     background  ea3d7de6c0880e14455b9acb28f1bc1234321456   \n",
       "\n",
       "                                      paperId  \n",
       "0    e83012a4c4041a170d7dbe4fe48113c32f519701  \n",
       "1    f2a29214d169dd032fb13be44e9b11e74710472f  \n",
       "2    6c821635f65026c782ac37eceff97949a9f231de  \n",
       "3    d31b0f55bbe44caf586e3b0e8424129ea8f068cd  \n",
       "4    a26623d52d24e03044a158cddad931ec5ab7304c  \n",
       "..                                        ...  \n",
       "698  cd241c2a4228bc7f4d5d0fc2abc941f73d8558ac  \n",
       "699  d5af97ead51b1c937d4008ec814798ee66116225  \n",
       "700  81e20d4641b6261c23184f98fd1585d64c85eb40  \n",
       "701  28dca13befd068dfa1cf498bba45020cf22ec16f  \n",
       "702  6fbfe167c46fd827e06aff39147b064154591a39  \n",
       "\n",
       "[696 rows x 3 columns]"
      ]
     },
     "execution_count": 2,
     "metadata": {},
     "output_type": "execute_result"
    }
   ],
   "source": [
    "urop_og_df = pd.read_csv(csv_path)\n",
    "mapping = {'citation.intent1': 'classification', 'model.paperId': 'modelId', 'citation.paperId':'paperId'}\n",
    "urop_og_df = urop_og_df.rename(columns = mapping)[mapping.values()]\n",
    "urop_og_df['classification'] = urop_og_df['classification'].apply(str.lower)\n",
    "print(f\"Found {len(urop_og_df)} total rows in UROP CSV dataset.\")\n",
    "\n",
    "valid_categories = {'background', 'differences', 'extends','future work', 'motivation', 'similarities', 'uses'}\n",
    "urop_df = urop_og_df[urop_og_df['classification'].apply(lambda s: s in valid_categories)].copy() \n",
    "print(f\"Found {len(urop_df)} valid rows in dataset. Dropped {len(urop_og_df) - len(urop_df)} rows for invalid classification.\")\n",
    "\n",
    "order_class_values = ['extends', 'uses', 'differences', 'similarities', 'future work', 'motivation', 'background']\n",
    "urop_df['classification_order'] = urop_df['classification'].apply(order_class_values.index)\n",
    "\n",
    "urop_foundation_models = set(urop_df['modelId'].to_list())\n",
    "print(f\"Found {len(urop_foundation_models)} distinct foundation models referenced in the dataset.\")\n",
    "\n",
    "urop_df[['classification', 'modelId', 'paperId']]"
   ]
  },
  {
   "cell_type": "markdown",
   "metadata": {},
   "source": [
    "# Generate and Analyze Corpus"
   ]
  },
  {
   "cell_type": "code",
   "execution_count": 3,
   "metadata": {},
   "outputs": [
    {
     "name": "stderr",
     "output_type": "stream",
     "text": [
      "100%|██████████| 365/365 [00:03<00:00, 105.67it/s]\n",
      "100%|██████████| 350/350 [00:59<00:00,  5.87it/s]\n"
     ]
    }
   ],
   "source": [
    "classifier = CitationClassifier(CITATION_MODEL_PATH)\n",
    "corpus = Corpus(markdown_path, \n",
    "                    extensions = ['mmd'])\n",
    "\n",
    "with open(FOUNDATION_MODELS_PATH, 'r') as f:\n",
    "    foundational_models_json = json.load(f)\n",
    "    keys_, titles_, ids_ = list(zip(*[(key, data['title'].replace('\\\\infty', '∞'), data['paperId']) for key, data in foundational_models_json.items()]))\n",
    "    keys_, titles_, ids_ = list(keys_), list(titles_), list(ids_)\n",
    "\n",
    "foundation_model_filter = [id in urop_foundation_models for id in ids_]\n",
    "keys, titles = np.array(keys_)[foundation_model_filter].tolist(), np.array(titles_)[foundation_model_filter].tolist()\n",
    "\n",
    "corpus.findAllPaperRefsAllTitles(titles = titles, keys = keys, classifier = classifier)\n",
    "\n",
    "textualRefs = corpus.getAllTextualReferences(as_dict=True)"
   ]
  },
  {
   "cell_type": "markdown",
   "metadata": {},
   "source": [
    "# Generate Dataframe"
   ]
  },
  {
   "cell_type": "code",
   "execution_count": 4,
   "metadata": {},
   "outputs": [
    {
     "name": "stdout",
     "output_type": "stream",
     "text": [
      "Model dataset found\n"
     ]
    },
    {
     "data": {
      "text/html": [
       "<div>\n",
       "<style scoped>\n",
       "    .dataframe tbody tr th:only-of-type {\n",
       "        vertical-align: middle;\n",
       "    }\n",
       "\n",
       "    .dataframe tbody tr th {\n",
       "        vertical-align: top;\n",
       "    }\n",
       "\n",
       "    .dataframe thead th {\n",
       "        text-align: right;\n",
       "    }\n",
       "</style>\n",
       "<table border=\"1\" class=\"dataframe\">\n",
       "  <thead>\n",
       "    <tr style=\"text-align: right;\">\n",
       "      <th></th>\n",
       "      <th>classification</th>\n",
       "      <th>paperId</th>\n",
       "      <th>modelId</th>\n",
       "    </tr>\n",
       "  </thead>\n",
       "  <tbody>\n",
       "    <tr>\n",
       "      <th>0</th>\n",
       "      <td>background</td>\n",
       "      <td>dabe1965c03238e0c5f1718eeb4c2a834efafaba</td>\n",
       "      <td>b3848d32f7294ec708627897833c4097eb4d8778</td>\n",
       "    </tr>\n",
       "    <tr>\n",
       "      <th>1</th>\n",
       "      <td>background</td>\n",
       "      <td>dabe1965c03238e0c5f1718eeb4c2a834efafaba</td>\n",
       "      <td>b3848d32f7294ec708627897833c4097eb4d8778</td>\n",
       "    </tr>\n",
       "    <tr>\n",
       "      <th>2</th>\n",
       "      <td>uses</td>\n",
       "      <td>486b699576b4219168c9be0841556eaabc620b1a</td>\n",
       "      <td>1518039b5001f1836565215eb047526b3ac7f462</td>\n",
       "    </tr>\n",
       "    <tr>\n",
       "      <th>3</th>\n",
       "      <td>uses</td>\n",
       "      <td>486b699576b4219168c9be0841556eaabc620b1a</td>\n",
       "      <td>9405cc0d6169988371b2755e573cc28650d14dfe</td>\n",
       "    </tr>\n",
       "    <tr>\n",
       "      <th>4</th>\n",
       "      <td>uses</td>\n",
       "      <td>486b699576b4219168c9be0841556eaabc620b1a</td>\n",
       "      <td>395de0bd3837fdf4b4b5e5f04835bcc69c279481</td>\n",
       "    </tr>\n",
       "    <tr>\n",
       "      <th>...</th>\n",
       "      <td>...</td>\n",
       "      <td>...</td>\n",
       "      <td>...</td>\n",
       "    </tr>\n",
       "    <tr>\n",
       "      <th>1931</th>\n",
       "      <td>background</td>\n",
       "      <td>5fc1a1f79ea4d1a1c6e8da1a40ae08022a6d7308</td>\n",
       "      <td>c2f91f35df893714418cc29096083dce0b441229</td>\n",
       "    </tr>\n",
       "    <tr>\n",
       "      <th>1932</th>\n",
       "      <td>background</td>\n",
       "      <td>5fc1a1f79ea4d1a1c6e8da1a40ae08022a6d7308</td>\n",
       "      <td>c2f91f35df893714418cc29096083dce0b441229</td>\n",
       "    </tr>\n",
       "    <tr>\n",
       "      <th>1933</th>\n",
       "      <td>uses</td>\n",
       "      <td>8022d479aac0efead15dcf7036aac8845c99d51b</td>\n",
       "      <td>54020e5fe48ebb250f27d744e20a63cac2988a84</td>\n",
       "    </tr>\n",
       "    <tr>\n",
       "      <th>1934</th>\n",
       "      <td>uses</td>\n",
       "      <td>8022d479aac0efead15dcf7036aac8845c99d51b</td>\n",
       "      <td>54020e5fe48ebb250f27d744e20a63cac2988a84</td>\n",
       "    </tr>\n",
       "    <tr>\n",
       "      <th>1935</th>\n",
       "      <td>background</td>\n",
       "      <td>169a674654f1634ded0fd5527dcb6630c8e261de</td>\n",
       "      <td>cf6c64b87459a3164ad54128fa085328c401c09f</td>\n",
       "    </tr>\n",
       "  </tbody>\n",
       "</table>\n",
       "<p>1936 rows × 3 columns</p>\n",
       "</div>"
      ],
      "text/plain": [
       "     classification                                   paperId  \\\n",
       "0        background  dabe1965c03238e0c5f1718eeb4c2a834efafaba   \n",
       "1        background  dabe1965c03238e0c5f1718eeb4c2a834efafaba   \n",
       "2              uses  486b699576b4219168c9be0841556eaabc620b1a   \n",
       "3              uses  486b699576b4219168c9be0841556eaabc620b1a   \n",
       "4              uses  486b699576b4219168c9be0841556eaabc620b1a   \n",
       "...             ...                                       ...   \n",
       "1931     background  5fc1a1f79ea4d1a1c6e8da1a40ae08022a6d7308   \n",
       "1932     background  5fc1a1f79ea4d1a1c6e8da1a40ae08022a6d7308   \n",
       "1933           uses  8022d479aac0efead15dcf7036aac8845c99d51b   \n",
       "1934           uses  8022d479aac0efead15dcf7036aac8845c99d51b   \n",
       "1935     background  169a674654f1634ded0fd5527dcb6630c8e261de   \n",
       "\n",
       "                                       modelId  \n",
       "0     b3848d32f7294ec708627897833c4097eb4d8778  \n",
       "1     b3848d32f7294ec708627897833c4097eb4d8778  \n",
       "2     1518039b5001f1836565215eb047526b3ac7f462  \n",
       "3     9405cc0d6169988371b2755e573cc28650d14dfe  \n",
       "4     395de0bd3837fdf4b4b5e5f04835bcc69c279481  \n",
       "...                                        ...  \n",
       "1931  c2f91f35df893714418cc29096083dce0b441229  \n",
       "1932  c2f91f35df893714418cc29096083dce0b441229  \n",
       "1933  54020e5fe48ebb250f27d744e20a63cac2988a84  \n",
       "1934  54020e5fe48ebb250f27d744e20a63cac2988a84  \n",
       "1935  cf6c64b87459a3164ad54128fa085328c401c09f  \n",
       "\n",
       "[1936 rows x 3 columns]"
      ]
     },
     "execution_count": 4,
     "metadata": {},
     "output_type": "execute_result"
    }
   ],
   "source": [
    "model_df = pd.DataFrame(textualRefs)\n",
    "model_df['paperId'] = model_df['paperId'].apply(lambda s: s.replace('.mmd',''))\n",
    "model_df['modelId'] = model_df['FM_key'].apply(lambda s: ids_[keys_.index(s)])\n",
    "\n",
    "order_class_values = ['extends', 'uses', 'differences', 'similarities', 'future_work', 'motivation', 'background', 'usetobackground']\n",
    "#order_class_values = ['method', 'result', 'background', 'NONE']\n",
    "model_df['classification_order'] = model_df['classification'].apply(order_class_values.index)\n",
    "\n",
    "model_df = model_df[model_df['classification'] != 'NONE']\n",
    "\n",
    "print(f\"Model dataset found\")\n",
    "model_df[['classification', 'paperId', 'modelId']]\n"
   ]
  },
  {
   "cell_type": "markdown",
   "metadata": {},
   "source": [
    "# Take best classification amongst all sentences"
   ]
  },
  {
   "cell_type": "code",
   "execution_count": 5,
   "metadata": {},
   "outputs": [],
   "source": [
    "urop_df['classification_ranking'] = urop_df.groupby(['modelId', 'paperId'])['classification_order'].rank(method='min')\n",
    "model_df['classification_ranking'] = model_df.groupby(['modelId', 'paperId'])['classification_order'].rank(method='min')\n",
    "\n",
    "relevant_columns = ['classification', 'paperId', 'modelId']\n",
    "urop_classification_counts = (urop_df[urop_df['classification_ranking'] == 1])[relevant_columns].reset_index()\n",
    "model_classification_counts = (model_df[model_df['classification_ranking'] == 1])[relevant_columns + ['labels']].reset_index()"
   ]
  },
  {
   "cell_type": "markdown",
   "metadata": {},
   "source": [
    "# Join dataframes"
   ]
  },
  {
   "cell_type": "code",
   "execution_count": 6,
   "metadata": {},
   "outputs": [
    {
     "name": "stdout",
     "output_type": "stream",
     "text": [
      "Printing out rows which we switched from use to background based on section labels.\n"
     ]
    },
    {
     "data": {
      "text/html": [
       "<div>\n",
       "<style scoped>\n",
       "    .dataframe tbody tr th:only-of-type {\n",
       "        vertical-align: middle;\n",
       "    }\n",
       "\n",
       "    .dataframe tbody tr th {\n",
       "        vertical-align: top;\n",
       "    }\n",
       "\n",
       "    .dataframe thead th {\n",
       "        text-align: right;\n",
       "    }\n",
       "</style>\n",
       "<table border=\"1\" class=\"dataframe\">\n",
       "  <thead>\n",
       "    <tr style=\"text-align: right;\">\n",
       "      <th></th>\n",
       "      <th>index_true</th>\n",
       "      <th>classification_true</th>\n",
       "      <th>paperId</th>\n",
       "      <th>modelId</th>\n",
       "      <th>index_pred</th>\n",
       "      <th>classification_pred</th>\n",
       "      <th>labels</th>\n",
       "    </tr>\n",
       "  </thead>\n",
       "  <tbody>\n",
       "  </tbody>\n",
       "</table>\n",
       "</div>"
      ],
      "text/plain": [
       "Empty DataFrame\n",
       "Columns: [index_true, classification_true, paperId, modelId, index_pred, classification_pred, labels]\n",
       "Index: []"
      ]
     },
     "execution_count": 6,
     "metadata": {},
     "output_type": "execute_result"
    }
   ],
   "source": [
    "all_classifications = urop_classification_counts.merge(model_classification_counts, on = ['modelId', 'paperId'], how='inner', suffixes=('_true','_pred'))\n",
    "\n",
    "usage_rows = all_classifications[all_classifications['classification_pred'].apply(lambda s: s in ['usetobackground'])]\n",
    "\n",
    "print(f\"Printing out rows which we switched from use to background based on section labels.\")\n",
    "usage_rows"
   ]
  },
  {
   "cell_type": "code",
   "execution_count": 7,
   "metadata": {},
   "outputs": [
    {
     "data": {
      "image/png": "[encoded data removed]",
      "text/plain": [
       "<Figure size 800x600 with 2 Axes>"
      ]
     },
     "metadata": {},
     "output_type": "display_data"
    }
   ],
   "source": [
    "true_labels = all_classifications['classification_true'].to_list()\n",
    "predicted_labels = all_classifications['classification_pred'].to_list()\n",
    "\n",
    "mapping = lambda s: {\n",
    "            'differences': 'result',\n",
    "            'similarities': 'result',\n",
    "            'motivation': 'background',\n",
    "            'extends':'method',\n",
    "            'uses': 'method',\n",
    "            'usetobackground': 'method',\n",
    "            'future_work':'background',\n",
    "            'future work':'background',\n",
    "            'background': 'background'}.get(s) or s\n",
    "\n",
    "\n",
    "true_labels = list(map(mapping, true_labels))\n",
    "predicted_labels = list(map(mapping, predicted_labels))\n",
    "\n",
    "\n",
    "mask = (np.array(true_labels) == 'results') | (np.array(predicted_labels) == 'results')\n",
    "true_labels = list(np.array(true_labels)[~mask])\n",
    "predicted_labels = list(np.array(predicted_labels)[~mask])\n",
    "\n",
    "\n",
    "cm = confusion_matrix(true_labels, predicted_labels, normalize = 'true').round(2)\n",
    "perm = list(range(len(cm)))\n",
    "\n",
    "\n",
    "cm = cm[perm][:, perm]\n",
    "ticks = np.unique(predicted_labels + true_labels)[perm]\n",
    "\n",
    "# Plot confusion matrix\n",
    "plt.figure(figsize=(8, 6))\n",
    "sns.set(font_scale=1.4)  # Adjust font size\n",
    "sns.heatmap(cm, annot=True, fmt='g', cmap='Reds', xticklabels=ticks, yticklabels=ticks)\n",
    "plt.xlabel('Predicted labels')\n",
    "plt.ylabel('True labels')\n",
    "\n",
    "title = '' #input()\n",
    "plt.title(title)\n",
    "plt.show()"
   ]
  },
  {
   "cell_type": "markdown",
   "metadata": {},
   "source": [
    "# Check Markdown Counts"
   ]
  },
  {
   "cell_type": "code",
   "execution_count": 8,
   "metadata": {},
   "outputs": [
    {
     "name": "stdout",
     "output_type": "stream",
     "text": [
      "365\n",
      "506\n",
      "365\n"
     ]
    }
   ],
   "source": [
    "from os import listdir\n",
    "\n",
    "csv_path = '/Users/Alex/Library/CloudStorage/GoogleDrive-alexjfogelson@gmail.com/My Drive/FutureTech/workspace/urop_task2_markdown/task2_with_paperIds.csv'\n",
    "markdown_path = '/Users/Alex/Library/CloudStorage/GoogleDrive-alexjfogelson@gmail.com/My Drive/FutureTech/workspace/true_urop_task2_markdown/'\n",
    "\n",
    "urop = pd.read_csv(csv_path)\n",
    "\n",
    "\n",
    "urop_papers = set(urop['citation.paperId'].to_list())\n",
    "folder_papers = set(map(lambda s: s.replace('.mmd',''), listdir(markdown_path)))\n",
    "\n",
    "print(len(urop_papers.intersection(folder_papers)))\n",
    "print(len(urop_papers))\n",
    "print(len(folder_papers))\n",
    "\n",
    "assert(len(folder_papers) == len(urop_papers.intersection(folder_papers)))"
   ]
  }
 ],
 "metadata": {
  "kernelspec": {
   "display_name": ".venv",
   "language": "python",
   "name": "python3"
  },
  "language_info": {
   "codemirror_mode": {
    "name": "ipython",
    "version": 3
   },
   "file_extension": ".py",
   "mimetype": "text/x-python",
   "name": "python",
   "nbconvert_exporter": "python",
   "pygments_lexer": "ipython3",
   "version": "3.12.3"
  }
 },
 "nbformat": 4,
 "nbformat_minor": 2
}
