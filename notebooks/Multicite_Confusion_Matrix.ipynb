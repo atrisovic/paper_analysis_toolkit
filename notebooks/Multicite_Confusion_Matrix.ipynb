{
  "cells": [
    {
      "cell_type": "code",
      "execution_count": 1,
      "metadata": {
        "id": "whhE-EraHEfw"
      },
      "outputs": [
        {
          "name": "stderr",
          "output_type": "stream",
          "text": [
            "/Users/Alex/Desktop/paper_analysis_toolkit/.venv/lib/python3.12/site-packages/tqdm/auto.py:21: TqdmWarning: IProgress not found. Please update jupyter and ipywidgets. See https://ipywidgets.readthedocs.io/en/stable/user_install.html\n",
            "  from .autonotebook import tqdm as notebook_tqdm\n"
          ]
        }
      ],
      "source": [
        "from transformers import AutoTokenizer, AutoModelForSequenceClassification, pipeline\n",
        "from torch import cuda, backends\n",
        "from typing import Tuple, List\n",
        "from tqdm import tqdm\n",
        "from sklearn.metrics import confusion_matrix\n",
        "import numpy as np\n",
        "import seaborn as sns\n",
        "import matplotlib.pyplot as plt\n",
        "import json\n"
      ]
    },
    {
      "cell_type": "code",
      "execution_count": 2,
      "metadata": {
        "id": "e3WP9pc-Gupe"
      },
      "outputs": [],
      "source": [
        "with open('../../multicite/data/classification_1_context/test.json', 'r') as f:\n",
        "    content = f.read()\n",
        "\n",
        "json_content = json.loads(content)"
      ]
    },
    {
      "cell_type": "code",
      "execution_count": 3,
      "metadata": {
        "id": "VEvOShFuHV_E"
      },
      "outputs": [],
      "source": [
        "class CitationClassifier:\n",
        "    def __init__(self, model_checkpoint):\n",
        "        tokenizer = AutoTokenizer.from_pretrained(model_checkpoint, model_max_length = 512)\n",
        "        model = AutoModelForSequenceClassification.from_pretrained(model_checkpoint)\n",
        "\n",
        "        device = 'mps' if backends.mps.is_available() else 'cuda' if cuda.is_available() else 'cpu'\n",
        "\n",
        "        self.classifier = pipeline('text-classification', model=model, tokenizer=tokenizer, device = device)\n",
        "\n",
        "        i = 2\n",
        "        with open(f'words/background_words{i}.txt', 'r') as f:\n",
        "            self.background_words = f.read().split(',')\n",
        "        with open(f'words/result_words{i}.txt', 'r') as f:\n",
        "            self.results_words = f.read().split(',')\n",
        "        with open(f'words/method_words{i}.txt', 'r') as f:\n",
        "            self.method_words = f.read().split(',')\n",
        "\n",
        "    def apply_classifier_model(self, text) -> Tuple[str, float]:\n",
        "        threshold = 0\n",
        "        results = self.classifier(text, truncation = True)\n",
        "\n",
        "        ordering = ['extends', 'uses', 'differences', 'similarities', 'future_work', 'motivation', 'background']\n",
        "\n",
        "        labels = [(result['label'], result['score']) for result in results if result['score'] >= threshold]\n",
        "\n",
        "        return next(iter(sorted(labels, key=lambda s: ordering.index(s[0]))), None)\n",
        "    \n",
        "    def score_from_counts(self, counts: List[int], labels = List[str]):\n",
        "        max_val = max(counts)\n",
        "        penult_val = 0 if len(counts) == 1 else sorted(counts)[1]\n",
        "        lead = max_val - penult_val\n",
        "        \n",
        "        score_mapping = {0: 0,\n",
        "                         1: .80,\n",
        "                         2: .98,\n",
        "                         3: 1}\n",
        "        score_mapping_fn = lambda i: score_mapping.get(min(i, 3))\n",
        "        \n",
        "        max_label = labels[np.argmax(counts)]\n",
        "        \n",
        "        return max_label, score_mapping_fn(lead)\n",
        "    \n",
        "\n",
        "    def get_heuristic_score(self, text):\n",
        "        if (isinstance(text, list)):\n",
        "            text = ' '.join(text)\n",
        "        text = text.lower()\n",
        "        background_count = np.array(list(map(lambda s: s in text, self.background_words))).sum()\n",
        "        results_count = np.array(list(map(lambda s: s in text, self.results_words))).sum()\n",
        "        method_count = np.array(list(map(lambda s: s in text, self.method_words))).sum()\n",
        "\n",
        "        value, score = self.score_from_counts([background_count, results_count, method_count],\n",
        "                                              ['background', 'result', 'method'])\n",
        "        \n",
        "\n",
        "        return value, score\n",
        "    \n",
        "    def get_classification(self, text):\n",
        "        heuristic_value, heuristic_score = self.get_heuristic_score(text)\n",
        "        classifier_value, classifier_score  = self.apply_classifier_model(text)\n",
        "        \n",
        "        if (classifier_score >= heuristic_score or True):\n",
        "            return classifier_value\n",
        "\n",
        "        return heuristic_value\n",
        "        \n",
        "\n",
        "classifier = CitationClassifier(\"allenai/multicite-multilabel-scibert\")"
      ]
    },
    {
      "cell_type": "code",
      "execution_count": 4,
      "metadata": {
        "colab": {
          "base_uri": "https://localhost:8080/",
          "height": 35
        },
        "id": "SZRbE5OeNDb9",
        "outputId": "d7e6bbb8-7932-4c0f-bf2a-c722d08ec1f4"
      },
      "outputs": [
        {
          "data": {
            "text/plain": [
              "'uses'"
            ]
          },
          "execution_count": 4,
          "metadata": {},
          "output_type": "execute_result"
        }
      ],
      "source": [
        "def get_highest_pref_item(s: str):\n",
        "    items = s.split(' ')\n",
        "    ordering = ['extends', 'uses', 'differences', 'similarities', 'future_work', 'motivation', 'background']\n",
        "\n",
        "    return next(iter(sorted(items, key=ordering.index)), None)\n",
        "\n",
        "get_highest_pref_item('differences uses background')"
      ]
    },
    {
      "cell_type": "code",
      "execution_count": 5,
      "metadata": {
        "colab": {
          "base_uri": "https://localhost:8080/"
        },
        "id": "AwQqPwoQHwh9",
        "outputId": "5e57eabe-491e-4c6a-9edc-2ceb0c06c6c3"
      },
      "outputs": [
        {
          "name": "stderr",
          "output_type": "stream",
          "text": [
            "100%|██████████| 3313/3313 [01:07<00:00, 49.00it/s]\n"
          ]
        }
      ],
      "source": [
        "for sentence in tqdm(json_content):\n",
        "    if (len(sentence['x']) > 0):\n",
        "      sentence['z'] = classifier.get_classification(sentence['x'])\n",
        "    else:\n",
        "      continue"
      ]
    },
    {
      "cell_type": "code",
      "execution_count": 6,
      "metadata": {
        "colab": {
          "base_uri": "https://localhost:8080/"
        },
        "id": "dn35dMUwJPe_",
        "outputId": "17f1f3be-1efe-4231-fb4a-e0097ff01a4e"
      },
      "outputs": [
        {
          "name": "stdout",
          "output_type": "stream",
          "text": [
            "Total json_content length: 3313\n",
            "Mapping input set: {'background', 'motivation', 'extends', 'similarities', 'future_work', 'uses', 'differences'}\n",
            "Mapping output set: {'result', 'background', 'method'}\n",
            "Finally result size: 3289\n",
            "Missing original sentence for 24\n"
          ]
        }
      ],
      "source": [
        "print(f\"Total json_content length: {len(json_content)}\")\n",
        "filtered_json_content = list(filter(lambda s: s.get('y') and s.get('z'), json_content))\n",
        "\n",
        "true_labels_proto = [sentence['y'] for sentence in filtered_json_content]\n",
        "\n",
        "\n",
        "true_labels = np.array([get_highest_pref_item(sentence) for sentence in true_labels_proto])\n",
        "predicted_labels = np.array([sentence['z'] for sentence in filtered_json_content])\n",
        "print(f\"Mapping input set: {set(predicted_labels).union(set(true_labels))}\")\n",
        "\n",
        "'''drop_future_work = (true_labels != 'future_work') & (predicted_labels != 'future_work')\n",
        "print(f\"Non future_work entries: {drop_future_work.sum()}\")\n",
        "true_labels = true_labels[drop_future_work]\n",
        "predicted_labels = predicted_labels[drop_future_work]'''\n",
        "\n",
        "mapping = lambda s: {\n",
        "            'differences': 'result',\n",
        "            'similarities': 'result',\n",
        "            'motivation': 'background',\n",
        "            'extends':'method',\n",
        "            'uses': 'method',\n",
        "            'future_work':'background',\n",
        "            'background': 'background'}.get(s) or s\n",
        "\n",
        "\n",
        "true_labels = np.array(list(map(mapping, true_labels.tolist())))\n",
        "predicted_labels = np.array(list(map(mapping, predicted_labels.tolist())))\n",
        "\n",
        "\n",
        "\n",
        "print(f\"Mapping output set: {set(predicted_labels)}\")\n",
        "print(f\"Finally result size: {len(predicted_labels)}\")\n",
        "print(f\"Missing original sentence for {len(list(filter(lambda s: len(s['x']) == 0, json_content)))}\")"
      ]
    },
    {
      "cell_type": "code",
      "execution_count": 7,
      "metadata": {
        "colab": {
          "base_uri": "https://localhost:8080/",
          "height": 587
        },
        "id": "ga91pls6M5ab",
        "outputId": "422e87d9-347c-4d20-f7c4-03b67babfbb4"
      },
      "outputs": [
        {
          "data": {
            "image/png": "[encoded data removed]",
            "text/plain": [
              "<Figure size 800x600 with 2 Axes>"
            ]
          },
          "metadata": {},
          "output_type": "display_data"
        }
      ],
      "source": [
        "#cm = confusion_matrix(true_labels, predicted_labels)\n",
        "cm = confusion_matrix(true_labels, predicted_labels, normalize = 'true').round(2)\n",
        "perm = [0,1,2]\n",
        "\n",
        "cm = cm[perm][:, perm]\n",
        "xticks = np.unique(true_labels)[perm]\n",
        "yticks = np.unique(predicted_labels)[perm]\n",
        "\n",
        "\n",
        "# Plot confusion matrix\n",
        "plt.figure(figsize=(8, 6))\n",
        "sns.set(font_scale=1.4)  # Adjust font size\n",
        "sns.heatmap(cm, annot=True, fmt='g', cmap='Reds', xticklabels=xticks, yticklabels=yticks)\n",
        "plt.xlabel('Predicted labels')\n",
        "plt.ylabel('True labels')\n",
        "plt.title('Confusion Matrix')\n",
        "plt.show()"
      ]
    },
    {
      "cell_type": "code",
      "execution_count": null,
      "metadata": {
        "colab": {
          "base_uri": "https://localhost:8080/",
          "height": 587
        },
        "id": "OQBkmUgkK0OF",
        "outputId": "5e975ce2-0a8b-43ed-eedf-3c32d78d1aff"
      },
      "outputs": [],
      "source": []
    },
    {
      "cell_type": "code",
      "execution_count": 8,
      "metadata": {
        "colab": {
          "base_uri": "https://localhost:8080/",
          "height": 190
        },
        "id": "sp0-qc6QTF-h",
        "outputId": "78b60f64-dea6-40a1-85db-bde747afd298"
      },
      "outputs": [
        {
          "name": "stdout",
          "output_type": "stream",
          "text": [
            "[ True  True  True False]\n"
          ]
        },
        {
          "ename": "ValueError",
          "evalue": "The truth value of an array with more than one element is ambiguous. Use a.any() or a.all()",
          "output_type": "error",
          "traceback": [
            "\u001b[0;31m---------------------------------------------------------------------------\u001b[0m",
            "\u001b[0;31mValueError\u001b[0m                                Traceback (most recent call last)",
            "Cell \u001b[0;32mIn[8], line 6\u001b[0m\n\u001b[1;32m      2\u001b[0m ar2 \u001b[38;5;241m=\u001b[39m np\u001b[38;5;241m.\u001b[39marray([\u001b[38;5;28;01mTrue\u001b[39;00m, \u001b[38;5;28;01mFalse\u001b[39;00m, \u001b[38;5;28;01mTrue\u001b[39;00m, \u001b[38;5;28;01mFalse\u001b[39;00m])\n\u001b[1;32m      5\u001b[0m \u001b[38;5;28mprint\u001b[39m(ar1 \u001b[38;5;241m|\u001b[39m ar2)\n\u001b[0;32m----> 6\u001b[0m \u001b[38;5;28mprint\u001b[39m(\u001b[43mar1\u001b[49m\u001b[43m \u001b[49m\u001b[38;5;129;43;01mor\u001b[39;49;00m\u001b[43m \u001b[49m\u001b[43mar2\u001b[49m)\n",
            "\u001b[0;31mValueError\u001b[0m: The truth value of an array with more than one element is ambiguous. Use a.any() or a.all()"
          ]
        }
      ],
      "source": [
        "ar1 = np.array([True, True, False, False])\n",
        "ar2 = np.array([True, False, True, False])\n",
        "\n",
        "\n",
        "print(ar1 | ar2)\n",
        "print(ar1 or ar2)"
      ]
    },
    {
      "cell_type": "code",
      "execution_count": null,
      "metadata": {
        "id": "rmsvIo9hLOOi"
      },
      "outputs": [],
      "source": []
    }
  ],
  "metadata": {
    "accelerator": "GPU",
    "colab": {
      "gpuType": "T4",
      "provenance": []
    },
    "kernelspec": {
      "display_name": "Python 3",
      "name": "python3"
    },
    "language_info": {
      "codemirror_mode": {
        "name": "ipython",
        "version": 3
      },
      "file_extension": ".py",
      "mimetype": "text/x-python",
      "name": "python",
      "nbconvert_exporter": "python",
      "pygments_lexer": "ipython3",
      "version": "3.12.3"
    }
  },
  "nbformat": 4,
  "nbformat_minor": 0
}
