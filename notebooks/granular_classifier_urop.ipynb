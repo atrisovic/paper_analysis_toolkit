{
 "cells": [
  {
   "cell_type": "code",
   "execution_count": 1,
   "metadata": {},
   "outputs": [
    {
     "name": "stderr",
     "output_type": "stream",
     "text": [
      "/Users/Alex/Desktop/paper_analysis_toolkit/.venv/lib/python3.12/site-packages/tqdm/auto.py:21: TqdmWarning: IProgress not found. Please update jupyter and ipywidgets. See https://ipywidgets.readthedocs.io/en/stable/user_install.html\n",
      "  from .autonotebook import tqdm as notebook_tqdm\n"
     ]
    }
   ],
   "source": [
    "from citations.CitationClassifier import CitationClassifier\n",
    "from documents.Corpus import Corpus\n",
    "from citations.Agglomerator import RankedClassificationCounts\n",
    "from typing import List, Set\n",
    "import regex as re\n",
    "from config import *\n",
    "import json\n",
    "import numpy as np\n",
    "import matplotlib.pyplot as plt\n",
    "import pickle\n",
    "import pandas as pd\n",
    "\n",
    "\n",
    "markdown_path = '/Users/Alex/Library/CloudStorage/GoogleDrive-alexjfogelson@gmail.com/My Drive/FutureTech/workspace/true_urop_task2_markdown/'\n",
    "#markdown_path = '/Users/Alex/Desktop/paper_analysis_toolkit/data/Markdown'"
   ]
  },
  {
   "cell_type": "code",
   "execution_count": 2,
   "metadata": {},
   "outputs": [
    {
     "name": "stderr",
     "output_type": "stream",
     "text": [
      "100%|██████████| 467/467 [00:03<00:00, 128.89it/s]\n"
     ]
    }
   ],
   "source": [
    "corpus = Corpus(markdown_path, \n",
    "                    extensions = ['mmd'])"
   ]
  },
  {
   "cell_type": "code",
   "execution_count": 3,
   "metadata": {},
   "outputs": [],
   "source": [
    "with open(FOUNDATION_MODELS_PATH, 'r') as f:\n",
    "    foundational_models_json = json.load(f)\n",
    "    keys_, titles_, ids_ = list(zip(*[(key, data['title'].replace('\\\\infty', '∞'), data['paperId']) for key, data in foundational_models_json.items()]))\n",
    "    keys_, titles_, ids_ = list(keys_), list(titles_), list(ids_)\n",
    "\n",
    "foundation_model_filter = [True for id in ids_]\n",
    "keys, titles = np.array(keys_)[foundation_model_filter].tolist(), np.array(titles_)[foundation_model_filter].tolist()"
   ]
  },
  {
   "cell_type": "markdown",
   "metadata": {},
   "source": [
    "# Classifying based on specific words\n",
    "\n",
    "Currently looking for the following four phrases (or variations):\n",
    "\n",
    "1) fine-tuning\n",
    "2) n-shot learning\n",
    "3) prompt engineering\n",
    "4) chain-of-thought reasoning\n",
    "5) retrieval augmented generation\n",
    "   \n",
    "We currently only take the top ranking example, just so we can look at some preliminary results."
   ]
  },
  {
   "cell_type": "code",
   "execution_count": 4,
   "metadata": {},
   "outputs": [],
   "source": [
    "class GranularCitationClassier(CitationClassifier):\n",
    "    def __init__(self):\n",
    "        pass\n",
    "    \n",
    "    def classify_text(self, text: str, labels: Set[str]) -> str:\n",
    "        not_in_methods = labels.intersection({'background', 'result', 'introduction'})\n",
    "        in_methods = 'method' in labels\n",
    "        \n",
    "        if not in_methods:\n",
    "            return 'none'\n",
    "\n",
    "        fine_tune = bool(re.findall(r'fine(ly)?[\\-\\s]?tun', text, re.IGNORECASE))\n",
    "        n_shot = bool(re.findall(r'(?:few|(?<!\\d)\\d|\\sn|one|two|three|four|five|zero)(?:\\-|\\s{1})shot', text, re.IGNORECASE))\n",
    "        prompt = bool(re.findall(r'prompt(ing)?[\\-\\s]?(?:engineer|tun)', text, re.IGNORECASE))\n",
    "        cot = bool(re.findall(r'chain[s]?[\\-\\s]?of[\\-\\s]?thought', text, re.IGNORECASE) + \n",
    "                    re.findall(r'(?:\\s+|^)cot(?:[\\.\\!\\?,\\-\\s]+|$)', text, re.IGNORECASE) +\n",
    "                    re.findall(r'step[\\-\\s]?by[\\-\\s]?step( reason)?', text, re.IGNORECASE)\n",
    "        )\n",
    "        rag = bool(re.findall(r'(retrieval[\\-\\s]?(augment(?:ed)?|enhance(?:d)?|base(?:d)?)[\\-\\s]?generat)', text, re.IGNORECASE) + \n",
    "                re.findall(r'(?:\\s+|^)rag(?:[\\.\\!\\?,\\-\\s]+|$)', text, re.IGNORECASE)\n",
    "                    )\n",
    "\n",
    "        \n",
    "        mapping = {'fine-tune': fine_tune, \n",
    "                'n-shot': n_shot, \n",
    "                'prompt-eng': prompt,\n",
    "                'cot': cot,\n",
    "                'rag': rag}\n",
    "        \n",
    "        for classification in self.getClassificationOrdering():\n",
    "            if mapping.get(classification):\n",
    "                return classification\n",
    "        \n",
    "        return 'none'\n",
    "        \n",
    "    \n",
    "    def getClassificationOrdering(self) -> List[str]:\n",
    "        return ['fine-tune', 'n-shot', 'prompt-eng', 'cot', 'rag', 'none']\n",
    "    \n",
    "    def getClassificationRanking(self, result):\n",
    "        return  self.getClassificationOrdering().index(result)"
   ]
  },
  {
   "cell_type": "code",
   "execution_count": 5,
   "metadata": {},
   "outputs": [
    {
     "name": "stderr",
     "output_type": "stream",
     "text": [
      "100%|██████████| 953/953 [00:39<00:00, 24.17it/s]\n"
     ]
    }
   ],
   "source": [
    "classifier = GranularCitationClassier()\n",
    "\n",
    "corpus.findAllPaperRefsAllTitles(titles = titles, keys = keys, classifier = classifier)\n"
   ]
  },
  {
   "cell_type": "code",
   "execution_count": 6,
   "metadata": {},
   "outputs": [],
   "source": [
    "textualRefs = corpus.getAllTextualReferences(as_dict=True)"
   ]
  },
  {
   "cell_type": "markdown",
   "metadata": {},
   "source": [
    "# Example Sentences Found\n",
    "\n",
    "We want to get a sense for how good the classifications are, so some examples are given."
   ]
  },
  {
   "cell_type": "code",
   "execution_count": 7,
   "metadata": {},
   "outputs": [
    {
     "data": {
      "text/plain": [
       "'columns = [\\'cot\\', \\'fine-tune\\', \\'n-shot\\', \\'prompt-eng\\', \\'rag\\']\\nfor column in columns:\\n    all_sentences = [f\"SECTION LABELS: {ref[\\'labels\\']}\\n{ref[\\'sentence\\']}\" for ref in textualRefs if ref[\\'classification\\'] == column]\\n    seperator = \\'\\n\\n\\' + \\'=\\' * 400 + \\'\\n\\n\\'\\n    \\n    content = seperator.join(all_sentences)\\n    \\n    with open(f\\'{column}_examples.txt\\', \\'w\\') as f:\\n        f.write(seperator.join(all_sentences))'"
      ]
     },
     "execution_count": 7,
     "metadata": {},
     "output_type": "execute_result"
    }
   ],
   "source": [
    "'''columns = ['cot', 'fine-tune', 'n-shot', 'prompt-eng', 'rag']\n",
    "for column in columns:\n",
    "    all_sentences = [f\"SECTION LABELS: {ref['labels']}\\n{ref['sentence']}\" for ref in textualRefs if ref['classification'] == column]\n",
    "    seperator = '\\n\\n' + '=' * 400 + '\\n\\n'\n",
    "    \n",
    "    content = seperator.join(all_sentences)\n",
    "    \n",
    "    with open(f'{column}_examples.txt', 'w') as f:\n",
    "        f.write(seperator.join(all_sentences))'''"
   ]
  },
  {
   "cell_type": "markdown",
   "metadata": {},
   "source": [
    "# Hist over all sentences\n",
    "\n",
    "Looking at all textual references, we get the following distribution, ignoring NONE classifications."
   ]
  },
  {
   "cell_type": "code",
   "execution_count": 35,
   "metadata": {},
   "outputs": [
    {
     "data": {
      "text/plain": [
       "(array([61.,  0.,  0.,  0.,  0., 63.,  0.,  0.,  0.,  2.]),\n",
       " array([0. , 0.2, 0.4, 0.6, 0.8, 1. , 1.2, 1.4, 1.6, 1.8, 2. ]),\n",
       " <BarContainer object of 10 artists>)"
      ]
     },
     "execution_count": 35,
     "metadata": {},
     "output_type": "execute_result"
    },
    {
     "data": {
      "image/png": "[encoded data removed]",
      "text/plain": [
       "<Figure size 640x480 with 1 Axes>"
      ]
     },
     "metadata": {},
     "output_type": "display_data"
    }
   ],
   "source": [
    "df = pd.DataFrame(textualRefs)\n",
    "mask = df['classification'] != 'none'\n",
    "plt.hist(df[mask]['classification'])"
   ]
  },
  {
   "cell_type": "markdown",
   "metadata": {},
   "source": [
    "# Merging sentences with Papers\n",
    "\n",
    "For each paper, we take the sentence with the best ranked classification and use that for the entire paper. We then group by the foundation model, counting the number of papers with each classification. Those are the results below."
   ]
  },
  {
   "cell_type": "code",
   "execution_count": 10,
   "metadata": {},
   "outputs": [
    {
     "data": {
      "text/plain": [
       "<BarContainer object of 3 artists>"
      ]
     },
     "execution_count": 10,
     "metadata": {},
     "output_type": "execute_result"
    },
    {
     "data": {
      "image/png": "[encoded data removed]",
      "text/plain": [
       "<Figure size 640x480 with 1 Axes>"
      ]
     },
     "metadata": {},
     "output_type": "display_data"
    }
   ],
   "source": [
    "agglomerator = RankedClassificationCounts()\n",
    "classification_counts = corpus.agglomerateAllTextualReferences(agglomerator=agglomerator)\n",
    "columns = ['cot', 'fine-tune', 'n-shot']\n",
    "\n",
    "total_counts = classification_counts[columns].sum(axis = 0).to_numpy()\n",
    "\n",
    "plt.bar(columns, total_counts)"
   ]
  },
  {
   "cell_type": "code",
   "execution_count": 27,
   "metadata": {},
   "outputs": [
    {
     "data": {
      "text/plain": [
       "<BarContainer object of 4 artists>"
      ]
     },
     "execution_count": 27,
     "metadata": {},
     "output_type": "execute_result"
    },
    {
     "data": {
      "image/png": "[encoded data removed]",
      "text/plain": [
       "<Figure size 640x480 with 1 Axes>"
      ]
     },
     "metadata": {},
     "output_type": "display_data"
    }
   ],
   "source": [
    "model_name = '64_llama-65b'\n",
    "columns = ['cot', 'fine-tune', 'n-shot', 'none']\n",
    "values = classification_counts[classification_counts['modelId'] == model_name][columns].to_numpy()[0]\n",
    "plt.bar(columns, values)"
   ]
  },
  {
   "cell_type": "markdown",
   "metadata": {},
   "source": []
  },
  {
   "cell_type": "code",
   "execution_count": 30,
   "metadata": {},
   "outputs": [
    {
     "data": {
      "text/plain": [
       "['1021_gpt3-6.7b_+_mup',\n",
       " '1039_instructgpt',\n",
       " '1157_igpt-xl',\n",
       " '189_gpt3-6.7b_(rerun_of_original)',\n",
       " '18_gpt',\n",
       " '417_gpt-3_175b_(davinci)',\n",
       " '428_gpt-2_(1.5b)',\n",
       " '504_monarch-gpt-2-medium',\n",
       " '566_gpt-4',\n",
       " '71_bloomberggpt',\n",
       " '741_gpt-neox-20b',\n",
       " '7_igpt-l',\n",
       " '993_gpt-2-medium+pixelfly']"
      ]
     },
     "execution_count": 30,
     "metadata": {},
     "output_type": "execute_result"
    }
   ],
   "source": [
    "# one line to help find exact titles\n",
    "search_term = 'gpt'\n",
    "list(filter(lambda s: search_term in s, classification_counts['modelId']))"
   ]
  },
  {
   "cell_type": "markdown",
   "metadata": {},
   "source": [
    "# Regex Testing"
   ]
  },
  {
   "cell_type": "markdown",
   "metadata": {},
   "source": [
    "### Fine tuning"
   ]
  },
  {
   "cell_type": "code",
   "execution_count": 14,
   "metadata": {},
   "outputs": [],
   "source": [
    "variations = [\"fine-tuning\",\"fine tuning\",\"finetuning\",\"fine tune\",\"fine-tune\",\"fine tuned\",\"fine-tuned\",\"finely tuned\",\"finely-tuned\",\"fine tunings\",\"fine-tunings\",\"fine tunes\",\"fine-tunes\",\"fine tuner\",\"fine-tuner\",\"fine tuners\",\"fine-tuners\"]\n",
    "\n",
    "matched = list(filter(None, map(lambda text: \n",
    "                                        re.findall(r'fine(ly)?[\\-\\s]?tun', text, re.IGNORECASE),                                    \n",
    "                                        variations)))\n",
    "\n",
    "unmatched = [variation for variation, matches in zip(variations, matched) if not matches]\n",
    "\n",
    "assert(len(unmatched) == 0), unmatched\n"
   ]
  },
  {
   "cell_type": "markdown",
   "metadata": {},
   "source": [
    "### Few shot"
   ]
  },
  {
   "cell_type": "code",
   "execution_count": 15,
   "metadata": {},
   "outputs": [],
   "source": [
    "variations = ['few-shot', 'Few-shot', 'few shot', 'Few Shot', '1-shot', 'one-shot', 'One-shot', 'one shot', 'One Shot', '2-shot', 'two-shot', 'Two-shot', 'two shot', 'Two Shot', '3-shot', 'three-shot', 'Three-shot', 'three shot', 'Three Shot', '4-shot', 'four-shot', 'Four-shot', 'four shot', 'Four Shot', '5-shot', 'five-shot', 'Five-shot', 'five shot', 'Five Shot', '0-shot', 'zero-shot', 'Zero-shot', 'zero shot', 'Zero Shot']\n",
    "\n",
    "matched = list(map(lambda text: \n",
    "                re.findall(r'(?:few|(?<!\\d)\\d|\\sn|one|two|three|four|five|zero)(?:\\-|\\s{1})shot', text, re.IGNORECASE),\n",
    "                variations\n",
    "))\n",
    "\n",
    "unmatched = [variation for variation, matches in zip(variations, matched) if not matches]\n",
    "\n",
    "assert(len(unmatched) == 0), unmatched"
   ]
  },
  {
   "cell_type": "markdown",
   "metadata": {},
   "source": [
    "### Prompt Engineering"
   ]
  },
  {
   "cell_type": "code",
   "execution_count": 16,
   "metadata": {},
   "outputs": [],
   "source": [
    "variations = [\"prompt engineering\",\"prompt-engineering\",\"promptengineering\",\"prompt engineer\",\"prompt-engineer\",\"promptengineer\",\"prompt engineered\",\"prompt-engineered\",\"promptengineered\",\"prompt engineers\",\"prompt-engineers\",\"promptengineers\",\"prompting engineer\",\"prompting-engineer\",\"promptingengineer\",\"prompting engineering\",\"prompting-engineering\",\"promptingengineering\"]\n",
    "matched = list(map(lambda text: \n",
    "                re.findall(r'prompt(ing)?[\\-\\s]?(?:engineer|tun)', text, re.IGNORECASE),    \n",
    "                variations))\n",
    "\n",
    "unmatched = [variation for variation, matches in zip(variations, matched) if not matches]\n",
    "\n",
    "assert(len(unmatched) == 0), unmatched"
   ]
  },
  {
   "cell_type": "markdown",
   "metadata": {},
   "source": [
    "### Chain of Thought"
   ]
  },
  {
   "cell_type": "code",
   "execution_count": 17,
   "metadata": {},
   "outputs": [],
   "source": [
    "variations = ['cot','cOt','CoT','COT','chain of thought','Chain of Thought','chain-of-thought','Chain-of-Thought','step-by-step reasoning', 'Step-by-Step Reasoning','step by step reasoning','Step by Step Reasoning']\n",
    "\n",
    "matched = list(map(lambda text: \n",
    "                re.findall(r'chain[s]?[\\-\\s]?of[\\-\\s]?thought', text, re.IGNORECASE) + \n",
    "                re.findall(r'(?:\\s+|^)cot(?:[\\.\\!\\?,\\-\\s]+|$)', text, re.IGNORECASE) +\n",
    "                re.findall(r'step[\\-\\s]?by[\\-\\s]?step( reason)?', text, re.IGNORECASE),\n",
    "               variations\n",
    "))\n",
    "\n",
    "unmatched = [variation for variation, matches in zip(variations, matched) if not matches]\n",
    "\n",
    "assert(len(unmatched) == 0), unmatched"
   ]
  },
  {
   "cell_type": "markdown",
   "metadata": {},
   "source": [
    "### RAG"
   ]
  },
  {
   "cell_type": "code",
   "execution_count": 18,
   "metadata": {},
   "outputs": [],
   "source": [
    "variations = ['retrieval augmented generation', 'Retrieval Augmented Generation', 'retrieval-augmented generation', 'Retrieval-Augmented Generation', 'retrieval augmented generations', 'Retrieval Augmented Generations', 'retrieval-augmented generations', 'Retrieval-Augmented Generations', 'retrieval enhanced generation', 'Retrieval Enhanced Generation', 'retrieval-enhanced generation', 'Retrieval-Enhanced Generation', 'retrieval enhanced generations', 'Retrieval Enhanced Generations', 'retrieval-enhanced generations', 'Retrieval-Enhanced Generations', 'retrieval-based generation', 'Retrieval-Based Generation', 'retrieval based generation', 'Retrieval Based Generation', 'retrieval-based generations', 'Retrieval-Based Generations', 'retrieval based generations', 'Retrieval Based Generations', 'RAG', 'rag', 'Rag', 'rag-based', 'rag is']\n",
    "\n",
    "matched = list(map(lambda text: \n",
    "                re.findall(r'(retrieval[\\-\\s]?(augment(?:ed)?|enhance(?:d)?|base(?:d)?)[\\-\\s]?generat)', text, re.IGNORECASE) + \n",
    "                re.findall(r'(?:\\s+|^)rag(?:[\\.\\!\\?,\\-\\s]+|$)', text, re.IGNORECASE)\n",
    "                ,\n",
    "                variations\n",
    "))\n",
    "\n",
    "unmatched = [variation for variation, matches in zip(variations, matched) if not matches]\n",
    "\n",
    "assert(len(unmatched) == 0), unmatched\n"
   ]
  },
  {
   "cell_type": "markdown",
   "metadata": {},
   "source": [
    "## Single Sentence Classification\n",
    "\n",
    "Helpful for looking at single sentences"
   ]
  },
  {
   "cell_type": "code",
   "execution_count": 19,
   "metadata": {},
   "outputs": [
    {
     "data": {
      "text/plain": [
       "'cot'"
      ]
     },
     "execution_count": 19,
     "metadata": {},
     "output_type": "execute_result"
    }
   ],
   "source": [
    "text = 'we adopt two typical models for both types and a state-of-art system action prediction method, co-gen [70]: (i) following [25],[34],[67], we construct a multi-label classification model by using a bert encoder to encode the context and feeding the [cls] token on an mlp followed by sigmoid activation function to perform binary classification for each action; (ii) following [28],[34],<cite>[52]</cite>,[63], we construct a sequence generation model by using bert to encode the context and feeding the [cls] token to a gru decoder to sequentially decode actions step by step; and (iii) co-gen is a sequence generation model, and we use co-gen (action prediction) (see section 5) to generate actions.'\n",
    "classification = GranularCitationClassier().classify_text(text = text, labels = {'method'})\n",
    "classification"
   ]
  },
  {
   "cell_type": "markdown",
   "metadata": {},
   "source": [
    "## In case of emergency\n",
    "\n",
    "If we have to restart the notebook, we don't want to wait for it to classify everything again."
   ]
  },
  {
   "cell_type": "code",
   "execution_count": 20,
   "metadata": {},
   "outputs": [],
   "source": [
    "with open('pickle/corpus.pkl', 'wb') as f:\n",
    "    pickle.dump(corpus, f)"
   ]
  },
  {
   "cell_type": "code",
   "execution_count": 21,
   "metadata": {},
   "outputs": [],
   "source": [
    "with open('pickle/corpus.pkl', 'rb') as f:\n",
    "    corpus = pickle.load(f)"
   ]
  },
  {
   "cell_type": "code",
   "execution_count": null,
   "metadata": {},
   "outputs": [],
   "source": []
  }
 ],
 "metadata": {
  "kernelspec": {
   "display_name": ".venv",
   "language": "python",
   "name": "python3"
  },
  "language_info": {
   "codemirror_mode": {
    "name": "ipython",
    "version": 3
   },
   "file_extension": ".py",
   "mimetype": "text/x-python",
   "name": "python",
   "nbconvert_exporter": "python",
   "pygments_lexer": "ipython3",
   "version": "3.12.3"
  }
 },
 "nbformat": 4,
 "nbformat_minor": 2
}
